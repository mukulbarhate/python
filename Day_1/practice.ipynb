{
 "cells": [
  {
   "cell_type": "markdown",
   "metadata": {},
   "source": [
    "## **Introduction to Python**\n"
   ]
  },
  {
   "cell_type": "markdown",
   "metadata": {},
   "source": [
    "## **What is Python?**\n",
    "\n"
   ]
  },
  {
   "cell_type": "markdown",
   "metadata": {},
   "source": [
    "- Python is compiled as well as interpreted programming language by Guido van Rossum.\n",
    "- It is also an open source programming language.\n",
    "- It has got its set of rules and syntaxes.\n",
    "- But we can never download Python in our computers. \n",
    "- We all downloaded Python compilers and interpreters which are available in Python implementations."
   ]
  },
  {
   "cell_type": "markdown",
   "metadata": {},
   "source": [
    "### **Python Implementation**"
   ]
  },
  {
   "cell_type": "markdown",
   "metadata": {},
   "source": [
    "**Python implementation = \"Python Compiler + Python interpreter\"**\n",
    "- Python implementation means tools which you need to work in Python and the tools are \n",
    "    1. Python Compiler\n",
    "    2. Python Interpreter\n",
    "\n"
   ]
  },
  {
   "cell_type": "markdown",
   "metadata": {},
   "source": [
    "#### **About Python implementations and platform independence**"
   ]
  },
  {
   "cell_type": "markdown",
   "metadata": {},
   "source": [
    "- Python is an interpreted language, which means that Python code is not compiled into machine code before execution. Instead, Python code is compiled into bytecode, which is then interpreted by the Python interpreter at runtime. This bytecode is platform-independent, allowing Python code to be executed on any platform with a compatible Python interpreter installed.\n",
    "\n",
    "However, Python implementations may use different methods for bytecode execution:\n",
    "\n",
    "- CPython: The most widely used implementation of Python, CPython, compiles Python source code into bytecode (.pyc files) and then executes this bytecode using a virtual machine. While the bytecode is platform-independent, the CPython interpreter itself is platform-specific, meaning you need different versions of CPython for different operating systems.\n",
    "\n",
    "- Jython: Jython is an alternative implementation of Python that compiles Python code into Java bytecode, allowing Python code to run on the Java Virtual Machine (JVM). This means that Jython bytecode is not only platform-independent but also benefits from the portability of the JVM.\n",
    "\n",
    "- IronPython: IronPython is another alternative implementation of Python that targets the Microsoft .NET Framework and the Mono framework. It compiles Python code into Intermediate Language (IL) code, which is then executed by the Common Language Runtime (CLR) or Mono runtime. Like Jython, IronPython benefits from the platform independence of the .NET Framework and Mono.\n",
    "\n",
    "- In summary, while Python code itself is platform-independent, the interpreter or runtime environment used to execute the code may be platform-specific. Different implementations of Python (e.g., CPython, Jython, IronPython) may target different platforms and use different bytecode execution mechanisms. However, Python code written for one implementation should generally be portable across platforms, provided that the necessary interpreter or runtime environment is available"
   ]
  },
  {
   "cell_type": "markdown",
   "metadata": {},
   "source": [
    "#### **About Python Implementations**"
   ]
  },
  {
   "cell_type": "markdown",
   "metadata": {},
   "source": [
    "\n",
    "- Python - is a language which has got its set of rules and syntaxes.\n",
    "\n",
    "- But we can never download Python in our computers. We all download Python compilers and interpreters. Python is compiled as well as interpreted language. \n",
    "Non technically you may say that you have downloaded Python but technically you download \"Python compiler + Python interpreter\".\n",
    "Instead of calling \"Python compiler + Python interpreter\" , we call it as \"Python Implementation\".\n",
    "\n",
    "That means\n",
    "Python implementation = \"Python compiler + Python interpreter\"\n",
    "\n",
    "So Python implementation means tools which you need to work in Python and the tools are \n",
    "a) Python Compiler\n",
    "b) Python Interpreter\n",
    "\n",
    "How many Implementations of Python are available?\n",
    "\tmore than 26 implementations are available today.\n",
    "\n",
    "Out of 26 , 4 implementations are popular.\n",
    "CPython  [ Most popular ]  developed in C   [ This is the official download available on \"python.org\" site ]\n",
    "Jython - developed in Java\n",
    "IronPython - developed in dot net\n",
    "PyPy - developed in Python\n",
    "\n",
    "\n",
    "99% places Cpython is used.\n",
    "\n",
    "All these ( Cpython, Jython, IronPython ) have \"Compiler+Interpreter\".\n",
    "\n",
    "PyPy has got 3 translators ( Compiler + Interpreter + JITC )\n",
    "\twhat is JITC?\n",
    "\t\tJust In Time Compiler\n",
    "\n",
    "JIT increases interpreter's speed of execution.\n",
    "That means out of 26 implementations the fastest implementation is \"PyPy\". It is 4 to 5 times faster than other implementations.\n",
    "\n",
    "Then why don't we learn \"PyPy\", why do we learn \"CPython\" ?\n",
    "\tBecause PyPy is not an official version from PSF. Whenever PSF does anything new , any updation, it does it in \"CPython\". It means we get all new features in \"CPython\".\n",
    "\n",
    "The Python Software Foundation is an organization devoted to advancing open source technology related to Python programming language.\n",
    "\n",
    "\n",
    "But then why Python has got so many implementations?\n",
    "\tPython is an extensible language. It means from Python code you can call C/C++/Java/Dot Net code.\n",
    "Tomorrow suppose you create a project in Python and you would like to integrate with Java for example.\n",
    "So how will you do that?  You can do that by using \"Jython\". Jython can talk to Java.  If you want to integrate with C language, then you will have to use \"CPython\". CPython can integrate with C programming language. If you want to integrate Python code with Dot Net, then you will have to use \"IronPython\".\n",
    "\n",
    "\n",
    "\n",
    "Does that mean when you have worked on CPython, in order to work with Jython you will have to learn different syntaxes?\n",
    "\tNo , whether CPython or Jython or any other implementation, syntaxes are same , the only difference is CPython can interact with C programming language , Jython can interact with Java and so on.\n",
    "\n",
    "Most imp.\n",
    "\tOut of these 26 Python implementations only \"CPython\" is PSF's product. Other implementations are made by other companies as Python is an open source product. That means tomorrow we can also make our Python implementations.\n",
    "\n",
    "CPython is the most imp. implementations among these. Whenever any new feature , upgradation comes , it comes in CPython and then other implementations start using it.\n",
    "\n",
    "So if you want use all latest features in your code , you need to download CPython."
   ]
  },
  {
   "cell_type": "markdown",
   "metadata": {},
   "source": [
    "#### **How to check Python Implementation**"
   ]
  },
  {
   "cell_type": "code",
   "execution_count": 1,
   "metadata": {},
   "outputs": [
    {
     "name": "stdout",
     "output_type": "stream",
     "text": [
      "CPython\n"
     ]
    }
   ],
   "source": [
    "import platform\n",
    "print(platform.python_implementation())"
   ]
  },
  {
   "cell_type": "markdown",
   "metadata": {},
   "source": [
    "#### **Is python compiled or interpreted language**"
   ]
  },
  {
   "cell_type": "markdown",
   "metadata": {},
   "source": [
    "Python program is first compiled and then interpreted. The compilation part is hidden from the programmer thus, many programmers believe that it is an interpreted language. The compilation part is done first when we execute our code and this will generate byte code and internally this byte code gets converted by the python virtual machine(PVM) according to the underlying platform(machine+operating system).\n",
    "Now the question is – if there is any proof that python first compiles the program internally and then run the code via interpreter?\n",
    "The answer is yes! and note this compiled part is get deleted by the python(as soon as you execute your code) just it does not want programmers to get into complexity."
   ]
  },
  {
   "cell_type": "markdown",
   "metadata": {},
   "source": [
    "#### **PSF info**"
   ]
  },
  {
   "cell_type": "markdown",
   "metadata": {},
   "source": [
    "The Python Software Foundation is an organization devoted to advancing open source technology related to the Python programming language."
   ]
  },
  {
   "cell_type": "markdown",
   "metadata": {},
   "source": [
    "#### **Python compiled or interpreted language**"
   ]
  },
  {
   "cell_type": "markdown",
   "metadata": {},
   "source": [
    "Python is both a compiled and interpreted language, but it leans more towards interpretation.\n",
    "\n",
    "Here's how it works:\n",
    "\n",
    "Compilation: When you run a Python script or enter commands in the interactive interpreter, the Python source code is first compiled into bytecode. This bytecode is not machine code but rather a low-level representation of the source code that is platform-independent. This compilation step is performed by the Python interpreter.\n",
    "\n",
    "Interpretation: After compilation, the bytecode is executed by the Python interpreter. The interpreter reads the bytecode instructions one by one and executes them, producing the desired output. This interpretation process happens at runtime, meaning that the Python code is executed on-the-fly as it is being interpreted.\n",
    "\n",
    "So, Python code is compiled into bytecode before execution, but this bytecode is then interpreted by the Python runtime environment. This is different from languages like C or C++, where source code is compiled directly into machine code before execution."
   ]
  },
  {
   "cell_type": "markdown",
   "metadata": {},
   "source": [
    "#### **Python2 vs Python3**\n"
   ]
  },
  {
   "cell_type": "markdown",
   "metadata": {},
   "source": [
    "Python2\n",
    "\tprint \"Hello World\"\n",
    "\n",
    "Python3\n",
    "\tprint(\"Hello World\")\n",
    "\n",
    "so what's the difference?\n",
    "\tin Python2 \"print\" was a statement.\n",
    "\tin Python3 \"print\" is a function.\n",
    "\n",
    "\n",
    "Python2\n",
    "\t5/2\n",
    "\t\tans.  2\n",
    "\n",
    "Python3\n",
    "\t5/2\n",
    "\t\tans. 2.5\n",
    "\n",
    "\n",
    "The way of accepting user input has also changed and like this there are many changes.\n"
   ]
  },
  {
   "cell_type": "markdown",
   "metadata": {},
   "source": [
    "#### **Single Line and Multiline Comments in Python**"
   ]
  },
  {
   "cell_type": "code",
   "execution_count": null,
   "metadata": {},
   "outputs": [],
   "source": [
    "# This is single line comment\n",
    "\n",
    "\"\"\"\n",
    "This is called as\n",
    "multiline comment\n",
    "\"\"\"\n",
    "print(5/2)\n",
    "print(\"hello\")\n"
   ]
  },
  {
   "cell_type": "markdown",
   "metadata": {},
   "source": [
    "#### **Swap two numbers without temporary variable in 3 ways**"
   ]
  },
  {
   "cell_type": "code",
   "execution_count": null,
   "metadata": {},
   "outputs": [],
   "source": [
    "x = 3\n",
    "y = 5\n",
    "x, y = y, x\n",
    "print(x)  # 5\n",
    "print(y)  # 3\n",
    "\n",
    "\n",
    "\n",
    "x = 3\n",
    "y = 5\n",
    "x = x + y  # x = 3 + 5 = 8\n",
    "y = x - y  # y = 8 - 5 = 3\n",
    "x = x - y  # x = 8 - 3 = 5\n",
    "print(x)  # 5\n",
    "print(y)  # 3\n",
    "\n",
    "\n",
    "\n",
    "x = 3        \t\t# 011\n",
    "y = 5\t\t\t# 101\n",
    "x = x ^ y\t\t# 011 ^ 101     110  i.e. x=6\n",
    "y = x ^ y\t\t# 110 ^ 101     011  i.e. y=3\n",
    "x = x ^ y\t\t# 110 ^ 011     101  i.e. x=5\n",
    "print(x)  # 5\n",
    "print(y)  # 3"
   ]
  },
  {
   "cell_type": "markdown",
   "metadata": {},
   "source": [
    "#### **What is PIP**"
   ]
  },
  {
   "cell_type": "markdown",
   "metadata": {},
   "source": [
    "PIP [Preferred Installer Program] is a package manager for Python packages, or modules."
   ]
  },
  {
   "cell_type": "markdown",
   "metadata": {},
   "source": [
    "#### **Why main Function is not required in Python**"
   ]
  },
  {
   "cell_type": "code",
   "execution_count": 2,
   "metadata": {},
   "outputs": [
    {
     "name": "stdout",
     "output_type": "stream",
     "text": [
      "first\n",
      "second\n",
      "third\n",
      "fourth\n",
      "fifth\n",
      "disp 1\n",
      "disp 2\n",
      "disp 3\n"
     ]
    }
   ],
   "source": [
    "# In Python, main function is not required because the Python interpreter executes from the top of the file unless a specific function is defined with the keyword \"def\".\n",
    "\n",
    "# e.g.\n",
    "\n",
    "\n",
    "print(\"first\")\n",
    "print(\"second\")\n",
    "print(\"third\")\n",
    "def disp():\n",
    "    print(\"disp 1\")\n",
    "    print(\"disp 2\")\n",
    "    print(\"disp 3\")\n",
    "print(\"fourth\")\n",
    "print(\"fifth\")\n",
    "# disp()\n"
   ]
  },
  {
   "cell_type": "markdown",
   "metadata": {},
   "source": [
    "### **Various Python Implementation**"
   ]
  },
  {
   "cell_type": "markdown",
   "metadata": {},
   "source": [
    "**Cpython**\n",
    "\n",
    "- The *default implementation* of the Python programming language is Cpython. As the name suggests Cpython is written in **C language**. \n",
    "- Cpython compiles the python source code into intermediate bytecode, which is executed by the Cpython virtual machine."
   ]
  },
  {
   "cell_type": "markdown",
   "metadata": {},
   "source": [
    "**Jython**\n",
    "\n",
    "- Jython is an implementation of the Python programming language that can run on the **Java platform**.\n",
    "- Jython compiles into *Java byte code*, which can then be run by *Java virtual machine*."
   ]
  },
  {
   "cell_type": "markdown",
   "metadata": {},
   "source": [
    "**IronPython**\n",
    "- A Python implementation written in **C# targeting Microsoft’s** .*NET framework*. Similar to Jython, it uses .Net Virtual Machine i.e Common Language Runtime."
   ]
  },
  {
   "cell_type": "markdown",
   "metadata": {},
   "source": [
    "**PyPy**\n",
    "- PyPy is an implementation of the Python programming language written in *Python*. “If you want your code to run *faster*, you should probably just use PyPy.”\n"
   ]
  },
  {
   "cell_type": "markdown",
   "metadata": {},
   "source": [
    "### **Interpreted or Compiled?**"
   ]
  },
  {
   "attachments": {
    "image-2.png": {
     "image/png": "[encoded data removed]"
    },
    "image-3.png": {
     "image/png": "[encoded data removed]"
    },
    "image-4.png": {
     "image/png": "[encoded data removed]"
    },
    "image.png": {
     "image/png": "[encoded data removed]"
    }
   },
   "cell_type": "markdown",
   "metadata": {},
   "source": [
    "- Python is considered as both compiled as well as interpreted language, as it involves a compilation step that converts the python code into **bytecode** which is stored with a *.pyc* extension that gets deleted once the program is executed.\n",
    "\n",
    "- **Bytecode** is also binary representation executed by virtual machine (not by CPU directly). The virtual machine (which is written different for different machines) converts binary instruction into a specific machine instruction.\n",
    "\n",
    "![image.png](attachment:image.png)\n",
    "\n",
    "![image-2.png](attachment:image-2.png)\n",
    "\n",
    "![image-3.png](attachment:image-3.png)\n",
    "\n",
    "![image-4.png](attachment:image-4.png)"
   ]
  },
  {
   "cell_type": "markdown",
   "metadata": {},
   "source": [
    "### **Various Application of Python**"
   ]
  },
  {
   "cell_type": "markdown",
   "metadata": {},
   "source": [
    "**AI & ML**\n",
    "- It is heavily used in Face recognition, music recommendation on youtube,medical data,Driverless Cars,Google's Speech Recognition etc.\n",
    "\n",
    "**Hacking**\n",
    "- \"Hackers\" generally develop \"small scripts\" and Python provides \"amazing performance\" for small programs.\n",
    "\n",
    "\n",
    "**Data Science**\n",
    "- you collect data from the business\n",
    "    with the help of that data you decide how will you grow your business in future. Numpy and Pandas are leading libraries of Data Science in Python.\n",
    "\n",
    "**Internet Of Things[IOT]**\n",
    "- Refers to the \"billions of physical devices\" around the world that are now connected to the internet, all collecting and sharing data."
   ]
  },
  {
   "cell_type": "markdown",
   "metadata": {},
   "source": [
    "### **Features of Python**"
   ]
  },
  {
   "attachments": {
    "image.png": {
     "image/png": "[encoded data removed]"
    }
   },
   "cell_type": "markdown",
   "metadata": {},
   "source": [
    "1. **Simple**\n",
    "2. **Dynamic Typed Language**\n",
    "3. Supports both **POP** and **OOP**\n",
    "4. **Robust** -  exceptions\n",
    "5. **Compiled** as well as **interpreted**\n",
    "    Compilation part is hidden from the programmer , so mostly people say that it is an \"interpreted langauage\" which is not correct.\n",
    "\n",
    "6. **Cross platform language**\n",
    "7. **Extensible**\n",
    "    Python allows us to call C/C++/Java/Dot Net code from a Python code and thus we say it is an \"Extensible\" language.\n",
    "\n",
    "8. **Huge library**\n",
    "    it can help you do various things like \"Database Programming\",\"E-mailing\",\"GUI Programming\" etc.\n",
    "\n",
    "![image.png](attachment:image.png)"
   ]
  },
  {
   "cell_type": "markdown",
   "metadata": {},
   "source": [
    "## **Accept Input**\n"
   ]
  },
  {
   "cell_type": "markdown",
   "metadata": {},
   "source": [
    "- It takes input as String.\n",
    "- If you want to take input as Int then you have to mention it as int(input(\"Enter no:\"))"
   ]
  },
  {
   "cell_type": "code",
   "execution_count": 3,
   "metadata": {},
   "outputs": [
    {
     "name": "stdout",
     "output_type": "stream",
     "text": [
      "Name entered is\t Harry\n",
      "Age entered is\t 25\n",
      "Age after 10 years will be\t 35\n"
     ]
    }
   ],
   "source": [
    "name=input(\"Enter your name\")\n",
    "print(\"Name entered is\\t\",name)\n",
    "age=input(\"Enter your age\")\n",
    "print(\"Age entered is\\t\",age)\n",
    "# age+=10  #  TypeError: can only concatenate str (not \"int\") to str\n",
    "age= int(age)\n",
    "age+=10\n",
    "print(\"Age after 10 years will be\\t\",age)"
   ]
  },
  {
   "cell_type": "markdown",
   "metadata": {},
   "source": [
    "## **DataTypes**\n"
   ]
  },
  {
   "cell_type": "markdown",
   "metadata": {},
   "source": [
    "#### **Datatypes** are of various types\n"
   ]
  },
  {
   "cell_type": "markdown",
   "metadata": {},
   "source": [
    "1. None\n",
    "2. Numeric\n",
    "    - Int\n",
    "    - Float\n",
    "    - Bool\n",
    "    - Complex\n",
    "3. Sequence\n",
    "    - List\n",
    "    - Tuple \n",
    "    - Set\n",
    "    - String \n",
    "    - Range\n",
    "    - Dictionary\n"
   ]
  },
  {
   "cell_type": "markdown",
   "metadata": {},
   "source": [
    "#### **Code**"
   ]
  },
  {
   "cell_type": "code",
   "execution_count": 4,
   "metadata": {},
   "outputs": [
    {
     "name": "stdout",
     "output_type": "stream",
     "text": [
      "100\n",
      "The number is 100\n",
      "The datatype of a is <class 'int'>\n",
      "The datatype of a is 140724750472728\n"
     ]
    }
   ],
   "source": [
    "# Datatype_1.py\n",
    "a=100\n",
    "print(a)\n",
    "print(\"The number is\",a)\n",
    "print(\"The datatype of a is\",type(a))\n",
    "print(\"The datatype of a is\",id(a))"
   ]
  },
  {
   "cell_type": "code",
   "execution_count": 5,
   "metadata": {},
   "outputs": [
    {
     "name": "stdout",
     "output_type": "stream",
     "text": [
      "100\n",
      "The number is 100\n",
      "The datatype of a is <class 'int'>\n",
      "The datatype of a is 140724750472728\n"
     ]
    }
   ],
   "source": [
    "# First.py\n",
    "a=100\n",
    "print(a)\n",
    "print(\"The number is\",a)\n",
    "print(\"The datatype of a is\",type(a))\n",
    "print(\"The datatype of a is\",id(a))"
   ]
  },
  {
   "cell_type": "code",
   "execution_count": 6,
   "metadata": {},
   "outputs": [
    {
     "name": "stdout",
     "output_type": "stream",
     "text": [
      "5.6\n",
      "The number is 5.6\n",
      "The datatype of a is <class 'float'>\n"
     ]
    }
   ],
   "source": [
    "# Second.py\n",
    "b=5.6\n",
    "print(b)\n",
    "print(\"The number is\",b)\n",
    "print(\"The datatype of a is\",type(b))\n",
    "b=10.2"
   ]
  },
  {
   "cell_type": "code",
   "execution_count": 7,
   "metadata": {},
   "outputs": [
    {
     "name": "stdout",
     "output_type": "stream",
     "text": [
      "Hello\n",
      "The value is Hello\n",
      "The datatype of a is <class 'str'>\n"
     ]
    }
   ],
   "source": [
    "# Third.py\n",
    "c=\"Hello\"\n",
    "print(c)\n",
    "print(\"The value is\",c)\n",
    "print(\"The datatype of a is\",type(c))"
   ]
  },
  {
   "cell_type": "code",
   "execution_count": 8,
   "metadata": {},
   "outputs": [
    {
     "name": "stdout",
     "output_type": "stream",
     "text": [
      "True\n",
      "The value is True\n",
      "The datatype of a is <class 'bool'>\n"
     ]
    }
   ],
   "source": [
    "# Fourth.py\n",
    "d=True\n",
    "print(d)\n",
    "print(\"The value is\",d)\n",
    "print(\"The datatype of a is\",type(d))"
   ]
  },
  {
   "cell_type": "markdown",
   "metadata": {},
   "source": [
    "## **All DatatypeInfo**"
   ]
  },
  {
   "cell_type": "markdown",
   "metadata": {},
   "source": [
    "#### **Code**"
   ]
  },
  {
   "cell_type": "code",
   "execution_count": 4,
   "metadata": {},
   "outputs": [
    {
     "name": "stdout",
     "output_type": "stream",
     "text": [
      "True \t <class 'bool'>\n"
     ]
    }
   ],
   "source": [
    "# E1.py\n",
    "x=int(input(\"enter number\"))\n",
    "print(x,\"\\t\",type(x))\n",
    "y=float(input(\"enter percentage\"))\n",
    "print(y,\"\\t\",type(y))\n",
    "z=bool(input(\"enter True or False\"))\n",
    "print(z,\"\\t\",type(z)) "
   ]
  },
  {
   "cell_type": "code",
   "execution_count": 10,
   "metadata": {},
   "outputs": [
    {
     "name": "stdout",
     "output_type": "stream",
     "text": [
      "True\n",
      "<class 'bool'>\n",
      "1\n",
      "<class 'int'>\n",
      "False\n",
      "<class 'bool'>\n",
      "0\n",
      "<class 'int'>\n"
     ]
    }
   ],
   "source": [
    "# Convert bool to int   True-1 & False-0\n",
    "var1=True\n",
    "print(var1)\n",
    "print(type(var1))\n",
    "\n",
    "var2 = int(var1)\n",
    "print(var2)\n",
    "print(type(var2))\n",
    "\n",
    "\n",
    "var3=False\n",
    "print(var3)\n",
    "print(type(var3))\n",
    "\n",
    "var4 = int(var3)\n",
    "print(var4)\n",
    "print(type(var4))"
   ]
  },
  {
   "cell_type": "code",
   "execution_count": 11,
   "metadata": {},
   "outputs": [
    {
     "name": "stdout",
     "output_type": "stream",
     "text": [
      "5\n",
      "<class 'int'>\n",
      "5.0\n",
      "<class 'float'>\n"
     ]
    }
   ],
   "source": [
    "# Convert Int to Float\n",
    "\n",
    "var1 = 5\n",
    "print(var1)\n",
    "print(type(var1))\n",
    "\n",
    "# convert int to float\n",
    "\n",
    "var2 = float(var1)\n",
    "print(var2)\n",
    "print(type(var2))"
   ]
  },
  {
   "cell_type": "code",
   "execution_count": 12,
   "metadata": {},
   "outputs": [
    {
     "name": "stdout",
     "output_type": "stream",
     "text": [
      "5.6\n",
      "<class 'float'>\n",
      "5\n",
      "<class 'int'>\n"
     ]
    }
   ],
   "source": [
    "# Convert Float to int\n",
    "num1=5.6\n",
    "print(num1)\n",
    "print(type(num1))\n",
    "num1=int(num1)\n",
    "print(num1)\n",
    "print(type(num1))"
   ]
  },
  {
   "cell_type": "code",
   "execution_count": 13,
   "metadata": {},
   "outputs": [
    {
     "name": "stdout",
     "output_type": "stream",
     "text": [
      "True\n"
     ]
    }
   ],
   "source": [
    "# Convert Int to Bool\n",
    "#x=0\n",
    "x=3\n",
    "x=bool(x)\n",
    "print(x)"
   ]
  },
  {
   "cell_type": "markdown",
   "metadata": {},
   "source": [
    "## **Sequence Types**"
   ]
  },
  {
   "cell_type": "markdown",
   "metadata": {},
   "source": [
    "#### **Dictionary**"
   ]
  },
  {
   "cell_type": "markdown",
   "metadata": {},
   "source": [
    "- Dictionary is a key - value pair, key must be unique.\n",
    "- It is always in {}"
   ]
  },
  {
   "cell_type": "code",
   "execution_count": 14,
   "metadata": {},
   "outputs": [
    {
     "name": "stdout",
     "output_type": "stream",
     "text": [
      "{1: 'Rohit', 2: 'Sachin', 3: 'Ajinkya'}\n",
      "<class 'dict'>\n",
      "dict_keys([1, 2, 3])\n",
      "dict_values(['Rohit', 'Sachin', 'Ajinkya'])\n",
      "Sachin\n",
      "Sachin\n"
     ]
    }
   ],
   "source": [
    "mydict = { 1:'Rahul',2:'Sachin',3:'Ajinkya',1:'Rohit'}\n",
    "\n",
    "print(mydict)\n",
    "print(type(mydict))\n",
    "\n",
    "# display all the keys\n",
    "print(mydict.keys())\n",
    "# display all the values\n",
    "print(mydict.values())\n",
    "\n",
    "# retrieve a value based on a particular key\n",
    "print(mydict[2])\n",
    "# or\n",
    "print(mydict.get(2))"
   ]
  },
  {
   "cell_type": "markdown",
   "metadata": {},
   "source": [
    "#### **List**\n"
   ]
  },
  {
   "cell_type": "markdown",
   "metadata": {},
   "source": [
    "- List is always used using []\n",
    "- It is mutable.\n",
    "- Allows Duplicate values"
   ]
  },
  {
   "cell_type": "code",
   "execution_count": 15,
   "metadata": {},
   "outputs": [
    {
     "name": "stdout",
     "output_type": "stream",
     "text": [
      "[10, 20, 30, 40]\n",
      "<class 'list'>\n"
     ]
    }
   ],
   "source": [
    "# Example of list\n",
    "\n",
    "mylist= [10,20,30,40]\n",
    "print(mylist)\n",
    "print(type(mylist))"
   ]
  },
  {
   "cell_type": "markdown",
   "metadata": {},
   "source": [
    "#### **Set**"
   ]
  },
  {
   "cell_type": "markdown",
   "metadata": {},
   "source": [
    "- Set , unordered and duplicates are not allowed\n",
    "- Mentioned in {}\n",
    "- Internally set is Dictionary.\n",
    "- It is immutable. "
   ]
  },
  {
   "cell_type": "code",
   "execution_count": 16,
   "metadata": {},
   "outputs": [
    {
     "name": "stdout",
     "output_type": "stream",
     "text": [
      "{40, 10, 20, 30}\n",
      "<class 'set'>\n"
     ]
    }
   ],
   "source": [
    "myset= {10,20,30,40,20}\n",
    "print(myset)\n",
    "print(type(myset))"
   ]
  },
  {
   "cell_type": "markdown",
   "metadata": {},
   "source": [
    "#### **Tuple**\n"
   ]
  },
  {
   "cell_type": "markdown",
   "metadata": {},
   "source": [
    "- Mentioned in ()\n",
    "- Duplicates are allowed."
   ]
  },
  {
   "cell_type": "code",
   "execution_count": 17,
   "metadata": {},
   "outputs": [
    {
     "name": "stdout",
     "output_type": "stream",
     "text": [
      "(10, 20, 30, 40, 20)\n",
      "<class 'tuple'>\n"
     ]
    }
   ],
   "source": [
    "mytupple= (10,20,30,40,20)\n",
    "print(mytupple)\n",
    "print(type(mytupple))"
   ]
  },
  {
   "cell_type": "markdown",
   "metadata": {},
   "source": [
    "#### **String**\n"
   ]
  },
  {
   "cell_type": "markdown",
   "metadata": {},
   "source": [
    "- In this datatype we add the string values which we can access using indexing & slicing."
   ]
  },
  {
   "cell_type": "code",
   "execution_count": 18,
   "metadata": {},
   "outputs": [
    {
     "name": "stdout",
     "output_type": "stream",
     "text": [
      "Sachin\n",
      "<class 'str'>\n",
      "A\n",
      "<class 'str'>\n"
     ]
    }
   ],
   "source": [
    "name = \"Sachin\"\n",
    "print(name)\n",
    "print(type(name))\n",
    "\n",
    "# We do not have character we have only string in Python\n",
    "ch = 'A'\n",
    "print(ch)\n",
    "print(type(ch))"
   ]
  },
  {
   "cell_type": "markdown",
   "metadata": {},
   "source": [
    "#### **Range**\n"
   ]
  },
  {
   "cell_type": "markdown",
   "metadata": {},
   "source": [
    "- It is used to iterate the values.\n",
    "- From Start to End."
   ]
  },
  {
   "cell_type": "code",
   "execution_count": 20,
   "metadata": {},
   "outputs": [
    {
     "name": "stdout",
     "output_type": "stream",
     "text": [
      "range(0, 10)\n",
      "<class 'range'>\n",
      "0\n",
      "1\n",
      "2\n",
      "3\n",
      "4\n",
      "5\n",
      "6\n",
      "7\n",
      "8\n",
      "9\n"
     ]
    }
   ],
   "source": [
    "# Example of range and how can you convert range to list\n",
    "\n",
    "r = range(0, 10)\n",
    "print(r)\n",
    "print(type(r))\n",
    "for i in r:\n",
    "    print(i)\n"
   ]
  },
  {
   "cell_type": "code",
   "execution_count": 21,
   "metadata": {},
   "outputs": [
    {
     "name": "stdout",
     "output_type": "stream",
     "text": [
      "[0, 1, 2, 3, 4, 5, 6, 7, 8, 9]\n",
      "<class 'list'>\n"
     ]
    }
   ],
   "source": [
    "# convert range to list\n",
    "mylist = list(r)\n",
    "print(mylist)\n",
    "print(type(mylist))\n"
   ]
  },
  {
   "cell_type": "code",
   "execution_count": 22,
   "metadata": {},
   "outputs": [
    {
     "name": "stdout",
     "output_type": "stream",
     "text": [
      "range(2, 20, 2)\n",
      "<class 'range'>\n",
      "[2, 4, 6, 8, 10, 12, 14, 16, 18]\n",
      "<class 'list'>\n"
     ]
    }
   ],
   "source": [
    "# range of even numbers\n",
    "\n",
    "r1= range(2,20,2)\n",
    "print(r1)\n",
    "print(type(r1))\n",
    "\n",
    "mylist1= list(r1)\n",
    "print(mylist1)\n",
    "print(type(mylist1))"
   ]
  },
  {
   "cell_type": "markdown",
   "metadata": {},
   "source": [
    "#### **Hash values of Different Data types**\n"
   ]
  },
  {
   "cell_type": "code",
   "execution_count": 23,
   "metadata": {},
   "outputs": [
    {
     "name": "stdout",
     "output_type": "stream",
     "text": [
      "3\n",
      "3\n",
      "hello\n",
      "6554707275464190156\n",
      "5.6\n",
      "1383505805528215557\n",
      "True\n",
      "1\n",
      "False\n",
      "0\n"
     ]
    }
   ],
   "source": [
    "x=3\n",
    "print(x)\n",
    "print(x.__hash__())\n",
    "\n",
    "y=\"hello\"\n",
    "print(y)\n",
    "print(y.__hash__())\n",
    "\n",
    "z=5.6\n",
    "print(z)\n",
    "print(z.__hash__())\n",
    "\n",
    "p=True\n",
    "print(p)\n",
    "print(p.__hash__())\n",
    "\n",
    "q=False\n",
    "print(q)\n",
    "print(q.__hash__())"
   ]
  },
  {
   "cell_type": "markdown",
   "metadata": {},
   "source": [
    "#### **Why hash value comes different for  a string for different executions?**"
   ]
  },
  {
   "cell_type": "markdown",
   "metadata": {},
   "source": [
    "- Python uses a hash \"seed value\" that is set when the interpreter starts. \n",
    "- This hash seed is used as a \"randomization factor\" in the hash algorithm to help prevent certain types of denial-of-service attacks that exploit predictable hash values. \n",
    "- Because the hash seed is randomly generated or derived from some runtime-specific factors, it can change between different executions of the Python interpreter, resulting in different hash values for the same strings."
   ]
  },
  {
   "cell_type": "markdown",
   "metadata": {},
   "source": [
    "## **Complex**"
   ]
  },
  {
   "cell_type": "markdown",
   "metadata": {},
   "source": [
    "#### **Different applications of Complex Numbers**"
   ]
  },
  {
   "cell_type": "markdown",
   "metadata": {},
   "source": [
    "1) Applications which are related to electronics and electricals\n",
    "2) Speech recognition system \n",
    "3) Audio signal processing in machine learning\n",
    "4) Scientific calculations\n",
    "5) To solve geometrical problems"
   ]
  },
  {
   "cell_type": "markdown",
   "metadata": {},
   "source": [
    "#### **Complex Functionn**"
   ]
  },
  {
   "cell_type": "markdown",
   "metadata": {},
   "source": [
    "- complex() function\n",
    "\tis used to convert number or string to complex number.\n",
    "\n",
    "- complex() takes two argument\n",
    "\treal\n",
    "\timaginary\n",
    "\tboth these arguments are optional, by default value is 0.\n",
    "\n",
    "- e.g.\n",
    "\n",
    "\tprint(complex())\n",
    "\n",
    "\twill print 0j\n",
    "\tthese arguments can be int or float or string\n",
    "\tBut string should have a valid number."
   ]
  },
  {
   "cell_type": "code",
   "execution_count": 24,
   "metadata": {},
   "outputs": [
    {
     "name": "stdout",
     "output_type": "stream",
     "text": [
      "0j\n",
      "(3+0j)\n",
      "9j\n",
      "(4+5j)\n",
      "(4+0j)\n"
     ]
    }
   ],
   "source": [
    "print(complex())      #  0j\n",
    "print(complex(3,0))   #  (3+0j)\n",
    "print(complex(0,9))   #  9j\n",
    "print(complex(4,5))   #  (4+5j)\n",
    "print(complex(\"4\"))   #  (4+0j)\n",
    "# print(complex(\"k\"))   #   ValueError: complex() arg is a malformed string"
   ]
  },
  {
   "cell_type": "markdown",
   "metadata": {},
   "source": [
    "#### **Convert normal number to complex number**"
   ]
  },
  {
   "cell_type": "code",
   "execution_count": 25,
   "metadata": {},
   "outputs": [
    {
     "name": "stdout",
     "output_type": "stream",
     "text": [
      "5\n",
      "<class 'int'>\n",
      "(5+0j)\n",
      "<class 'complex'>\n",
      "(5+9j)\n",
      "<class 'complex'>\n"
     ]
    }
   ],
   "source": [
    "\n",
    "var1 = 5\n",
    "print(var1)\n",
    "print(type(var1))\n",
    "\n",
    "# convert normal number i.e. 5  to complex\n",
    "\n",
    "var2 = complex(var1)\n",
    "print(var2)\n",
    "print(type(var2))\n",
    "\n",
    "# pass 2 parameters in order to convert normal number to complex number\n",
    "\n",
    "var3= 9\n",
    "var4= complex(var1,var3)\n",
    "print(var4)\n",
    "print(type(var4))"
   ]
  },
  {
   "cell_type": "markdown",
   "metadata": {},
   "source": [
    "#### **Example of Complex data type**"
   ]
  },
  {
   "cell_type": "code",
   "execution_count": 26,
   "metadata": {},
   "outputs": [
    {
     "name": "stdout",
     "output_type": "stream",
     "text": [
      "(5+8j)\n",
      "<class 'complex'>\n"
     ]
    }
   ],
   "source": [
    "var1= 5 +8j\n",
    "print(var1)\n",
    "print(type(var1))"
   ]
  },
  {
   "cell_type": "markdown",
   "metadata": {},
   "source": [
    "#### **Complex No**"
   ]
  },
  {
   "cell_type": "code",
   "execution_count": 27,
   "metadata": {},
   "outputs": [
    {
     "name": "stdout",
     "output_type": "stream",
     "text": [
      "(5+3j)\n",
      "<class 'complex'>\n",
      "(3.4-5.6j)\n",
      "<class 'complex'>\n",
      "(5+7.8j)\n",
      "<class 'complex'>\n",
      "(5+7.8j)\n",
      "5.0\n",
      "7.8\n",
      "(4+5.6j)\n",
      "<class 'complex'>\n",
      "0j\n",
      "<class 'complex'>\n",
      "(5.6+0j)\n",
      "<class 'complex'>\n",
      "5.6j\n",
      "<class 'complex'>\n",
      "(123+0j)\n",
      "<class 'complex'>\n"
     ]
    },
    {
     "data": {
      "text/plain": [
       "' num10=complex(\"A123\")    ValueError: complex() arg is a malformed string   \\n '"
      ]
     },
     "execution_count": 27,
     "metadata": {},
     "output_type": "execute_result"
    }
   ],
   "source": [
    "num1= 5+3j\n",
    "print(num1)\n",
    "print(type(num1))\n",
    "\n",
    "num2= 3.4 -5.6j\n",
    "print(num2)\n",
    "print(type(num2))\n",
    "\n",
    "num3 = 5+7.8j\n",
    "print(num3)\n",
    "print(type(num3))\n",
    "\n",
    "\"\"\" num4= \"hello\"+4j\n",
    "print(num4)\n",
    "print(type(num4)) \"\"\"\n",
    "\n",
    "#  How to access \"real\" and \"imaginary\" part of the object\n",
    "\n",
    "print(num3)             # Complex number\n",
    "print(num3.real)        # real part of the complex number\n",
    "print(num3.imag)        # imaginary part of the complex number\n",
    "\n",
    "# How to generate complex number using \"complex()\" function\n",
    "\n",
    "num5 = complex(4,5.6)\n",
    "print(num5)\n",
    "print(type(num5))\n",
    "\n",
    "num6=complex()     # What if we don't pass any number?\n",
    "print(num6)\n",
    "print(type(num6))\n",
    "\n",
    "num7=complex(5.6)  # what if we pass only one argument?\n",
    "print(num7)\n",
    "print(type(num7))\n",
    "\n",
    "num8=complex(0,5.6)  # what if we pass first argument as 0 ?\n",
    "print(num8)\n",
    "print(type(num8))\n",
    "\n",
    "num9=complex(\"123\")\n",
    "print(num9)\n",
    "print(type(num9))\n",
    "\n",
    "\"\"\" num10=complex(\"A123\")    ValueError: complex() arg is a malformed string   \n",
    " \"\"\"\n",
    "\n",
    "# num10=complex(\"23\"+8)      # TypeError: can only concatenate str (not \"int\") to str\n",
    "\n",
    "# num10=complex(5,\"34\")     # TypeError: complex() second arg can't be a string\n",
    "\n",
    "# num10=complex(\"123\",\"6.8\")  # TypeError: complex() can't take second arg if first is a string\n",
    "\n",
    "\n"
   ]
  },
  {
   "cell_type": "markdown",
   "metadata": {},
   "source": [
    "## **If Condition**"
   ]
  },
  {
   "cell_type": "markdown",
   "metadata": {},
   "source": [
    "- If is generally used to check any condition if it follows or not.\n",
    "- We can use nested if, single if condition, if condition with else, if condition elif condition else.\n",
    "- Here indentation is important."
   ]
  },
  {
   "cell_type": "markdown",
   "metadata": {},
   "source": [
    "#### **Code**"
   ]
  },
  {
   "cell_type": "code",
   "execution_count": 28,
   "metadata": {},
   "outputs": [
    {
     "name": "stdout",
     "output_type": "stream",
     "text": [
      "zero\n"
     ]
    }
   ],
   "source": [
    "# first\n",
    "a=0\n",
    "if a>0:\n",
    "    print(\"positive\")\n",
    "elif a<0:\n",
    "    print(\"negative\")\n",
    "else:\n",
    "    print(\"zero\")\n"
   ]
  },
  {
   "cell_type": "code",
   "execution_count": 29,
   "metadata": {},
   "outputs": [
    {
     "name": "stdout",
     "output_type": "stream",
     "text": [
      "not a desired number\n",
      "it is 4.5\n",
      "it's true\n"
     ]
    }
   ],
   "source": [
    "# Switch case 1\n",
    "# a=7\n",
    "a=3\n",
    "match a:\n",
    "        case 5:\n",
    "                print(\"it is 5\")\n",
    "        case 7:\n",
    "                print(\"it is 7\")\n",
    "        case _:\n",
    "                print(\"not a desired number\")\n"
   ]
  },
  {
   "cell_type": "code",
   "execution_count": 30,
   "metadata": {},
   "outputs": [
    {
     "name": "stdout",
     "output_type": "stream",
     "text": [
      "it is 4.5\n"
     ]
    }
   ],
   "source": [
    "var=4.5\n",
    "match var:\n",
    "    case 3.4: \n",
    "            print(\"it is 3.4\")\n",
    "    case 4.5:\n",
    "            print(\"it is 4.5\")\n",
    "    case _: \n",
    "            print(\"not a valid number\")\n",
    "\n"
   ]
  },
  {
   "cell_type": "code",
   "execution_count": 31,
   "metadata": {},
   "outputs": [
    {
     "name": "stdout",
     "output_type": "stream",
     "text": [
      "it's true\n"
     ]
    }
   ],
   "source": [
    "var1=True\n",
    "match var1:\n",
    "    case True:\n",
    "            print(\"it's true\")\n",
    "    case False:\n",
    "            print(\"it's false\")\n",
    "    case _:\n",
    "            print(\"invalid condition\")"
   ]
  },
  {
   "cell_type": "code",
   "execution_count": 33,
   "metadata": {},
   "outputs": [
    {
     "name": "stdout",
     "output_type": "stream",
     "text": [
      "Vowel A\n"
     ]
    }
   ],
   "source": [
    "# Switch case 2\n",
    "ch='A'\n",
    "\n",
    "match ch:\n",
    "        case 'A':\n",
    "                print(\"Vowel A\")\n",
    "        case 'E':\n",
    "                print(\"Vowel E\")\n",
    "        case _:\n",
    "                print(\"not a vowel\")\n"
   ]
  },
  {
   "cell_type": "code",
   "execution_count": 34,
   "metadata": {},
   "outputs": [
    {
     "name": "stdout",
     "output_type": "stream",
     "text": [
      "it's welcome\n"
     ]
    }
   ],
   "source": [
    "# Switch case 3\n",
    "# greet = 'hello'\n",
    "# greet =\"hi\"\n",
    "greet = \"welcome\"\n",
    "match greet:\n",
    "    case \"welcome\":\n",
    "        print(\"it's welcome\")\n",
    "    case \"hello\":\n",
    "        print(\"it's hello\")\n",
    "    case _:\n",
    "        print(\"not a valid greet\")\n"
   ]
  },
  {
   "cell_type": "code",
   "execution_count": 35,
   "metadata": {},
   "outputs": [
    {
     "name": "stdout",
     "output_type": "stream",
     "text": [
      "greater than 0 but less than 10\n"
     ]
    }
   ],
   "source": [
    "# Nested if\n",
    "num=3\n",
    "\n",
    "if num > 0:\n",
    "    if num < 10:\n",
    "        print(\"greater than 0 but less than 10\")\n",
    "    else:\n",
    "        print(\"greater than 0 and equal to or more than 10\")\n",
    "elif num < 0:\n",
    "    print(\"it is negative\")\n",
    "else:\n",
    "    print(\"it is zero\")"
   ]
  },
  {
   "cell_type": "code",
   "execution_count": 36,
   "metadata": {},
   "outputs": [
    {
     "name": "stdout",
     "output_type": "stream",
     "text": [
      "Before Swapping 8 5\n",
      "After Swapping 8 5\n"
     ]
    }
   ],
   "source": [
    "# Swap 2 numbers without 3 number\n",
    "'''\"About Python Implementations.txt\"\n",
    "\t\t\t\tJava\n",
    "\n",
    "public class MyClass \n",
    "{\n",
    "\tpublic static void main(String[] args) {\n",
    "\t\tint x=8,y=5;\n",
    "\t\tSystem.out.println(\"Before Swapping\\t\"+x+\"\\t\"+y);\n",
    "\t\ty=x+y;\n",
    "\t\tx=y-x;\n",
    "\t\ty=y-x;\n",
    "\t\tSystem.out.println(\"After Swapping\\t\"+x+\"\\t\"+y);\n",
    "\t}\n",
    "}\n",
    "\n",
    "\n",
    "\t\t\t\tPython\n",
    "'''\n",
    "x, y = 8, 5\n",
    "print(\"Before Swapping\", x, y)\n",
    "'''\"About Python Implementations.txt\"\n",
    "First right gets assigned to first left, second right gets assigned to second left, at the same time. \n",
    "x, y = y, x     # what happens here is  ....  x,y=5,8\n",
    "'''\n",
    "print(\"After Swapping\", x, y)\n",
    "\n"
   ]
  },
  {
   "cell_type": "markdown",
   "metadata": {},
   "source": [
    "## **Indentation**"
   ]
  },
  {
   "cell_type": "markdown",
   "metadata": {},
   "source": [
    "- As python doesn't use curly braces for defining the scope, it is mandatory that we must follow indentation"
   ]
  },
  {
   "cell_type": "markdown",
   "metadata": {},
   "source": [
    "#### **Code**"
   ]
  },
  {
   "cell_type": "code",
   "execution_count": null,
   "metadata": {},
   "outputs": [],
   "source": [
    "print(\"hello\")\n",
    "    print(\"welcome\")      #    IndentationError: unexpected indent"
   ]
  },
  {
   "cell_type": "code",
   "execution_count": null,
   "metadata": {},
   "outputs": [],
   "source": [
    "    print(\"hello\")  #    IndentationError: unexpected indent\n",
    "    print(\"welcome\")   "
   ]
  },
  {
   "cell_type": "code",
   "execution_count": 37,
   "metadata": {},
   "outputs": [
    {
     "name": "stdout",
     "output_type": "stream",
     "text": [
      "hello\n",
      "welcome\n",
      "10 is greater than5\n",
      "10 is even number\n",
      "10 is a first two digit number\n"
     ]
    }
   ],
   "source": [
    "print(\"hello\")         \n",
    "print(\"welcome\")    \n",
    "if(10>5):\n",
    "    print(\"10 is greater than5\")        #Indentation is must here\n",
    "    print(\"10 is even number\")\n",
    "    print(\"10 is a first two digit number\")\n",
    "else:\n",
    "    print(\"10 is not greater than 5\")\n",
    "    print(\"5 is an odd number\")"
   ]
  },
  {
   "cell_type": "code",
   "execution_count": 38,
   "metadata": {},
   "outputs": [
    {
     "name": "stdout",
     "output_type": "stream",
     "text": [
      "hello\n",
      "welcome\n",
      "it is positive\n"
     ]
    }
   ],
   "source": [
    "print(\"hello\");         \n",
    "print(\"welcome\");  \n",
    "num=12  \n",
    "if(num>0):\n",
    "    print(\"it is positive\")        #    Indentation is must here\n",
    "elif(num<0):\n",
    "    print(\"it is negative\")\n",
    "else:\n",
    "    print(\"it is zero\")"
   ]
  },
  {
   "cell_type": "code",
   "execution_count": 39,
   "metadata": {},
   "outputs": [
    {
     "name": "stdout",
     "output_type": "stream",
     "text": [
      "hello\n",
      "welcome\n",
      "it is positive\n",
      "Done\n",
      "thank you\n"
     ]
    }
   ],
   "source": [
    "print(\"hello\");         \n",
    "print(\"welcome\");  \n",
    "num=12  \n",
    "if(num>0):\n",
    "    print(\"it is positive\")        #    Indentation is must here\n",
    "elif(num<0):\n",
    "    print(\"it is negative\")\n",
    "else:\n",
    "    print(\"it is zero\")\n",
    "print(\"Done\")\n",
    "print(\"thank you\")"
   ]
  },
  {
   "cell_type": "code",
   "execution_count": 40,
   "metadata": {},
   "outputs": [
    {
     "name": "stdout",
     "output_type": "stream",
     "text": [
      "hello\n",
      "welcome\n",
      "it is positive and even\n",
      "Done\n",
      "thank you\n"
     ]
    }
   ],
   "source": [
    "print(\"hello\")\n",
    "print(\"welcome\")\n",
    "num=12  \n",
    "if(num>0):\n",
    "    if(num%2==0):\n",
    "        print(\"it is positive and even\") \n",
    "    else:\n",
    "        print(\"positive but odd\")\n",
    "elif(num<0):\n",
    "    print(\"it is negative\")\n",
    "else:\n",
    "    print(\"it is zero\")\n",
    "print(\"Done\")\n",
    "print(\"thank you\")"
   ]
  },
  {
   "cell_type": "markdown",
   "metadata": {},
   "source": [
    "## **Loops**"
   ]
  },
  {
   "cell_type": "markdown",
   "metadata": {},
   "source": [
    "- Generally loops are used to iterate over elements or numbers.\n",
    "- There are Majorly 2 types of Loops:\n",
    "    1. While loop\n",
    "    2. For loop else"
   ]
  },
  {
   "cell_type": "markdown",
   "metadata": {},
   "source": [
    "#### **While Loop**"
   ]
  },
  {
   "cell_type": "code",
   "execution_count": 41,
   "metadata": {},
   "outputs": [
    {
     "name": "stdout",
     "output_type": "stream",
     "text": [
      "1\n",
      "2\n",
      "3\n",
      "4\n",
      "5\n",
      "6\n",
      "7\n",
      "8\n",
      "9\n"
     ]
    }
   ],
   "source": [
    "# E1\n",
    "i=1\n",
    "while(i<10):\n",
    "    print(i)\n",
    "    i+=1\n"
   ]
  },
  {
   "cell_type": "code",
   "execution_count": 42,
   "metadata": {},
   "outputs": [
    {
     "name": "stdout",
     "output_type": "stream",
     "text": [
      "1\n",
      "2\n",
      "3\n",
      "4\n",
      "5\n"
     ]
    }
   ],
   "source": [
    "# E2\n",
    "i=1\n",
    "while(1):\n",
    "    if(i==6):\n",
    "        break\n",
    "    print(i)\n",
    "    i+=1"
   ]
  },
  {
   "cell_type": "code",
   "execution_count": 43,
   "metadata": {},
   "outputs": [
    {
     "name": "stdout",
     "output_type": "stream",
     "text": [
      "1\n",
      "2\n",
      "3\n",
      "4\n",
      "5\n",
      "6\n",
      "7\n",
      "8\n",
      "9\n"
     ]
    }
   ],
   "source": [
    "# E3\n",
    "for i in range(1,10):\n",
    "   print(i)"
   ]
  },
  {
   "cell_type": "code",
   "execution_count": 44,
   "metadata": {},
   "outputs": [
    {
     "name": "stdout",
     "output_type": "stream",
     "text": [
      "1\n",
      "2\n",
      "3\n",
      "4\n",
      "5\n",
      "7\n",
      "8\n",
      "9\n"
     ]
    }
   ],
   "source": [
    "# E4\n",
    "for i in range(1 , 10):\n",
    "    if(i==6):\n",
    "        continue\n",
    "    print(i)"
   ]
  },
  {
   "cell_type": "code",
   "execution_count": 45,
   "metadata": {},
   "outputs": [
    {
     "name": "stdout",
     "output_type": "stream",
     "text": [
      "1\t1\n",
      "1\t2\n",
      "2\t1\n",
      "2\t2\n"
     ]
    }
   ],
   "source": [
    "# E5\n",
    "for i in range(1,3):\n",
    "    for j in range(1,3):\n",
    "        print(str(i)+\"\\t\"+str(j))"
   ]
  },
  {
   "cell_type": "code",
   "execution_count": 46,
   "metadata": {},
   "outputs": [
    {
     "name": "stdout",
     "output_type": "stream",
     "text": [
      "zero\n"
     ]
    }
   ],
   "source": [
    "# E6\n",
    "i=0\n",
    "if(i>0):\n",
    "    print(\"positive\")\n",
    "elif(i<0):\n",
    "    print(\"negative\")\n",
    "else:\n",
    "    print(\"zero\")"
   ]
  },
  {
   "cell_type": "code",
   "execution_count": 47,
   "metadata": {},
   "outputs": [
    {
     "name": "stdout",
     "output_type": "stream",
     "text": [
      "positive\n"
     ]
    }
   ],
   "source": [
    "# E7\n",
    "# ternary operator in python\n",
    "\n",
    "# syntax\n",
    "# [on_true] if [expression] else [on_false] \n",
    "\n",
    "\n",
    "i=1\n",
    "print(\"positive\") if(i>0) else print(\"negative\")"
   ]
  },
  {
   "cell_type": "code",
   "execution_count": 48,
   "metadata": {},
   "outputs": [
    {
     "name": "stdout",
     "output_type": "stream",
     "text": [
      "Jan\n",
      "Feb\n",
      "Mar\n",
      "April\n",
      "May\n",
      "June\n"
     ]
    }
   ],
   "source": [
    "# E8\n",
    "# use a for loop over a collection\n",
    "Months = [\"Jan\",\"Feb\",\"Mar\",\"April\",\"May\",\"June\"]\n",
    "for m in Months:\n",
    "\tprint(m)"
   ]
  },
  {
   "cell_type": "code",
   "execution_count": 49,
   "metadata": {},
   "outputs": [
    {
     "name": "stdout",
     "output_type": "stream",
     "text": [
      "0 Jan\n",
      "1 Feb\n",
      "2 Mar\n",
      "3 April\n",
      "4 May\n",
      "5 June\n"
     ]
    }
   ],
   "source": [
    "# E9\n",
    "# Enumerate function is used for the numbering or indexing the members in the list.\n",
    "\n",
    "#use a for loop over a collection\n",
    "Months = [\"Jan\",\"Feb\",\"Mar\",\"April\",\"May\",\"June\"]\n",
    "for i, m in enumerate (Months):\n",
    "\tprint(i,m)"
   ]
  },
  {
   "cell_type": "code",
   "execution_count": 51,
   "metadata": {},
   "outputs": [
    {
     "name": "stdout",
     "output_type": "stream",
     "text": [
      "5\n",
      "6\n",
      "4\n",
      "5\n"
     ]
    }
   ],
   "source": [
    "# E10\n",
    "# how to write infinite loop\n",
    "\n",
    "while True:\n",
    "\ti=(int)(input(\"Enter number\\n\"))\n",
    "\tif(i==0):\n",
    "\t\tbreak\n",
    "\tprint(i)\n"
   ]
  },
  {
   "cell_type": "markdown",
   "metadata": {},
   "source": [
    "#### **For Loop**"
   ]
  },
  {
   "cell_type": "code",
   "execution_count": 52,
   "metadata": {},
   "outputs": [
    {
     "name": "stdout",
     "output_type": "stream",
     "text": [
      "Sum of first 5 numbers is 10\n"
     ]
    }
   ],
   "source": [
    "sum = 0\n",
    "for i in range(1, 5):\n",
    "    sum += i\n",
    "print(\"Sum of first 5 numbers is\", sum)\n"
   ]
  },
  {
   "cell_type": "code",
   "execution_count": 53,
   "metadata": {},
   "outputs": [
    {
     "name": "stdout",
     "output_type": "stream",
     "text": [
      "A\n",
      "B\n",
      "C\n",
      "D\n",
      "E\n",
      "F\n",
      "G\n",
      "H\n",
      "I\n",
      "J\n",
      "K\n"
     ]
    }
   ],
   "source": [
    "# How to print alphabets using loop\n",
    "for i in range(ord('A'), ord('K')+1):\n",
    "    print(chr(i))"
   ]
  },
  {
   "cell_type": "code",
   "execution_count": 54,
   "metadata": {},
   "outputs": [
    {
     "name": "stdout",
     "output_type": "stream",
     "text": [
      "Sum of first 5 numbers is 1\n",
      "Sum of first 5 numbers is 3\n",
      "Sum of first 5 numbers is 6\n",
      "Sum of first 5 numbers is 10\n",
      "Sum of first 5 numbers is 15\n"
     ]
    }
   ],
   "source": [
    "# How to write statement outside the loop\n",
    "i = 1\n",
    "sum=0\n",
    "while i<6:\n",
    "    sum+=i\n",
    "    i = i + 1\n",
    "    print(\"Sum of first 5 numbers is\", sum)\n"
   ]
  },
  {
   "cell_type": "code",
   "execution_count": 55,
   "metadata": {},
   "outputs": [
    {
     "name": "stdout",
     "output_type": "stream",
     "text": [
      "Sum of first 5 numbers is 15\n"
     ]
    }
   ],
   "source": [
    "i = 1\n",
    "sum=0\n",
    "while i<6:\n",
    "    sum+=i\n",
    "    i = i + 1\n",
    "print(\"Sum of first 5 numbers is\", sum)"
   ]
  },
  {
   "cell_type": "code",
   "execution_count": 56,
   "metadata": {},
   "outputs": [
    {
     "name": "stdout",
     "output_type": "stream",
     "text": [
      "1\n",
      "2\n",
      "3\n",
      "4\n",
      "5\n",
      "6\n",
      "7\n",
      "8\n"
     ]
    }
   ],
   "source": [
    "# Infinite While Loop\n",
    "i=1\n",
    "while 1:\n",
    "    if i==9:\n",
    "        break\n",
    "    print(i)\n",
    "    i+=1"
   ]
  },
  {
   "cell_type": "code",
   "execution_count": 57,
   "metadata": {},
   "outputs": [
    {
     "name": "stdout",
     "output_type": "stream",
     "text": [
      "1\n",
      "2\n",
      "3\n",
      "4\n",
      "5\n",
      "6\n"
     ]
    }
   ],
   "source": [
    "# Infinite For loop\n",
    "i = 1\n",
    "for _ in iter(int, True):\n",
    "    if i == 7:\n",
    "        break\n",
    "    print(i)\n",
    "    i += 1\n"
   ]
  },
  {
   "cell_type": "code",
   "execution_count": 58,
   "metadata": {},
   "outputs": [
    {
     "name": "stdout",
     "output_type": "stream",
     "text": [
      "A\n",
      "B\n",
      "C\n",
      "D\n",
      "E\n",
      "F\n",
      "G\n",
      "H\n",
      "I\n",
      "J\n",
      "K\n",
      "L\n",
      "M\n",
      "N\n",
      "O\n",
      "P\n",
      "Q\n",
      "R\n",
      "S\n",
      "T\n",
      "U\n",
      "V\n",
      "W\n",
      "X\n",
      "Y\n",
      "Z\n",
      "[\n",
      "\\\n",
      "]\n",
      "^\n",
      "_\n",
      "`\n",
      "a\n",
      "b\n",
      "c\n",
      "d\n",
      "e\n",
      "f\n",
      "g\n",
      "h\n",
      "i\n",
      "j\n",
      "k\n",
      "l\n",
      "m\n",
      "n\n",
      "o\n",
      "p\n",
      "q\n",
      "r\n",
      "s\n",
      "t\n",
      "u\n",
      "v\n",
      "w\n",
      "x\n",
      "y\n",
      "z\n",
      "{\n",
      "|\n",
      "}\n",
      "~\n",
      "\n",
      "\n",
      "\n",
      "\n",
      "\n",
      "\n",
      "\n",
      "\n",
      "\n",
      "\n",
      "\n",
      "\n",
      "\n",
      "\n",
      "\n",
      "\n",
      "\n",
      "\n",
      "\n",
      "\n",
      "\n",
      "\n",
      "\n",
      "\n",
      "\n",
      "\n",
      "\n",
      "\n",
      "\n",
      "\n",
      "\n",
      "\n",
      "\n",
      " \n",
      "¡\n",
      "¢\n",
      "£\n",
      "¤\n",
      "¥\n",
      "¦\n",
      "§\n",
      "¨\n",
      "©\n",
      "ª\n",
      "«\n",
      "¬\n",
      "­\n",
      "®\n",
      "¯\n",
      "°\n",
      "±\n",
      "²\n",
      "³\n",
      "´\n",
      "µ\n",
      "¶\n",
      "·\n",
      "¸\n",
      "¹\n",
      "º\n",
      "»\n",
      "¼\n",
      "½\n",
      "¾\n",
      "¿\n",
      "À\n",
      "Á\n",
      "Â\n",
      "Ã\n",
      "Ä\n",
      "Å\n",
      "Æ\n",
      "Ç\n",
      "È\n",
      "É\n",
      "Ê\n",
      "Ë\n",
      "Ì\n",
      "Í\n",
      "Î\n",
      "Ï\n",
      "Ð\n",
      "Ñ\n",
      "Ò\n",
      "Ó\n",
      "Ô\n",
      "Õ\n",
      "Ö\n",
      "×\n",
      "Ø\n",
      "Ù\n",
      "Ú\n",
      "Û\n",
      "Ü\n",
      "Ý\n",
      "Þ\n",
      "ß\n",
      "à\n",
      "á\n",
      "â\n",
      "ã\n",
      "ä\n",
      "å\n",
      "æ\n",
      "ç\n",
      "è\n",
      "é\n",
      "ê\n",
      "ë\n",
      "ì\n",
      "í\n",
      "î\n",
      "ï\n",
      "ð\n",
      "ñ\n",
      "ò\n",
      "ó\n",
      "ô\n",
      "õ\n",
      "ö\n",
      "÷\n",
      "ø\n",
      "ù\n",
      "ú\n",
      "û\n",
      "ü\n",
      "ý\n",
      "þ\n",
      "ÿ\n",
      "Ā\n",
      "ā\n",
      "Ă\n",
      "ă\n",
      "Ą\n",
      "ą\n",
      "Ć\n",
      "ć\n",
      "Ĉ\n",
      "ĉ\n",
      "Ċ\n",
      "ċ\n",
      "Č\n",
      "č\n",
      "Ď\n",
      "ď\n",
      "Đ\n",
      "đ\n",
      "Ē\n",
      "ē\n",
      "Ĕ\n",
      "ĕ\n",
      "Ė\n",
      "ė\n",
      "Ę\n",
      "ę\n",
      "Ě\n",
      "ě\n",
      "Ĝ\n",
      "ĝ\n",
      "Ğ\n",
      "ğ\n",
      "Ġ\n",
      "ġ\n",
      "Ģ\n",
      "ģ\n",
      "Ĥ\n",
      "ĥ\n",
      "Ħ\n",
      "ħ\n",
      "Ĩ\n",
      "ĩ\n",
      "Ī\n",
      "ī\n",
      "Ĭ\n",
      "ĭ\n",
      "Į\n",
      "į\n",
      "İ\n",
      "ı\n",
      "Ĳ\n",
      "ĳ\n",
      "Ĵ\n",
      "ĵ\n",
      "Ķ\n",
      "ķ\n",
      "ĸ\n",
      "Ĺ\n",
      "ĺ\n",
      "Ļ\n",
      "ļ\n",
      "Ľ\n",
      "ľ\n",
      "Ŀ\n",
      "ŀ\n",
      "Ł\n",
      "ł\n",
      "Ń\n",
      "ń\n",
      "Ņ\n",
      "ņ\n",
      "Ň\n",
      "ň\n",
      "ŉ\n",
      "Ŋ\n",
      "ŋ\n",
      "Ō\n",
      "ō\n",
      "Ŏ\n",
      "ŏ\n",
      "Ő\n",
      "ő\n",
      "Œ\n",
      "œ\n",
      "Ŕ\n",
      "ŕ\n",
      "Ŗ\n",
      "ŗ\n",
      "Ř\n",
      "ř\n",
      "Ś\n",
      "ś\n",
      "Ŝ\n",
      "ŝ\n",
      "Ş\n",
      "ş\n",
      "Š\n",
      "š\n",
      "Ţ\n",
      "ţ\n",
      "Ť\n",
      "ť\n",
      "Ŧ\n",
      "ŧ\n",
      "Ũ\n",
      "ũ\n",
      "Ū\n",
      "ū\n",
      "Ŭ\n",
      "ŭ\n",
      "Ů\n",
      "ů\n",
      "Ű\n",
      "ű\n",
      "Ų\n",
      "ų\n",
      "Ŵ\n",
      "ŵ\n",
      "Ŷ\n",
      "ŷ\n",
      "Ÿ\n",
      "Ź\n",
      "ź\n",
      "Ż\n",
      "ż\n",
      "Ž\n",
      "ž\n",
      "ſ\n",
      "ƀ\n",
      "Ɓ\n",
      "Ƃ\n",
      "ƃ\n",
      "Ƅ\n",
      "ƅ\n",
      "Ɔ\n",
      "Ƈ\n",
      "ƈ\n",
      "Ɖ\n",
      "Ɗ\n",
      "Ƌ\n",
      "ƌ\n",
      "ƍ\n",
      "Ǝ\n",
      "Ə\n",
      "Ɛ\n",
      "Ƒ\n",
      "ƒ\n",
      "Ɠ\n",
      "Ɣ\n",
      "ƕ\n",
      "Ɩ\n",
      "Ɨ\n",
      "Ƙ\n",
      "ƙ\n",
      "ƚ\n",
      "ƛ\n",
      "Ɯ\n",
      "Ɲ\n",
      "ƞ\n",
      "Ɵ\n",
      "Ơ\n",
      "ơ\n",
      "Ƣ\n",
      "ƣ\n",
      "Ƥ\n",
      "ƥ\n",
      "Ʀ\n",
      "Ƨ\n",
      "ƨ\n",
      "Ʃ\n",
      "ƪ\n",
      "ƫ\n",
      "Ƭ\n",
      "ƭ\n",
      "Ʈ\n",
      "Ư\n",
      "ư\n",
      "Ʊ\n",
      "Ʋ\n",
      "Ƴ\n",
      "ƴ\n",
      "Ƶ\n",
      "ƶ\n",
      "Ʒ\n",
      "Ƹ\n",
      "ƹ\n",
      "ƺ\n",
      "ƻ\n",
      "Ƽ\n",
      "ƽ\n",
      "ƾ\n",
      "ƿ\n",
      "ǀ\n",
      "ǁ\n",
      "ǂ\n",
      "ǃ\n",
      "Ǆ\n",
      "ǅ\n",
      "ǆ\n",
      "Ǉ\n",
      "ǈ\n",
      "ǉ\n",
      "Ǌ\n",
      "ǋ\n",
      "ǌ\n",
      "Ǎ\n",
      "ǎ\n",
      "Ǐ\n",
      "ǐ\n",
      "Ǒ\n",
      "ǒ\n",
      "Ǔ\n",
      "ǔ\n",
      "Ǖ\n",
      "ǖ\n",
      "Ǘ\n",
      "ǘ\n",
      "Ǚ\n",
      "ǚ\n",
      "Ǜ\n",
      "ǜ\n",
      "ǝ\n",
      "Ǟ\n",
      "ǟ\n",
      "Ǡ\n",
      "ǡ\n",
      "Ǣ\n",
      "ǣ\n",
      "Ǥ\n",
      "ǥ\n",
      "Ǧ\n",
      "ǧ\n",
      "Ǩ\n",
      "ǩ\n",
      "Ǫ\n",
      "ǫ\n",
      "Ǭ\n",
      "ǭ\n",
      "Ǯ\n",
      "ǯ\n",
      "ǰ\n",
      "Ǳ\n",
      "ǲ\n",
      "ǳ\n",
      "Ǵ\n",
      "ǵ\n",
      "Ƕ\n",
      "Ƿ\n",
      "Ǹ\n",
      "ǹ\n",
      "Ǻ\n",
      "ǻ\n",
      "Ǽ\n",
      "ǽ\n",
      "Ǿ\n",
      "ǿ\n",
      "Ȁ\n",
      "ȁ\n",
      "Ȃ\n",
      "ȃ\n",
      "Ȅ\n",
      "ȅ\n",
      "Ȇ\n",
      "ȇ\n",
      "Ȉ\n",
      "ȉ\n",
      "Ȋ\n",
      "ȋ\n",
      "Ȍ\n",
      "ȍ\n",
      "Ȏ\n",
      "ȏ\n",
      "Ȑ\n",
      "ȑ\n",
      "Ȓ\n",
      "ȓ\n",
      "Ȕ\n",
      "ȕ\n",
      "Ȗ\n",
      "ȗ\n",
      "Ș\n",
      "ș\n",
      "Ț\n",
      "ț\n",
      "Ȝ\n",
      "ȝ\n",
      "Ȟ\n",
      "ȟ\n",
      "Ƞ\n",
      "ȡ\n",
      "Ȣ\n",
      "ȣ\n",
      "Ȥ\n",
      "ȥ\n",
      "Ȧ\n",
      "ȧ\n",
      "Ȩ\n",
      "ȩ\n",
      "Ȫ\n",
      "ȫ\n",
      "Ȭ\n",
      "ȭ\n",
      "Ȯ\n",
      "ȯ\n",
      "Ȱ\n",
      "ȱ\n",
      "Ȳ\n",
      "ȳ\n",
      "ȴ\n",
      "ȵ\n",
      "ȶ\n",
      "ȷ\n",
      "ȸ\n",
      "ȹ\n",
      "Ⱥ\n",
      "Ȼ\n",
      "ȼ\n",
      "Ƚ\n",
      "Ⱦ\n",
      "ȿ\n",
      "ɀ\n",
      "Ɂ\n",
      "ɂ\n",
      "Ƀ\n",
      "Ʉ\n",
      "Ʌ\n",
      "Ɇ\n",
      "ɇ\n",
      "Ɉ\n",
      "ɉ\n",
      "Ɋ\n",
      "ɋ\n",
      "Ɍ\n",
      "ɍ\n",
      "Ɏ\n",
      "ɏ\n",
      "ɐ\n",
      "ɑ\n",
      "ɒ\n",
      "ɓ\n",
      "ɔ\n",
      "ɕ\n",
      "ɖ\n",
      "ɗ\n",
      "ɘ\n",
      "ə\n",
      "ɚ\n",
      "ɛ\n",
      "ɜ\n",
      "ɝ\n",
      "ɞ\n",
      "ɟ\n",
      "ɠ\n",
      "ɡ\n",
      "ɢ\n",
      "ɣ\n",
      "ɤ\n",
      "ɥ\n",
      "ɦ\n",
      "ɧ\n",
      "ɨ\n",
      "ɩ\n",
      "ɪ\n",
      "ɫ\n",
      "ɬ\n",
      "ɭ\n",
      "ɮ\n",
      "ɯ\n",
      "ɰ\n",
      "ɱ\n",
      "ɲ\n",
      "ɳ\n",
      "ɴ\n",
      "ɵ\n",
      "ɶ\n",
      "ɷ\n",
      "ɸ\n",
      "ɹ\n",
      "ɺ\n",
      "ɻ\n",
      "ɼ\n",
      "ɽ\n",
      "ɾ\n",
      "ɿ\n",
      "ʀ\n",
      "ʁ\n",
      "ʂ\n",
      "ʃ\n",
      "ʄ\n",
      "ʅ\n",
      "ʆ\n",
      "ʇ\n",
      "ʈ\n",
      "ʉ\n",
      "ʊ\n",
      "ʋ\n",
      "ʌ\n",
      "ʍ\n",
      "ʎ\n",
      "ʏ\n",
      "ʐ\n",
      "ʑ\n",
      "ʒ\n",
      "ʓ\n",
      "ʔ\n",
      "ʕ\n",
      "ʖ\n",
      "ʗ\n",
      "ʘ\n",
      "ʙ\n",
      "ʚ\n",
      "ʛ\n",
      "ʜ\n",
      "ʝ\n",
      "ʞ\n",
      "ʟ\n",
      "ʠ\n",
      "ʡ\n",
      "ʢ\n",
      "ʣ\n",
      "ʤ\n",
      "ʥ\n",
      "ʦ\n",
      "ʧ\n",
      "ʨ\n",
      "ʩ\n",
      "ʪ\n",
      "ʫ\n",
      "ʬ\n",
      "ʭ\n",
      "ʮ\n",
      "ʯ\n",
      "ʰ\n",
      "ʱ\n",
      "ʲ\n",
      "ʳ\n",
      "ʴ\n",
      "ʵ\n",
      "ʶ\n",
      "ʷ\n",
      "ʸ\n",
      "ʹ\n",
      "ʺ\n",
      "ʻ\n",
      "ʼ\n",
      "ʽ\n",
      "ʾ\n",
      "ʿ\n",
      "ˀ\n",
      "ˁ\n",
      "˂\n",
      "˃\n",
      "˄\n",
      "˅\n",
      "ˆ\n",
      "ˇ\n",
      "ˈ\n",
      "ˉ\n",
      "ˊ\n",
      "ˋ\n",
      "ˌ\n",
      "ˍ\n",
      "ˎ\n",
      "ˏ\n",
      "ː\n",
      "ˑ\n",
      "˒\n",
      "˓\n",
      "˔\n",
      "˕\n",
      "˖\n",
      "˗\n",
      "˘\n",
      "˙\n",
      "˚\n",
      "˛\n",
      "˜\n",
      "˝\n",
      "˞\n",
      "˟\n",
      "ˠ\n",
      "ˡ\n",
      "ˢ\n",
      "ˣ\n",
      "ˤ\n",
      "˥\n",
      "˦\n",
      "˧\n",
      "˨\n",
      "˩\n",
      "˪\n",
      "˫\n",
      "ˬ\n",
      "˭\n",
      "ˮ\n",
      "˯\n",
      "˰\n",
      "˱\n",
      "˲\n",
      "˳\n",
      "˴\n",
      "˵\n",
      "˶\n",
      "˷\n",
      "˸\n",
      "˹\n",
      "˺\n",
      "˻\n",
      "˼\n",
      "˽\n",
      "˾\n",
      "˿\n",
      "̀\n",
      "́\n",
      "̂\n",
      "̃\n",
      "̄\n",
      "̅\n",
      "̆\n",
      "̇\n",
      "̈\n",
      "̉\n",
      "̊\n",
      "̋\n",
      "̌\n",
      "̍\n",
      "̎\n",
      "̏\n",
      "̐\n",
      "̑\n",
      "̒\n",
      "̓\n",
      "̔\n",
      "̕\n",
      "̖\n",
      "̗\n",
      "̘\n",
      "̙\n",
      "̚\n",
      "̛\n",
      "̜\n",
      "̝\n",
      "̞\n",
      "̟\n",
      "̠\n",
      "̡\n",
      "̢\n",
      "̣\n",
      "̤\n",
      "̥\n",
      "̦\n",
      "̧\n",
      "̨\n",
      "̩\n",
      "̪\n",
      "̫\n",
      "̬\n",
      "̭\n",
      "̮\n",
      "̯\n",
      "̰\n",
      "̱\n",
      "̲\n",
      "̳\n",
      "̴\n",
      "̵\n",
      "̶\n",
      "̷\n",
      "̸\n",
      "̹\n",
      "̺\n",
      "̻\n",
      "̼\n",
      "̽\n",
      "̾\n",
      "̿\n",
      "̀\n",
      "́\n",
      "͂\n",
      "̓\n",
      "̈́\n",
      "ͅ\n",
      "͆\n",
      "͇\n",
      "͈\n",
      "͉\n",
      "͊\n",
      "͋\n",
      "͌\n",
      "͍\n",
      "͎\n",
      "͏\n",
      "͐\n",
      "͑\n",
      "͒\n",
      "͓\n",
      "͔\n",
      "͕\n",
      "͖\n",
      "͗\n",
      "͘\n",
      "͙\n",
      "͚\n",
      "͛\n",
      "͜\n",
      "͝\n",
      "͞\n",
      "͟\n",
      "͠\n",
      "͡\n",
      "͢\n",
      "ͣ\n",
      "ͤ\n",
      "ͥ\n",
      "ͦ\n",
      "ͧ\n",
      "ͨ\n",
      "ͩ\n",
      "ͪ\n",
      "ͫ\n",
      "ͬ\n",
      "ͭ\n",
      "ͮ\n",
      "ͯ\n",
      "Ͱ\n",
      "ͱ\n",
      "Ͳ\n",
      "ͳ\n",
      "ʹ\n",
      "͵\n",
      "Ͷ\n",
      "ͷ\n",
      "͸\n",
      "͹\n",
      "ͺ\n",
      "ͻ\n",
      "ͼ\n",
      "ͽ\n",
      ";\n",
      "Ϳ\n",
      "΀\n",
      "΁\n",
      "΂\n",
      "΃\n",
      "΄\n",
      "΅\n",
      "Ά\n",
      "·\n",
      "Έ\n",
      "Ή\n",
      "Ί\n",
      "΋\n",
      "Ό\n",
      "΍\n",
      "Ύ\n",
      "Ώ\n",
      "ΐ\n",
      "Α\n",
      "Β\n",
      "Γ\n",
      "Δ\n",
      "Ε\n",
      "Ζ\n",
      "Η\n",
      "Θ\n",
      "Ι\n",
      "Κ\n",
      "Λ\n",
      "Μ\n",
      "Ν\n",
      "Ξ\n",
      "Ο\n",
      "Π\n",
      "Ρ\n",
      "΢\n",
      "Σ\n",
      "Τ\n",
      "Υ\n",
      "Φ\n",
      "Χ\n",
      "Ψ\n",
      "Ω\n",
      "Ϊ\n",
      "Ϋ\n",
      "ά\n",
      "έ\n",
      "ή\n",
      "ί\n",
      "ΰ\n",
      "α\n",
      "β\n",
      "γ\n",
      "δ\n",
      "ε\n",
      "ζ\n",
      "η\n",
      "θ\n",
      "ι\n",
      "κ\n",
      "λ\n",
      "μ\n",
      "ν\n",
      "ξ\n",
      "ο\n",
      "π\n",
      "ρ\n",
      "ς\n",
      "σ\n",
      "τ\n",
      "υ\n",
      "φ\n",
      "χ\n",
      "ψ\n",
      "ω\n",
      "ϊ\n",
      "ϋ\n",
      "ό\n",
      "ύ\n",
      "ώ\n",
      "Ϗ\n",
      "ϐ\n",
      "ϑ\n",
      "ϒ\n",
      "ϓ\n",
      "ϔ\n",
      "ϕ\n",
      "ϖ\n",
      "ϗ\n",
      "Ϙ\n",
      "ϙ\n",
      "Ϛ\n",
      "ϛ\n",
      "Ϝ\n",
      "ϝ\n",
      "Ϟ\n",
      "ϟ\n",
      "Ϡ\n",
      "ϡ\n",
      "Ϣ\n",
      "ϣ\n",
      "Ϥ\n",
      "ϥ\n",
      "Ϧ\n",
      "ϧ\n"
     ]
    }
   ],
   "source": [
    "c='A'\n",
    "i=65\n",
    "for _ in iter(str, True):\n",
    "    if i == 1000:\n",
    "        break\n",
    "    print(chr(i))\n",
    "    i+=1"
   ]
  },
  {
   "cell_type": "code",
   "execution_count": 59,
   "metadata": {},
   "outputs": [
    {
     "name": "stdout",
     "output_type": "stream",
     "text": [
      "1 1\n",
      "1 2\n",
      "2 1\n",
      "2 2\n",
      "3 1\n",
      "3 2\n",
      "4 1\n",
      "4 2\n"
     ]
    }
   ],
   "source": [
    "# Nested For loop\n",
    "for i in range(1, 5):\n",
    "    for j in range(1, 3):\n",
    "        print(i, j)\n"
   ]
  },
  {
   "cell_type": "code",
   "execution_count": 60,
   "metadata": {},
   "outputs": [
    {
     "name": "stdout",
     "output_type": "stream",
     "text": [
      "hello\n",
      "hello\n",
      "hello\n",
      "hello\n",
      "hello\n"
     ]
    }
   ],
   "source": [
    "# only 1 argument inside for loop\n",
    "for i in range(5):\n",
    "    print(\"hello\")"
   ]
  },
  {
   "cell_type": "code",
   "execution_count": 61,
   "metadata": {},
   "outputs": [
    {
     "name": "stdout",
     "output_type": "stream",
     "text": [
      "1\n",
      "2\n",
      "3\n",
      "4\n",
      "5\n",
      "6\n",
      "7\n",
      "8\n",
      "9\n"
     ]
    }
   ],
   "source": [
    "# Range\n",
    "for i in range(1,10):\n",
    "    print(i)"
   ]
  },
  {
   "cell_type": "code",
   "execution_count": 62,
   "metadata": {},
   "outputs": [
    {
     "name": "stdout",
     "output_type": "stream",
     "text": [
      "1\n",
      "3\n",
      "5\n",
      "7\n",
      "9\n"
     ]
    }
   ],
   "source": [
    "for i in range(1,10,2):\n",
    "    print(i)"
   ]
  },
  {
   "cell_type": "code",
   "execution_count": 63,
   "metadata": {},
   "outputs": [
    {
     "name": "stdout",
     "output_type": "stream",
     "text": [
      "10\n",
      "9\n",
      "8\n",
      "7\n",
      "6\n",
      "5\n",
      "4\n",
      "3\n",
      "2\n"
     ]
    }
   ],
   "source": [
    "for i in range(10,1,-1):\n",
    "    print(i)\n"
   ]
  },
  {
   "cell_type": "code",
   "execution_count": 64,
   "metadata": {},
   "outputs": [
    {
     "name": "stdout",
     "output_type": "stream",
     "text": [
      "10\n",
      "8\n",
      "6\n",
      "4\n",
      "2\n"
     ]
    }
   ],
   "source": [
    "for i in range(10,1,-2):\n",
    "    print(i)"
   ]
  },
  {
   "cell_type": "code",
   "execution_count": 65,
   "metadata": {},
   "outputs": [
    {
     "name": "stdout",
     "output_type": "stream",
     "text": [
      "66\n",
      "B\n"
     ]
    }
   ],
   "source": [
    "# Character to ASCII value and vice versa\n",
    "ch='B'\n",
    "\n",
    "value=ord(ch)     # find out ascii value of a given character\n",
    "print(value)\n",
    "print(chr(value))  # convert ascii value to character"
   ]
  },
  {
   "cell_type": "markdown",
   "metadata": {},
   "source": [
    "#### **For Loop with Else**\n"
   ]
  },
  {
   "cell_type": "code",
   "execution_count": 68,
   "metadata": {},
   "outputs": [
    {
     "name": "stdout",
     "output_type": "stream",
     "text": [
      "not found\n",
      "not found\n",
      "not found\n",
      "not found\n",
      "not found\n"
     ]
    }
   ],
   "source": [
    "# E1\n",
    "# find out at least one number divisible by 5. If it's there, print and come out otherwise print \"not found\"\n",
    "nums=[12,16,18,21,26]\n",
    "\n",
    "for i in nums:\n",
    "    if(i%5==0):\n",
    "        print(i)\n",
    "        break       # we just want to print only one number divisible by 5 if exists\n",
    "    else:\n",
    "      print(\"not found\")\n",
    "\n",
    "# but we don't want to print \"not found\" those many times, we want to print only one time."
   ]
  },
  {
   "cell_type": "code",
   "execution_count": 69,
   "metadata": {},
   "outputs": [
    {
     "name": "stdout",
     "output_type": "stream",
     "text": [
      "not found\n"
     ]
    }
   ],
   "source": [
    "# E2\n",
    "# find out at least one number divisible by 5. If it's there print and come out otherwise print \"not found\"\n",
    "nums=[12,16,18,21,26]\n",
    "flag=True\n",
    "for i in nums:\n",
    "    if(i%5==0):\n",
    "        print(i)\n",
    "        flag=True\n",
    "        break       # we just want to print only one number divisible by 5 if exists\n",
    "    else:\n",
    "        flag=False\n",
    "if(not flag):\n",
    "      print(\"not found\")\n",
    "\n",
    "# what if we don't want to use \"flag\" variable in this code"
   ]
  },
  {
   "cell_type": "code",
   "execution_count": 70,
   "metadata": {},
   "outputs": [
    {
     "name": "stdout",
     "output_type": "stream",
     "text": [
      "not found\n"
     ]
    }
   ],
   "source": [
    "# E3\n",
    "# find out at least one number divisible by 5. If it's there print and come out otherwise print \"not found\"\n",
    "nums=[12,16,18,21,26]\n",
    "\n",
    "for i in nums:\n",
    "    if(i%5==0):\n",
    "        print(i)\n",
    "        break       # we just want to print only one number divisible by 5 if exists\n",
    "else:\n",
    "    print(\"not found\")\n",
    "\n"
   ]
  },
  {
   "cell_type": "code",
   "execution_count": 71,
   "metadata": {},
   "outputs": [
    {
     "name": "stdout",
     "output_type": "stream",
     "text": [
      "15\n"
     ]
    }
   ],
   "source": [
    "# E4\n",
    "# find out at least one number divisible by 5. If it's there print and come out otherwise print \"not found\"\n",
    "nums=[12,16,15,21,26]\n",
    "\n",
    "for i in nums:\n",
    "    if(i%5==0):\n",
    "        print(i)\n",
    "        break       # we just want to print only one number divisible by 5 if exists\n",
    "else:\n",
    "    print(\"not found\")\n",
    "\n",
    "# here \"else\" part will not be true as for loop terminates with \"break\""
   ]
  },
  {
   "cell_type": "code",
   "execution_count": 72,
   "metadata": {},
   "outputs": [
    {
     "name": "stdout",
     "output_type": "stream",
     "text": [
      "10\n",
      "11\n",
      "12\n",
      "13\n",
      "14\n",
      "15\n",
      "16\n",
      "17\n",
      "printed all the numbers\n"
     ]
    }
   ],
   "source": [
    "# Example_5_with_while loop\n",
    "i=10\n",
    "while(i<18):\n",
    "    print(i)\n",
    "    i+=1\n",
    "else:\n",
    "    print(\"printed all the numbers\")"
   ]
  },
  {
   "cell_type": "code",
   "execution_count": 74,
   "metadata": {},
   "outputs": [
    {
     "name": "stdout",
     "output_type": "stream",
     "text": [
      "0\n",
      "1\n"
     ]
    }
   ],
   "source": [
    "# Simple Example\n",
    "for i in range(0,5):\n",
    "    # if i==2:\n",
    "    #     break\n",
    "    print(i)\n",
    "else:\n",
    "    print(\"done\")"
   ]
  },
  {
   "cell_type": "markdown",
   "metadata": {},
   "source": [
    "##### **For-Else**"
   ]
  },
  {
   "cell_type": "markdown",
   "metadata": {},
   "source": [
    "For-else Syntax in Python\n",
    "\n",
    "   for i in range(n) :\n",
    "\n",
    "      #code\n",
    "\n",
    "   else:\n",
    "\n",
    "      #code\n",
    "\n",
    "In the above example, for loop will execute n times and then else block will execute.\n",
    "\n",
    "While-else Syntax in Python\n",
    "\n",
    "   while condition:\n",
    "\n",
    "      #code\n",
    "\n",
    "   else:\n",
    "\n",
    "      #code\n",
    "\n",
    "In the above example, while loop will execute until the condition satisfies and then else block will be executed but if the while loop is terminated by the break statement then else block will not execute, we have seen the same as for for-loop.\n"
   ]
  },
  {
   "cell_type": "markdown",
   "metadata": {},
   "source": [
    "## **Operator**\n"
   ]
  },
  {
   "cell_type": "code",
   "execution_count": 75,
   "metadata": {},
   "outputs": [
    {
     "name": "stdout",
     "output_type": "stream",
     "text": [
      "Addition is 85\n",
      "Subtraction is 45\n",
      "Multiplication is 1300\n",
      "Division is 3.25\n",
      "Remainder is 5\n",
      "Floor Division is 3\n"
     ]
    }
   ],
   "source": [
    "# Arithmetic\n",
    "a=65\n",
    "b=20\n",
    "print(\"Addition is\", a+b)\n",
    "print(\"Subtraction is\", a-b)\n",
    "print(\"Multiplication is\", a*b)\n",
    "print(\"Division is\", a/b)\n",
    "print(\"Remainder is\", a%b)\n",
    "print(\"Floor Division is\", a//b)"
   ]
  },
  {
   "cell_type": "code",
   "execution_count": 76,
   "metadata": {},
   "outputs": [
    {
     "name": "stdout",
     "output_type": "stream",
     "text": [
      "2\n",
      "4\n",
      "2\n",
      "4\n",
      "2.0\n",
      "0.0\n",
      "0.0\n"
     ]
    }
   ],
   "source": [
    "# Assignment\n",
    "a=6\n",
    "b=2\n",
    "\n",
    "a=b\n",
    "print(a)\n",
    "a+=b\n",
    "print(a)\n",
    "a-=b\n",
    "print(a)\n",
    "a*=b\n",
    "print(a)\n",
    "a/=b\n",
    "print(a)\n",
    "a%=b\n",
    "print(a)\n",
    "a//=b\n",
    "print(a)"
   ]
  },
  {
   "cell_type": "code",
   "execution_count": 77,
   "metadata": {},
   "outputs": [
    {
     "name": "stdout",
     "output_type": "stream",
     "text": [
      "a is not equal to b\n",
      "a is greater than b\n",
      "a is greater than equal to b\n"
     ]
    }
   ],
   "source": [
    "# Comparison - == != > < >= <= \n",
    "a=65\n",
    "b=20\n",
    "\n",
    "if a==b:\n",
    "    print(\"a and b are equal\")\n",
    "if a!=b:\n",
    "    print(\"a is not equal to b\")\n",
    "if a>b:\n",
    "    print(\"a is greater than b\")\n",
    "if a<b:\n",
    "    print(\"a is less than b\")\n",
    "if a>=b:\n",
    "    print(\"a is greater than equal to b\")\n",
    "if a<=b:\n",
    "    print(\"a is less than equal to b\")"
   ]
  },
  {
   "cell_type": "code",
   "execution_count": 78,
   "metadata": {},
   "outputs": [
    {
     "name": "stdout",
     "output_type": "stream",
     "text": [
      "False\n",
      "True\n",
      "True\n",
      "False\n"
     ]
    }
   ],
   "source": [
    "# Identity - is\n",
    "\"\"\"\n",
    "In Python, to write an empty class pass statement is used.\n",
    " pass is a special statement in Python that does nothing.\n",
    "It only works as a dummy statement.\n",
    "However, objects of an empty class can also be created.\n",
    "\"\"\"\n",
    "\n",
    "class MyClass:\n",
    "    pass\n",
    "\n",
    "\n",
    "m1=MyClass()\n",
    "m2=MyClass()\n",
    "print(m1 is m2)\n",
    "print(m1 is not m2)\n",
    "\n",
    "m2=m1\n",
    "print(m1 is m2)\n",
    "print(m1 is not m2)\n"
   ]
  },
  {
   "cell_type": "code",
   "execution_count": null,
   "metadata": {},
   "outputs": [],
   "source": [
    "# Logical - and or not \n",
    "\n",
    "a=6\n",
    "b=2\n",
    "\n",
    "if a>10 and b<5:\n",
    "    print(\"a is greater than 10 and b is less than 3\")\n",
    "if a>10 or b<5:\n",
    "    print(\"either a is greater than 10 or b is less than 5\")\n",
    "print(not a>b)\n",
    "print(not a<b)\n"
   ]
  },
  {
   "cell_type": "code",
   "execution_count": 79,
   "metadata": {},
   "outputs": [
    {
     "name": "stdout",
     "output_type": "stream",
     "text": [
      "True\n",
      "False\n",
      "False\n",
      "True\n",
      "False\n",
      "False\n",
      "True\n"
     ]
    }
   ],
   "source": [
    "# Membership with list - in\n",
    "list1 = [1, 2, 3, 4, 5, 6, 7]\n",
    "print(4 in list1)\n",
    "print(4 not in list1)\n",
    "\n",
    "# with dictionary\n",
    "dict = {1:\"first\",2:\"second\"}\n",
    "print(3 in dict)\n",
    "print(2 in dict)\n",
    "\n",
    "# with tuple\n",
    "tup1 = ('physics', 'chemistry', 1997, 2000)\n",
    "print('hello' in tup1)\n",
    "print('chemistry' not in tup1)\n",
    "print(1997 in tup1)"
   ]
  },
  {
   "cell_type": "code",
   "execution_count": null,
   "metadata": {},
   "outputs": [],
   "source": [
    "# Use of *\n",
    "num=5\n",
    "print(num*2)\n",
    "print(num**2)  # square of 5\n",
    "print(num**3)  # cube of 5\n",
    "print(num**4) "
   ]
  }
 ],
 "metadata": {
  "kernelspec": {
   "display_name": "Python 3",
   "language": "python",
   "name": "python3"
  },
  "language_info": {
   "codemirror_mode": {
    "name": "ipython",
    "version": 3
   },
   "file_extension": ".py",
   "mimetype": "text/x-python",
   "name": "python",
   "nbconvert_exporter": "python",
   "pygments_lexer": "ipython3",
   "version": "3.12.2"
  }
 },
 "nbformat": 4,
 "nbformat_minor": 2
}
