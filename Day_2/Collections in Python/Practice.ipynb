{
 "cells": [
  {
   "cell_type": "markdown",
   "metadata": {},
   "source": [
    "# **Collection in Python**"
   ]
  },
  {
   "cell_type": "markdown",
   "metadata": {},
   "source": [
    "- Python Collections There are four collection data types in the Python programming language:\n",
    "\n",
    "    1. List is a collection which is ordered. Allows duplicate members and is mutable.\n",
    "\n",
    "    2.  Tuple is a collection which is ordered. Allows duplicate members and is immutable.\n",
    "\n",
    "    3.   Set is a collection which is unordered and unindexed. No duplicate members.Is immutable for its elements but as an object is mutable.\n",
    "\n",
    "    4. Dictionary is a collection which is ordered and changeable. key value pair. No duplicate keys. mutable.\n"
   ]
  },
  {
   "cell_type": "markdown",
   "metadata": {},
   "source": [
    "### **Comprehensions**"
   ]
  },
  {
   "cell_type": "markdown",
   "metadata": {},
   "source": [
    "#### **What are Comprehensions**"
   ]
  },
  {
   "cell_type": "markdown",
   "metadata": {},
   "source": [
    "In Python, comprehension refers to a concise(compact) and efficient way of creating new data structures like lists, dictionaries, and sets using existing iterables (such as lists, tuples, strings, generators etc.). Python provides several types of comprehensions:\n",
    "1.\tList comprehension: \n",
    "List comprehension provides a concise way to create lists. It consists of square brackets containing an expression followed by a for clause, then zero or more for or if clauses. For example:\n",
    "\n",
    "    List comprehension to create a list of squares of numbers from 0 to 9 squares = [x\\**2 for x in range(10)] \n",
    "\n",
    "2.\tDictionary comprehension: \n",
    "Dictionary comprehension provides a concise way to create dictionaries. It consists of curly braces containing a key-value expression followed by a for clause, then zero or more for or if clauses. For example:\n",
    "    Dictionary comprehension to create a dictionary with numbers as keys and their squares as values squares_dict = \n",
    "    {x: x**2 for x in range(10)} \n",
    "\n",
    "3.\tSet comprehension: \n",
    "Set comprehension provides a concise way to create sets. It consists of curly braces containing an expression followed by a for clause, then zero or more for or if clauses. For example:\n",
    " Set comprehension to create a set of unique first letters from a list of words first_letters = {word[0] for word in ['apple', 'banana', 'cherry']} \n",
    "\n",
    "    Comprehensions are not allowed on tuples in Python because tuples are immutable data structures.\n",
    "\n",
    "    Comprehensions offer a more readable and often more efficient alternative to using traditional loops for constructing lists, dictionaries, or sets. They are widely used in Python programming for their simplicity and readability.\n",
    "\n",
    "4) generator comprehensions:-\n",
    "\n",
    "    input_list = [1, 2, 3, 4, 4, 5, 6, 7, 7]\n",
    "    \n",
    "    output_gen = (var for var in input_list if var % 2 == 0)\n",
    "\n",
    "    print(\"Output values using generator comprehensions:\", end = ' ')\n",
    "\n",
    "    for var in output_gen:\n",
    "    \n",
    "        print(var, end = ' ')\n",
    "\n"
   ]
  },
  {
   "cell_type": "markdown",
   "metadata": {},
   "source": [
    "#### **Dictionary**"
   ]
  },
  {
   "cell_type": "code",
   "execution_count": 1,
   "metadata": {},
   "outputs": [
    {
     "name": "stdout",
     "output_type": "stream",
     "text": [
      "{1: 1, 2: 4, 3: 9, 4: 16, 5: 25, 6: 36, 7: 49, 8: 64, 9: 81}\n"
     ]
    }
   ],
   "source": [
    "# E1\n",
    "mydict={x:x**2 for x in range(1,10)}\n",
    "print(mydict)"
   ]
  },
  {
   "cell_type": "code",
   "execution_count": 2,
   "metadata": {},
   "outputs": [
    {
     "name": "stdout",
     "output_type": "stream",
     "text": [
      "{'Soap': 100, 'Perfume': 300, 'Deo': 400, 'Hair Oil': 250}\n"
     ]
    }
   ],
   "source": [
    "# E2\n",
    "products = [\"Soap\",\"Perfume\",\"Deo\",\"Hair Oil\"]\n",
    "prices=[100,300,400,250]\n",
    "mydict = {key:value for (key,value) in zip(products,prices)}\n",
    "print(mydict)"
   ]
  },
  {
   "cell_type": "markdown",
   "metadata": {},
   "source": [
    "#### **List**"
   ]
  },
  {
   "cell_type": "markdown",
   "metadata": {},
   "source": [
    "- List comprehensions are used for creating new lists from other iterables like tuples, strings, arrays, lists, etc.\n",
    "\n",
    "- A list comprehension consists of brackets containing the expression, which is executed for each element along with the for loop to iterate over each # element. "
   ]
  },
  {
   "cell_type": "code",
   "execution_count": 3,
   "metadata": {},
   "outputs": [
    {
     "name": "stdout",
     "output_type": "stream",
     "text": [
      "[4, 6, 8, 10, 12, 14, 16, 18]\n"
     ]
    }
   ],
   "source": [
    "# list contains all even numbers between 4 to 20\n",
    "\n",
    "mylist = [i for i in range(4,20) if i%2 == 0]\n",
    "\n",
    "print(mylist)"
   ]
  },
  {
   "cell_type": "code",
   "execution_count": 4,
   "metadata": {},
   "outputs": [
    {
     "name": "stdout",
     "output_type": "stream",
     "text": [
      "[1, 9, 25, 49, 81, 121, 169]\n"
     ]
    }
   ],
   "source": [
    "mylist=[num**2 for num in range(1,15,2)]\n",
    "print(mylist)"
   ]
  },
  {
   "cell_type": "markdown",
   "metadata": {},
   "source": [
    "#### **Set**"
   ]
  },
  {
   "cell_type": "code",
   "execution_count": 5,
   "metadata": {},
   "outputs": [
    {
     "name": "stdout",
     "output_type": "stream",
     "text": [
      "{1, 2, 3, 4, 5, 6, 7, 8, 9, 10}\n"
     ]
    }
   ],
   "source": [
    "myset={x for x in range(1,11)}\n",
    "print(myset)"
   ]
  },
  {
   "cell_type": "code",
   "execution_count": 6,
   "metadata": {},
   "outputs": [
    {
     "name": "stdout",
     "output_type": "stream",
     "text": [
      "{400, 250, 100, 300}\n",
      "{'hairoil', 'soap', 'babysoap', 'perfume'}\n"
     ]
    }
   ],
   "source": [
    "mydictionary={\"soap\":100,\"perfume\":300,\"deo\":400,\"hairoil\":250,\"babysoap\":100}\n",
    "\n",
    "myset1={x for x in mydictionary.values()}\n",
    "print(myset1)\n",
    "\n",
    "myset2={x for x in mydictionary.keys() if len(x)>3}\n",
    "print(myset2)"
   ]
  },
  {
   "cell_type": "markdown",
   "metadata": {},
   "source": [
    "#### **Tuple**"
   ]
  },
  {
   "cell_type": "markdown",
   "metadata": {},
   "source": [
    "In Python, there's no tuple comprehension.\n",
    "However, you can mimic the tuple comprehensions by running a generator expression inside tuple() function call."
   ]
  },
  {
   "cell_type": "code",
   "execution_count": 7,
   "metadata": {},
   "outputs": [
    {
     "name": "stdout",
     "output_type": "stream",
     "text": [
      "<generator object <genexpr> at 0x000002544EAB96C0>\n",
      "(1, 2, 3, 4, 5, 6, 7, 8, 9)\n",
      "<class 'tuple'>\n"
     ]
    }
   ],
   "source": [
    "mytuple=(i for i in range(1,10))   # you are trying to do Set Comprehension\n",
    "print(mytuple)  # it is a generator not a tuple\n",
    "mytuple1=tuple(i for i in range(1,10))  # we are converting generator to tuple\n",
    "print(mytuple1)    # it's a tuple now\n",
    "print(type(mytuple1))"
   ]
  },
  {
   "cell_type": "markdown",
   "metadata": {},
   "source": [
    "### **Dictionary**"
   ]
  },
  {
   "cell_type": "markdown",
   "metadata": {},
   "source": [
    "- Dictionary in Python is an unordered collection of data values, used to store data values like a map, which, unlike other Data Types that hold only a single value as an element, Dictionary holds key:value pair. Key-value is provided in the dictionary to make it more optimized. \n",
    "\n",
    "- In Python, a Dictionary can be created by placing a sequence of elements within curly {} braces, separated by ‘comma’. Dictionary holds pairs of values, one being the Key and the other corresponding pair element being its Key:value. Values in a dictionary can be of any data type and can be duplicated, whereas keys can’t be repeated and must be immutable. \n",
    " \n",
    "- Note – Dictionary keys are case sensitive, the same name but different cases of Key will be treated distinctly. \n",
    "\n"
   ]
  },
  {
   "cell_type": "markdown",
   "metadata": {},
   "source": [
    "#### **E1**"
   ]
  },
  {
   "cell_type": "code",
   "execution_count": 1,
   "metadata": {},
   "outputs": [
    {
     "name": "stdout",
     "output_type": "stream",
     "text": [
      "{1: 'Amar', 2: 'Sachin', 3: 'Vishal'}\n",
      "Amar\n",
      "Sachin\n",
      "Vishal\n",
      "{1: 'Amar', 2: 'Satish', 3: 'Vishal'}\n",
      "dict_keys([1, 2, 3])\n",
      "dict_values(['Amar', 'Satish', 'Vishal'])\n"
     ]
    }
   ],
   "source": [
    "# E1\n",
    "# first example of Dictionary\n",
    "\n",
    "mydict = {1:'Amar',2:'Sachin',3:'Vishal'}\n",
    "\n",
    "print(mydict)\n",
    "\n",
    "print(mydict[1])\n",
    "print(mydict[2])\n",
    "print(mydict[3])\n",
    "# print(mydict[4])    # KeyError: 4\n",
    "\n",
    "mydict[2]='Satish' # overwrite the value\n",
    "print(mydict)\n",
    "print(mydict.keys())   # print all the keys of dictionary\n",
    "print(mydict.values())  # print all the values of dictionary"
   ]
  },
  {
   "cell_type": "markdown",
   "metadata": {},
   "source": [
    "#### **E2**"
   ]
  },
  {
   "cell_type": "code",
   "execution_count": 3,
   "metadata": {},
   "outputs": [
    {
     "name": "stdout",
     "output_type": "stream",
     "text": [
      "{1: 'Amar', 2: 'Sachin', 3: {'A': 100, 'B': 200, 'C': 300}, 4: 'Vishal'}\n"
     ]
    }
   ],
   "source": [
    "# E2\n",
    "# Nested Dictionary\n",
    "\n",
    "mydict = {1:'Amar',2:'Sachin',3:{'A':100,'B':200,'C':300},4:'Vishal'}\n",
    "\n",
    "print(mydict)"
   ]
  },
  {
   "cell_type": "code",
   "execution_count": 4,
   "metadata": {},
   "outputs": [
    {
     "name": "stdout",
     "output_type": "stream",
     "text": [
      "Amar\n",
      "Sachin\n",
      "{'A': 100, 'B': 200, 'C': 300}\n"
     ]
    }
   ],
   "source": [
    "print(mydict[1])\n",
    "print(mydict[2])\n",
    "print(mydict[3])"
   ]
  },
  {
   "cell_type": "code",
   "execution_count": 5,
   "metadata": {},
   "outputs": [
    {
     "name": "stdout",
     "output_type": "stream",
     "text": [
      "100\n",
      "200\n",
      "300\n",
      "Vishal\n"
     ]
    }
   ],
   "source": [
    "# Displaying nested dictionary\n",
    "print(mydict[3]['A'])\n",
    "print(mydict[3]['B'])\n",
    "print(mydict[3]['C'])\n",
    "print(mydict[4])"
   ]
  },
  {
   "cell_type": "code",
   "execution_count": 6,
   "metadata": {},
   "outputs": [
    {
     "name": "stdout",
     "output_type": "stream",
     "text": [
      "{1: 'Amar', 2: 'Satish', 3: {'A': 100, 'B': 200, 'C': 300}, 4: 'Vishal'}\n"
     ]
    }
   ],
   "source": [
    "mydict[2]='Satish' # overwrite the value\n",
    "print(mydict)\n"
   ]
  },
  {
   "cell_type": "code",
   "execution_count": 7,
   "metadata": {},
   "outputs": [
    {
     "name": "stdout",
     "output_type": "stream",
     "text": [
      "dict_keys([1, 2, 3, 4])\n",
      "dict_values(['Amar', 'Satish', {'A': 100, 'B': 200, 'C': 300}, 'Vishal'])\n"
     ]
    }
   ],
   "source": [
    "print(mydict.keys())   # print all the keys of dictionary\n",
    "print(mydict.values())  # print all the values of dictionary"
   ]
  },
  {
   "cell_type": "markdown",
   "metadata": {},
   "source": [
    "#### **E3**"
   ]
  },
  {
   "cell_type": "code",
   "execution_count": 8,
   "metadata": {},
   "outputs": [
    {
     "name": "stdout",
     "output_type": "stream",
     "text": [
      "{1: 'Amar', 2: 'Sachin', 3: 'Vishal'}\n",
      "Amar\n",
      "Sachin\n",
      "Vishal\n",
      "{1: 'Amar', 2: 'Sachin', 3: 'Vishal', 4: 'Arun'}\n",
      "dict_keys([1, 2, 3, 4])\n",
      "dict_values(['Amar', 'Sachin', 'Vishal', 'Arun'])\n"
     ]
    }
   ],
   "source": [
    "# E3\n",
    "mydict = {1:'Amar',2:'Sachin',3:'Vishal'}\n",
    "\n",
    "print(mydict)\n",
    "\n",
    "print(mydict[1])\n",
    "print(mydict[2])\n",
    "print(mydict[3])\n",
    "\n",
    "mydict[4]='Arun'   # adding a pair in dictionary\n",
    "print(mydict)\n",
    "print(mydict.keys())   # print all the keys of dictionary\n",
    "print(mydict.values())  # print all the values of dictionary"
   ]
  },
  {
   "cell_type": "markdown",
   "metadata": {},
   "source": [
    "#### **E3a**"
   ]
  },
  {
   "cell_type": "code",
   "execution_count": 9,
   "metadata": {},
   "outputs": [
    {
     "name": "stdout",
     "output_type": "stream",
     "text": [
      "[1, 2, 5]\n"
     ]
    }
   ],
   "source": [
    "# E3a\n",
    "mydict={5:\"hello\",2:\"hi\",1:\"bye\"}\n",
    "\n",
    "mylist=sorted(mydict) # sort the keys\n",
    "\n",
    "print(mylist)"
   ]
  },
  {
   "cell_type": "markdown",
   "metadata": {},
   "source": [
    "#### **E4**"
   ]
  },
  {
   "cell_type": "code",
   "execution_count": 11,
   "metadata": {},
   "outputs": [
    {
     "name": "stdout",
     "output_type": "stream",
     "text": [
      "Vishal    23\n",
      "Sachin    32\n",
      "Anand    26\n"
     ]
    }
   ],
   "source": [
    "# E4\n",
    "class Student:\n",
    "    def __init__(self,name,age):\n",
    "        self.name=name\n",
    "        self.age=age\n",
    "    def __str__(self):\n",
    "        return \"\"+ self.name+\"    \"+str(self.age)\n",
    "    def getname(self):\n",
    "        return self.name\n",
    "    def getage(self):\n",
    "        return self.age\n",
    "\n",
    "s1 = Student('Vishal',23)\n",
    "s2 = Student('Sachin',32)\n",
    "s3 = Student('Anand',26)\n",
    "\n",
    "students = {s1:100,s2:200,s3:50}\n",
    "\n",
    "for i in students:\n",
    "    print(i)\n",
    "\n",
    "\n"
   ]
  },
  {
   "cell_type": "code",
   "execution_count": 13,
   "metadata": {},
   "outputs": [
    {
     "name": "stdout",
     "output_type": "stream",
     "text": [
      "<class 'list'>\n"
     ]
    }
   ],
   "source": [
    "mylist= sorted(students,key=Student.getname)\n",
    "print(type(mylist))\n"
   ]
  },
  {
   "cell_type": "code",
   "execution_count": 14,
   "metadata": {},
   "outputs": [
    {
     "name": "stdout",
     "output_type": "stream",
     "text": [
      "Namewise sort\n",
      "Anand    26\n",
      "Sachin    32\n",
      "Vishal    23\n"
     ]
    }
   ],
   "source": [
    "print(\"Namewise sort\")\n",
    "for i in mylist:\n",
    "    print(i)\n",
    "\n"
   ]
  },
  {
   "cell_type": "code",
   "execution_count": 15,
   "metadata": {},
   "outputs": [
    {
     "name": "stdout",
     "output_type": "stream",
     "text": [
      "<class 'list'>\n",
      "Agewise sort\n",
      "Vishal    23\n",
      "Anand    26\n",
      "Sachin    32\n"
     ]
    }
   ],
   "source": [
    "mylist = sorted(students,key=Student.getage)\n",
    "print(type(mylist))\n",
    "print(\"Agewise sort\")\n",
    "for i in mylist:\n",
    "    print(i)\n",
    "\n"
   ]
  },
  {
   "cell_type": "code",
   "execution_count": 16,
   "metadata": {},
   "outputs": [
    {
     "name": "stdout",
     "output_type": "stream",
     "text": [
      "<class 'list'>\n",
      "Namewise descending order\n",
      "Vishal    23\n",
      "Sachin    32\n",
      "Anand    26\n"
     ]
    }
   ],
   "source": [
    "mylist = sorted(students,key=Student.getname,reverse=True)\n",
    "\n",
    "print(type(mylist))\n",
    "print(\"Namewise descending order\")\n",
    "\n",
    "for i in mylist:\n",
    "    print(i)"
   ]
  },
  {
   "cell_type": "markdown",
   "metadata": {},
   "source": [
    "#### **E4a**"
   ]
  },
  {
   "cell_type": "code",
   "execution_count": 17,
   "metadata": {},
   "outputs": [
    {
     "name": "stdout",
     "output_type": "stream",
     "text": [
      "Vishal    23\n",
      "Sachin    32\n",
      "Anand    26\n"
     ]
    }
   ],
   "source": [
    "# E4a\n",
    "class Student:\n",
    "    def __init__(self,name,age):\n",
    "        self.name=name\n",
    "        self.age=age\n",
    "    def __str__(self):\n",
    "        return \"\"+ self.name+\"    \"+str(self.age)\n",
    "    def getname(self):\n",
    "        return self.name\n",
    "    def getage(self):\n",
    "        return self.age\n",
    "\n",
    "s1 = Student('Vishal',23)\n",
    "s2 = Student('Sachin',32)\n",
    "s3 = Student('Anand',26)\n",
    "\n",
    "students = {s1:100,s2:200,s3:50}\n",
    "\n",
    "for i in students:\n",
    "    print(i)\n",
    "\n",
    "\n"
   ]
  },
  {
   "cell_type": "code",
   "execution_count": 18,
   "metadata": {},
   "outputs": [
    {
     "name": "stdout",
     "output_type": "stream",
     "text": [
      "<class 'list'>\n",
      "Namewise sort\n",
      "Anand    26\n",
      "Sachin    32\n",
      "Vishal    23\n"
     ]
    }
   ],
   "source": [
    "mylist= sorted(students,key=Student.getname)\n",
    "\n",
    "print(type(mylist))\n",
    "print(\"Namewise sort\")\n",
    "for i in mylist:\n",
    "    print(i)\n"
   ]
  },
  {
   "cell_type": "code",
   "execution_count": 19,
   "metadata": {},
   "outputs": [
    {
     "name": "stdout",
     "output_type": "stream",
     "text": [
      "<class 'list'>\n",
      "Agewise sort\n",
      "Vishal    23\n",
      "Anand    26\n",
      "Sachin    32\n"
     ]
    }
   ],
   "source": [
    "mylist = sorted(students,key=Student.getage)\n",
    "print(type(mylist))\n",
    "print(\"Agewise sort\")\n",
    "for i in mylist:\n",
    "    print(i)\n"
   ]
  },
  {
   "cell_type": "code",
   "execution_count": 22,
   "metadata": {},
   "outputs": [
    {
     "name": "stdout",
     "output_type": "stream",
     "text": [
      "<class 'list'>\n",
      "Namewise descending order\n",
      "Vishal    23\n",
      "Sachin    32\n",
      "Anand    26\n"
     ]
    }
   ],
   "source": [
    "mylist = sorted(students,key=Student.getname,reverse=True)\n",
    "\n",
    "print(type(mylist))\n",
    "print(\"Namewise descending order\")\n",
    "\n",
    "for i in mylist:\n",
    "    print(i)\n",
    "\n"
   ]
  },
  {
   "cell_type": "code",
   "execution_count": 21,
   "metadata": {},
   "outputs": [
    {
     "name": "stdout",
     "output_type": "stream",
     "text": [
      "{<__main__.Student object at 0x000001D47E35CBF0>: 100, <__main__.Student object at 0x000001D47F611640>: 200, <__main__.Student object at 0x000001D47F612AE0>: 50}\n",
      "Vishal\n",
      "Sachin\n",
      "Anand\n",
      "Vishal    23 \t 100\n",
      "Sachin    32 \t 200\n",
      "Anand    26 \t 50\n"
     ]
    }
   ],
   "source": [
    "print(students)\n",
    "for i in students.keys():\n",
    "    print(i.name)\n",
    "\n",
    "for i,j in students.items():\n",
    "    print(i,\"\\t\",j)"
   ]
  },
  {
   "cell_type": "markdown",
   "metadata": {},
   "source": [
    "#### **How to sort Dictionary values**"
   ]
  },
  {
   "cell_type": "code",
   "execution_count": 6,
   "metadata": {},
   "outputs": [
    {
     "name": "stdout",
     "output_type": "stream",
     "text": [
      "Type of temp is\t <class 'dict_items'>\n",
      "Size of temp is\t 5\n",
      "Type of i is\t <class 'tuple'> \tValue of i is\t ('Eusebio', 120)\n",
      "Type of i is\t <class 'tuple'> \tValue of i is\t ('Cruyff', 104)\n",
      "Type of i is\t <class 'tuple'> \tValue of i is\t ('Pele', 150)\n",
      "Type of i is\t <class 'tuple'> \tValue of i is\t ('Ronaldo', 132)\n",
      "Type of i is\t <class 'tuple'> \tValue of i is\t ('Messi', 125)\n"
     ]
    }
   ],
   "source": [
    "# How to sort dictionary based on keys and values both \n",
    "\n",
    "# sorted_footballers_by_name = sorted(footballers_goals.items(), key=lambda x:x[0])\n",
    "\n",
    "\"\"\" here \"footballers_goals.items()\" returns 5 tuples each with \"key\" and \"value\" of dictionary\n",
    "lamda x   represents each tuple\n",
    "x[0] represents  0th element of that tuple i.e \"key\" of the first entry of your dictionary\n",
    "x[1] represents  1st element of that tuple i.e \"value\" of the first entry of your dictionary\n",
    "\n",
    "That means to the \"sorted\" method you pass either \"key\" of the dictionary ( x[0])\n",
    "or value of the dictionary  ( x[1]) as a sorting strategy. \"\"\"\n",
    "\n",
    "\n",
    "footballers_goals = {'Eusebio': 120, 'Cruyff': 104, 'Pele': 150, 'Ronaldo': 132, 'Messi': 125}\n",
    "\n",
    "temp=footballers_goals.items()\n",
    "print(\"Type of temp is\\t\",type(temp))\n",
    "print(\"Size of temp is\\t\",len(temp))\n",
    "\n",
    "for i in temp:\n",
    "    print(\"Type of i is\\t\",type(i),\"\\tValue of i is\\t\",i)\n"
   ]
  },
  {
   "cell_type": "markdown",
   "metadata": {},
   "source": [
    "##### **Sorted by name**"
   ]
  },
  {
   "cell_type": "code",
   "execution_count": 7,
   "metadata": {},
   "outputs": [
    {
     "name": "stdout",
     "output_type": "stream",
     "text": [
      "['Cruyff', 'Eusebio', 'Messi', 'Pele', 'Ronaldo']\n",
      "[('Cruyff', 104), ('Eusebio', 120), ('Messi', 125), ('Pele', 150), ('Ronaldo', 132)]\n"
     ]
    }
   ],
   "source": [
    "sorted_footballers_by_name=sorted(footballers_goals)\n",
    "\n",
    "print(sorted_footballers_by_name)\n",
    "\n",
    "sorted_footballers_by_name = sorted(footballers_goals.items(), key=lambda x:x[0]) # x[0] means key\n",
    "\n",
    "print(sorted_footballers_by_name)\n"
   ]
  },
  {
   "cell_type": "markdown",
   "metadata": {},
   "source": [
    "##### **Sorted by goals**"
   ]
  },
  {
   "cell_type": "code",
   "execution_count": 26,
   "metadata": {},
   "outputs": [
    {
     "name": "stdout",
     "output_type": "stream",
     "text": [
      "[('Cruyff', 104), ('Eusebio', 120), ('Messi', 125), ('Ronaldo', 132), ('Pele', 150)]\n"
     ]
    }
   ],
   "source": [
    "\n",
    "sorted_footballers_by_goals = sorted(footballers_goals.items(), key=lambda x:x[1]) # x[1] means value\n",
    "\n",
    "print(sorted_footballers_by_goals)\n",
    "\n",
    "#sorted_footballers_by_goals = sorted(footballers_goals.items(), key=lambda x:x[2]) # IndexError: tuple index out of range"
   ]
  },
  {
   "cell_type": "markdown",
   "metadata": {},
   "source": [
    "### **List**"
   ]
  },
  {
   "cell_type": "markdown",
   "metadata": {},
   "source": [
    "- Lists are just like ***dynamically sized arrays***, declared in other languages (vector in C++ and ArrayList in Java). Lists need not be homogeneous always which makes it the most powerful tool in Python. A single list may contain DataTypes like Integers, Strings, as well as Objects. Lists are ***mutable***, and hence, they can be altered even after their creation.\n",
    "- List in Python are ***ordered*** and have a definite count. The elements in a list are indexed according to a definite sequence and the indexing of a list is done with 0 being the first index. Each element in the list has its definite place in the list, which ***allows duplicating*** of elements in the list, with each element having its own distinct place and credibility.\n",
    "- Note- Lists are a useful tool for preserving a sequence of data and further iterating over it.\n",
    "\n"
   ]
  },
  {
   "cell_type": "markdown",
   "metadata": {},
   "source": [
    "#### **E1**"
   ]
  },
  {
   "cell_type": "code",
   "execution_count": 27,
   "metadata": {},
   "outputs": [
    {
     "name": "stdout",
     "output_type": "stream",
     "text": [
      "[10, 20, 30, 40]\n",
      "<class 'list'>\n",
      "10\n",
      "4\n",
      "[10, 20, 30, 40, 50]\n",
      "[12, 20, 30, 40, 50]\n"
     ]
    }
   ],
   "source": [
    "mylist = [10,20,30,40]\n",
    "print(mylist)\n",
    "print(type(mylist))\n",
    "print(mylist[0])\n",
    "print(len(mylist))\n",
    "mylist.append(50)   # list is dynamic\n",
    "print(mylist)\n",
    "mylist[0]=12        # list is mutable\n",
    "print(mylist)"
   ]
  },
  {
   "cell_type": "markdown",
   "metadata": {},
   "source": [
    "#### **E1a**"
   ]
  },
  {
   "cell_type": "code",
   "execution_count": 5,
   "metadata": {},
   "outputs": [
    {
     "name": "stdout",
     "output_type": "stream",
     "text": [
      "[10, 20, 30, 40]\n",
      "<class 'list'>\n",
      "address of mylist is\t 2685088513984\n",
      "address of element\t 0 \tis\t 140724750469848\n",
      "address of element\t 1 \tis\t 140724750470168\n",
      "address of element\t 2 \tis\t 140724750470488\n",
      "address of element\t 3 \tis\t 140724750470808\n",
      "10\n",
      "4\n"
     ]
    }
   ],
   "source": [
    "mylist = [10,20,30,40]\n",
    "print(mylist)\n",
    "print(type(mylist))\n",
    "print(\"address of mylist is\\t\",id(mylist))\n",
    "for i in range(0,len(mylist)):\n",
    "    print(\"address of element\\t\",i,\"\\tis\\t\",id(mylist[i]))\n",
    "print(mylist[0])\n",
    "print(len(mylist))"
   ]
  },
  {
   "cell_type": "code",
   "execution_count": 6,
   "metadata": {},
   "outputs": [
    {
     "name": "stdout",
     "output_type": "stream",
     "text": [
      "addresses after appending\n",
      "address of mylist is\t 2685088513984\n",
      "address of element\t 0 \tis\t 140724750469848\n",
      "[10, 20, 30, 40, 50]\n",
      "address of element\t 1 \tis\t 140724750470168\n",
      "[10, 20, 30, 40, 50]\n",
      "address of element\t 2 \tis\t 140724750470488\n",
      "[10, 20, 30, 40, 50]\n",
      "address of element\t 3 \tis\t 140724750470808\n",
      "[10, 20, 30, 40, 50]\n",
      "address of element\t 4 \tis\t 140724750471128\n",
      "[10, 20, 30, 40, 50]\n"
     ]
    }
   ],
   "source": [
    "mylist.append(50)   # list is dynamic\n",
    "print(\"addresses after appending\")\n",
    "print(\"address of mylist is\\t\",id(mylist))\n",
    "for i in range(0,len(mylist)):\n",
    "    print(\"address of element\\t\",i,\"\\tis\\t\",id(mylist[i]))\n",
    "    print(mylist)"
   ]
  },
  {
   "cell_type": "code",
   "execution_count": 31,
   "metadata": {},
   "outputs": [
    {
     "name": "stdout",
     "output_type": "stream",
     "text": [
      "addresses after changing data\n",
      "address of mylist is\t 2012181838848\n",
      "address of element\t 0 \tis\t 140726454536984\n",
      "address of element\t 1 \tis\t 140726454537240\n",
      "address of element\t 2 \tis\t 140726454537560\n",
      "address of element\t 3 \tis\t 140726454537880\n",
      "address of element\t 4 \tis\t 140726454538200\n",
      "[12, 20, 30, 40, 50]\n"
     ]
    }
   ],
   "source": [
    "mylist[0]=12        # list is mutable\n",
    "print(\"addresses after changing data\")\n",
    "print(\"address of mylist is\\t\",id(mylist))\n",
    "for i in range(0,len(mylist)):\n",
    "    print(\"address of element\\t\",i,\"\\tis\\t\",id(mylist[i]))\n",
    "print(mylist)"
   ]
  },
  {
   "cell_type": "markdown",
   "metadata": {},
   "source": [
    "#### **E2**"
   ]
  },
  {
   "cell_type": "code",
   "execution_count": 33,
   "metadata": {},
   "outputs": [
    {
     "name": "stdout",
     "output_type": "stream",
     "text": [
      "[10, 'hello', 'A', 3.4, True]\n",
      "<class 'list'>\n",
      "10\n"
     ]
    }
   ],
   "source": [
    "# list of multiple data types\n",
    "\n",
    "mylist = [10,\"hello\",'A',3.4,True]\n",
    "print(mylist)\n",
    "print(type(mylist))\n",
    "print(mylist[0])\n"
   ]
  },
  {
   "cell_type": "code",
   "execution_count": 34,
   "metadata": {},
   "outputs": [
    {
     "name": "stdout",
     "output_type": "stream",
     "text": [
      "5\n",
      "[10, 'hello', 'A', 3.4, True, 50]\n"
     ]
    }
   ],
   "source": [
    "print(len(mylist))\n",
    "mylist.append(50)   # list is dynamic\n",
    "print(mylist)\n"
   ]
  },
  {
   "cell_type": "code",
   "execution_count": 35,
   "metadata": {},
   "outputs": [
    {
     "name": "stdout",
     "output_type": "stream",
     "text": [
      "[12, 'hello', 'A', 3.4, True, 50]\n"
     ]
    }
   ],
   "source": [
    "mylist[0]=12        # list is mutable\n",
    "print(mylist)"
   ]
  },
  {
   "cell_type": "markdown",
   "metadata": {},
   "source": [
    "#### **E3**"
   ]
  },
  {
   "cell_type": "code",
   "execution_count": 7,
   "metadata": {},
   "outputs": [
    {
     "name": "stdout",
     "output_type": "stream",
     "text": [
      "[[10, 'hello', 3.4], [100, True, 'welcome']]\n"
     ]
    }
   ],
   "source": [
    "# nested list\n",
    "\n",
    "mylist = [[10,\"hello\",3.4],[100,True,\"welcome\"]]\n",
    "\n",
    "print(mylist)\n"
   ]
  },
  {
   "cell_type": "code",
   "execution_count": 37,
   "metadata": {},
   "outputs": [
    {
     "name": "stdout",
     "output_type": "stream",
     "text": [
      "2\n"
     ]
    }
   ],
   "source": [
    "# let's print the size of outer list\n",
    "print(len(mylist))\n"
   ]
  },
  {
   "cell_type": "code",
   "execution_count": 38,
   "metadata": {},
   "outputs": [
    {
     "name": "stdout",
     "output_type": "stream",
     "text": [
      "3\n"
     ]
    }
   ],
   "source": [
    "# let's print the size of first nested list\n",
    "print(len(mylist[0]))\n"
   ]
  },
  {
   "cell_type": "code",
   "execution_count": 39,
   "metadata": {},
   "outputs": [
    {
     "name": "stdout",
     "output_type": "stream",
     "text": [
      "3\n"
     ]
    }
   ],
   "source": [
    "\n",
    "# let's print the size of second nested list\n",
    "print(len(mylist[1]))\n"
   ]
  },
  {
   "cell_type": "code",
   "execution_count": 40,
   "metadata": {},
   "outputs": [
    {
     "name": "stdout",
     "output_type": "stream",
     "text": [
      "[10, 'hello', 3.4]\n",
      "[100, True, 'welcome']\n"
     ]
    }
   ],
   "source": [
    "# print first nested list\n",
    "print(mylist[0])\n",
    "# print second nested list\n",
    "print(mylist[1])"
   ]
  },
  {
   "cell_type": "code",
   "execution_count": 8,
   "metadata": {},
   "outputs": [
    {
     "name": "stdout",
     "output_type": "stream",
     "text": [
      "10\n",
      "hello\n",
      "3.4\n"
     ]
    }
   ],
   "source": [
    "# let's print all the elements of first nested list\n",
    "\n",
    "for i in mylist[0]:\n",
    "    print(i)"
   ]
  },
  {
   "cell_type": "code",
   "execution_count": 42,
   "metadata": {},
   "outputs": [
    {
     "name": "stdout",
     "output_type": "stream",
     "text": [
      "100\n",
      "True\n",
      "welcome\n",
      "[[10, 'hello', 3.4], [100, True, 'welcome']]\n"
     ]
    }
   ],
   "source": [
    "# let's print all the elements of second nested list\n",
    "\n",
    "for i in mylist[1]:\n",
    "    print(i)\n",
    "\n",
    "print(mylist)\n"
   ]
  },
  {
   "cell_type": "code",
   "execution_count": 43,
   "metadata": {},
   "outputs": [
    {
     "name": "stdout",
     "output_type": "stream",
     "text": [
      "[[10, 'hello', 3.4], ['a', 'b', 'c'], [100, True, 'welcome'], [90, 3, 12, 3]]\n"
     ]
    }
   ],
   "source": [
    "mylist.append([90,3,12,3])\n",
    "mylist.insert(1,[\"a\",\"b\",'c'])\n",
    "print(mylist)"
   ]
  },
  {
   "cell_type": "markdown",
   "metadata": {},
   "source": [
    "#### **E4**"
   ]
  },
  {
   "cell_type": "code",
   "execution_count": 45,
   "metadata": {},
   "outputs": [
    {
     "name": "stdout",
     "output_type": "stream",
     "text": [
      "[10, 20, 30, 40]\n"
     ]
    }
   ],
   "source": [
    "# append and insert methods of list\n",
    "mylist = [10,20,30,40]\n",
    "\n",
    "print(mylist)\n"
   ]
  },
  {
   "cell_type": "code",
   "execution_count": 46,
   "metadata": {},
   "outputs": [
    {
     "name": "stdout",
     "output_type": "stream",
     "text": [
      "[10, 20, 'welcome', 30, 40, 90]\n"
     ]
    }
   ],
   "source": [
    "mylist.append(90)\n",
    "mylist.insert(2,\"welcome\")          # insert(index, value)\n",
    "\n",
    "print(mylist)\n"
   ]
  },
  {
   "cell_type": "code",
   "execution_count": 47,
   "metadata": {},
   "outputs": [
    {
     "name": "stdout",
     "output_type": "stream",
     "text": [
      "[[10, 20], [20, 30]]\n"
     ]
    }
   ],
   "source": [
    "\n",
    "myylist = [[10, 20],[20,30]]\n",
    "print(myylist)\n"
   ]
  },
  {
   "cell_type": "code",
   "execution_count": 48,
   "metadata": {},
   "outputs": [
    {
     "name": "stdout",
     "output_type": "stream",
     "text": [
      "[[10, 20], 'hi', [20, 30], ['welcome', 10]]\n"
     ]
    }
   ],
   "source": [
    "\n",
    "myylist.append(['welcome',10])\n",
    "myylist.insert(1,'hi')\n",
    "\n",
    "print(myylist)\n"
   ]
  },
  {
   "cell_type": "code",
   "execution_count": 49,
   "metadata": {},
   "outputs": [
    {
     "name": "stdout",
     "output_type": "stream",
     "text": [
      "[[10, ['hi', 1, 0], 20], 'hi', [20, 30], ['welcome', 10]]\n"
     ]
    }
   ],
   "source": [
    "myylist[0].insert(1,['hi',1,00])\n",
    "print(myylist)"
   ]
  },
  {
   "cell_type": "markdown",
   "metadata": {},
   "source": [
    "#### **E5**"
   ]
  },
  {
   "cell_type": "markdown",
   "metadata": {},
   "source": [
    "- Use of extend method to add multiple values at the end of the list"
   ]
  },
  {
   "cell_type": "code",
   "execution_count": 50,
   "metadata": {},
   "outputs": [
    {
     "name": "stdout",
     "output_type": "stream",
     "text": [
      "[10, 'hello', 4.5, False]\n",
      "[10, 'hello', 4.5, False, 20, True, 'welcome']\n"
     ]
    }
   ],
   "source": [
    "\n",
    "mylist = [10,\"hello\",4.5,False]\n",
    "\n",
    "print(mylist)\n",
    "mylist.extend([20,True,\"welcome\"])\n",
    "print(mylist)"
   ]
  },
  {
   "cell_type": "markdown",
   "metadata": {},
   "source": [
    "#### **E6**"
   ]
  },
  {
   "cell_type": "markdown",
   "metadata": {},
   "source": [
    "- Remove element from the list"
   ]
  },
  {
   "cell_type": "code",
   "execution_count": 51,
   "metadata": {},
   "outputs": [
    {
     "name": "stdout",
     "output_type": "stream",
     "text": [
      "[10, 'hello', 4.5, False]\n",
      "[10, 'hello', False]\n"
     ]
    }
   ],
   "source": [
    "mylist = [10,\"hello\",4.5,False]\n",
    "\n",
    "print(mylist)\n",
    "mylist.remove(4.5)\n",
    "print(mylist)"
   ]
  },
  {
   "cell_type": "markdown",
   "metadata": {},
   "source": [
    "#### **E7**"
   ]
  },
  {
   "cell_type": "markdown",
   "metadata": {},
   "source": [
    "- Negative indexing means beginning from the end, -1 refers to the last item,\n",
    "- -2 refers to the second-last item, etc."
   ]
  },
  {
   "cell_type": "code",
   "execution_count": 9,
   "metadata": {},
   "outputs": [
    {
     "name": "stdout",
     "output_type": "stream",
     "text": [
      "[10, 'hello', 4.5, False, 'A']\n",
      "A\n",
      "False\n",
      "4.5\n",
      "hello\n",
      "10\n"
     ]
    }
   ],
   "source": [
    "\n",
    "mylist = [10,\"hello\",4.5,False,'A']\n",
    "\n",
    "print(mylist)\n",
    "\n",
    "var = -1\n",
    "while var >= -5:\n",
    "    print(mylist[var])\n",
    "    var -= 1"
   ]
  },
  {
   "cell_type": "markdown",
   "metadata": {},
   "source": [
    "#### **E8**"
   ]
  },
  {
   "cell_type": "markdown",
   "metadata": {},
   "source": [
    "- Pop() function can also be used to remove and return an element from the list, but by default it removes only the last element of the list, to remove an element from a specific position of the List, the index of the element is passed as an argument to the pop() method.\n"
   ]
  },
  {
   "cell_type": "code",
   "execution_count": 53,
   "metadata": {},
   "outputs": [
    {
     "name": "stdout",
     "output_type": "stream",
     "text": [
      "[10, 'hello', 4.5, False, 'A']\n",
      "[10, 'hello', 4.5, False]\n"
     ]
    }
   ],
   "source": [
    "\n",
    "mylist = [10,\"hello\",4.5,False,'A']\n",
    "\n",
    "print(mylist)\n",
    "\n",
    "mylist.pop()  # by default removes the last element\n",
    "print(mylist)"
   ]
  },
  {
   "cell_type": "markdown",
   "metadata": {},
   "source": [
    "#### **E9**"
   ]
  },
  {
   "cell_type": "code",
   "execution_count": 54,
   "metadata": {},
   "outputs": [
    {
     "name": "stdout",
     "output_type": "stream",
     "text": [
      "[10, 'hello', 4.5, False, 'A']\n",
      "[10, 'hello', False, 'A']\n"
     ]
    }
   ],
   "source": [
    "mylist = [10,\"hello\",4.5,False,'A']\n",
    "\n",
    "print(mylist)\n",
    "\n",
    "mylist.pop(2)  #  removes element at 2nd position\n",
    "print(mylist)"
   ]
  },
  {
   "cell_type": "markdown",
   "metadata": {},
   "source": [
    "#### **E10**"
   ]
  },
  {
   "cell_type": "code",
   "execution_count": 56,
   "metadata": {},
   "outputs": [
    {
     "name": "stdout",
     "output_type": "stream",
     "text": [
      "[10, 20, 30, 40, 50, 60, 70, 80]\n"
     ]
    }
   ],
   "source": [
    "# Slicing of list\n",
    "\n",
    "mylist = [10,20,30,40,50,60,70,80]\n",
    "\n",
    "print(mylist)"
   ]
  },
  {
   "cell_type": "code",
   "execution_count": 57,
   "metadata": {},
   "outputs": [
    {
     "name": "stdout",
     "output_type": "stream",
     "text": [
      "[10, 20, 30]\n"
     ]
    }
   ],
   "source": [
    "print(mylist[0:3])   # print from 0 to 2\n"
   ]
  },
  {
   "cell_type": "code",
   "execution_count": 58,
   "metadata": {},
   "outputs": [
    {
     "name": "stdout",
     "output_type": "stream",
     "text": [
      "[60, 70, 80]\n"
     ]
    }
   ],
   "source": [
    "\n",
    "print(mylist[5:])    # print the elements from 5th till end\n"
   ]
  },
  {
   "cell_type": "code",
   "execution_count": 59,
   "metadata": {},
   "outputs": [
    {
     "name": "stdout",
     "output_type": "stream",
     "text": [
      "[40, 50, 60]\n"
     ]
    }
   ],
   "source": [
    "\n",
    "print(mylist[3:6])   # print the elements from 3rd to 5th position\n"
   ]
  },
  {
   "cell_type": "code",
   "execution_count": 61,
   "metadata": {},
   "outputs": [
    {
     "name": "stdout",
     "output_type": "stream",
     "text": [
      "[10, 20, 30, 40, 50, 60, 70, 80]\n"
     ]
    }
   ],
   "source": [
    "\n",
    "print(mylist[:])     # print the whole list\n"
   ]
  },
  {
   "cell_type": "code",
   "execution_count": 62,
   "metadata": {},
   "outputs": [
    {
     "name": "stdout",
     "output_type": "stream",
     "text": [
      "[80, 70, 60, 50, 40, 30, 20, 10]\n"
     ]
    }
   ],
   "source": [
    "print(mylist[::-1])  # print the list in reverse order"
   ]
  },
  {
   "cell_type": "code",
   "execution_count": 63,
   "metadata": {},
   "outputs": [
    {
     "name": "stdout",
     "output_type": "stream",
     "text": [
      "[10, 20, 30, 40, 50, 60, 70]\n"
     ]
    }
   ],
   "source": [
    "print(mylist[:-1])   # Elements sliced till 1st element from last\n"
   ]
  },
  {
   "cell_type": "code",
   "execution_count": 64,
   "metadata": {},
   "outputs": [
    {
     "name": "stdout",
     "output_type": "stream",
     "text": [
      "[10, 20, 30, 40]\n"
     ]
    }
   ],
   "source": [
    "print(mylist[:-4])   # Elements sliced till 4th element from last\n",
    "\n"
   ]
  },
  {
   "cell_type": "code",
   "execution_count": 65,
   "metadata": {},
   "outputs": [
    {
     "name": "stdout",
     "output_type": "stream",
     "text": [
      "[30, 40]\n"
     ]
    }
   ],
   "source": [
    "print(mylist[-6:-4]) # Elements sliced from 6th to 4th element from the last"
   ]
  },
  {
   "cell_type": "markdown",
   "metadata": {},
   "source": [
    "#### **E11**"
   ]
  },
  {
   "cell_type": "markdown",
   "metadata": {},
   "source": [
    "- List comprehensions are used for creating new lists from other iterables like tuples, strings, arrays, lists, etc.\n",
    "\n",
    "- A list comprehension consists of brackets containing the expression, which is executed for each element along with the for loop to iterate over each # element. "
   ]
  },
  {
   "cell_type": "code",
   "execution_count": 66,
   "metadata": {},
   "outputs": [
    {
     "name": "stdout",
     "output_type": "stream",
     "text": [
      "[4, 6, 8, 10, 12, 14, 16, 18]\n"
     ]
    }
   ],
   "source": [
    "# list contains all even numbers between 4 to 20\n",
    "\n",
    "mylist = [i for i in range(4,20) if i%2 == 0]\n",
    "\n",
    "print(mylist)"
   ]
  },
  {
   "cell_type": "markdown",
   "metadata": {},
   "source": [
    "#### **E12**"
   ]
  },
  {
   "cell_type": "code",
   "execution_count": 67,
   "metadata": {},
   "outputs": [
    {
     "name": "stdout",
     "output_type": "stream",
     "text": [
      "[23, 12, 6, 8, 11, 9, 13]\n",
      "[6, 8, 9, 11, 12, 13, 23]\n",
      "[23, 13, 12, 11, 9, 8, 6]\n"
     ]
    }
   ],
   "source": [
    "# sort the list in ascending and descending order\n",
    "\n",
    "mylist = [23,12,6,8,11,9,13]\n",
    "print(mylist)\n",
    "mylist.sort()\n",
    "print(mylist)\n",
    "mylist.sort(reverse=True)\n",
    "print(mylist)"
   ]
  },
  {
   "cell_type": "markdown",
   "metadata": {},
   "source": [
    "#### **E13**"
   ]
  },
  {
   "cell_type": "code",
   "execution_count": 68,
   "metadata": {},
   "outputs": [
    {
     "name": "stdout",
     "output_type": "stream",
     "text": [
      "[<__main__.Student object at 0x000001D47F5FB800>, <__main__.Student object at 0x000001D47F5F8A70>, <__main__.Student object at 0x000001D47F5F9370>]\n",
      "Sachin\t23\n",
      "Rahul\t32\n",
      "Anand\t34\n"
     ]
    }
   ],
   "source": [
    "# sort the list in ascending and descending order\n",
    "\n",
    "class Student:\n",
    "    def __init__(self,name,age):\n",
    "        self.name=name\n",
    "        self.age=age\n",
    "    def __str__(self):\n",
    "        return  self.name +\"\\t\"+str(self.age)\n",
    "\n",
    "s1 = Student(\"Sachin\",23)\n",
    "s2 = Student(\"Rahul\",32)\n",
    "s3 = Student(\"Anand\",34)\n",
    "\n",
    "mylist = [s1,s2,s3]\n",
    "print(mylist)\n",
    "\n",
    "for i in mylist:\n",
    "    print(i)\n",
    "\n",
    "\n"
   ]
  },
  {
   "cell_type": "code",
   "execution_count": 69,
   "metadata": {},
   "outputs": [
    {
     "name": "stdout",
     "output_type": "stream",
     "text": [
      "Sachin\t23\n",
      "Rahul\t32\n",
      "Anand\t34\n"
     ]
    }
   ],
   "source": [
    "# mylist.sort() # TypeError: '<' not supported between instances of 'Student' and 'Student'\n",
    "        # we must provide some strategy based on which sort() method  will sort the object\n",
    "\n",
    "for i in mylist:\n",
    "    print(i)"
   ]
  },
  {
   "cell_type": "markdown",
   "metadata": {},
   "source": [
    "#### **E14**"
   ]
  },
  {
   "cell_type": "code",
   "execution_count": 72,
   "metadata": {},
   "outputs": [
    {
     "name": "stdout",
     "output_type": "stream",
     "text": [
      "[<__main__.Student object at 0x000001D47F6134D0>, <__main__.Student object at 0x000001D47F610A40>, <__main__.Student object at 0x000001D47F798B60>]\n",
      "Sachin\t23\n",
      "Rahul\t32\n",
      "Anand\t34\n"
     ]
    }
   ],
   "source": [
    "# sort the list in ascending order\n",
    "\n",
    "class Student:\n",
    "    def __init__(self,name,age):\n",
    "        self.name=name\n",
    "        self.age=age\n",
    "    def __str__(self):\n",
    "        return  self.name +\"\\t\"+str(self.age)\n",
    "    def getname(self):\n",
    "        return self.name\n",
    "    def getage(self):\n",
    "        return self.age\n",
    "    \n",
    "s1 = Student(\"Sachin\",23)\n",
    "s2 = Student(\"Rahul\",32)\n",
    "s3 = Student(\"Anand\",34)\n",
    "\n",
    "mylist = [s1,s2,s3]\n",
    "print(mylist)\n",
    "\n",
    "for i in mylist:\n",
    "    print(i)\n"
   ]
  },
  {
   "cell_type": "code",
   "execution_count": 73,
   "metadata": {},
   "outputs": [
    {
     "name": "stdout",
     "output_type": "stream",
     "text": [
      "After sorting\n",
      "Anand\t34\n",
      "Rahul\t32\n",
      "Sachin\t23\n"
     ]
    }
   ],
   "source": [
    "mylist.sort(key=Student.getname)     # strategy of name based on which sort() method  will sort the object\n",
    "print(\"After sorting\")\n",
    "for i in mylist:\n",
    "    print(i)"
   ]
  },
  {
   "cell_type": "markdown",
   "metadata": {},
   "source": [
    "#### **E15**"
   ]
  },
  {
   "cell_type": "code",
   "execution_count": 74,
   "metadata": {},
   "outputs": [
    {
     "name": "stdout",
     "output_type": "stream",
     "text": [
      "[<__main__.Student object at 0x000001D47F612630>, <__main__.Student object at 0x000001D47F6136E0>, <__main__.Student object at 0x000001D47F5F9370>]\n",
      "Sachin\t23\n",
      "Rahul\t32\n",
      "Anand\t34\n"
     ]
    }
   ],
   "source": [
    "# sort the list in ascending order\n",
    "\n",
    "class Student:\n",
    "    def __init__(self,name,age):\n",
    "        self.name=name\n",
    "        self.age=age\n",
    "    def __str__(self):\n",
    "        return  self.name +\"\\t\"+str(self.age)\n",
    "    def getname(self):\n",
    "        return self.name\n",
    "    def getage(self):\n",
    "        return self.age\n",
    "\n",
    "s1 = Student(\"Sachin\",23)\n",
    "s2 = Student(\"Rahul\",32)\n",
    "s3 = Student(\"Anand\",34)\n",
    "\n",
    "mylist = [s1,s2,s3]\n",
    "print(mylist)\n",
    "\n",
    "for i in mylist:\n",
    "    print(i)\n",
    "\n",
    "\n"
   ]
  },
  {
   "cell_type": "code",
   "execution_count": 75,
   "metadata": {},
   "outputs": [
    {
     "name": "stdout",
     "output_type": "stream",
     "text": [
      "After sorting\n",
      "Sachin\t23\n",
      "Rahul\t32\n",
      "Anand\t34\n"
     ]
    }
   ],
   "source": [
    "mylist.sort(key=Student.getage)     # strategy of age based on which sort() method  will sort the object\n",
    "print(\"After sorting\")\n",
    "for i in mylist:\n",
    "    print(i)"
   ]
  },
  {
   "cell_type": "markdown",
   "metadata": {},
   "source": [
    "#### **E16**"
   ]
  },
  {
   "cell_type": "code",
   "execution_count": 76,
   "metadata": {},
   "outputs": [
    {
     "name": "stdout",
     "output_type": "stream",
     "text": [
      "[<__main__.Student object at 0x000001D47F79AAE0>, <__main__.Student object at 0x000001D47F79B1A0>, <__main__.Student object at 0x000001D47F79B920>]\n",
      "Sachin\t23\n",
      "Rahul\t32\n",
      "Anand\t34\n"
     ]
    }
   ],
   "source": [
    "# sort the list in descending order\n",
    "\n",
    "class Student:\n",
    "    def __init__(self,name,age):\n",
    "        self.name=name\n",
    "        self.age=age\n",
    "    def __str__(self):\n",
    "        return  self.name +\"\\t\"+str(self.age)\n",
    "    def getname(self):\n",
    "        return self.name\n",
    "    def getage(self):\n",
    "        return self.age\n",
    "\n",
    "s1 = Student(\"Sachin\",23)\n",
    "s2 = Student(\"Rahul\",32)\n",
    "s3 = Student(\"Anand\",34)\n",
    "\n",
    "mylist = [s1,s2,s3]\n",
    "print(mylist)\n",
    "\n",
    "for i in mylist:\n",
    "    print(i)"
   ]
  },
  {
   "cell_type": "code",
   "execution_count": 77,
   "metadata": {},
   "outputs": [
    {
     "name": "stdout",
     "output_type": "stream",
     "text": [
      "After sorting\n",
      "Anand\t34\n",
      "Rahul\t32\n",
      "Sachin\t23\n"
     ]
    }
   ],
   "source": [
    "mylist.sort(key=Student.getage,reverse=True)     # strategy of age based on which sort() method  will sort the object in a reverse order\n",
    "print(\"After sorting\")\n",
    "for i in mylist:\n",
    "    print(i)"
   ]
  },
  {
   "cell_type": "markdown",
   "metadata": {},
   "source": [
    "#### **E17**"
   ]
  },
  {
   "cell_type": "code",
   "execution_count": 1,
   "metadata": {},
   "outputs": [
    {
     "name": "stdout",
     "output_type": "stream",
     "text": [
      "['abc', 'xyz', 'pqr', 'lmn']\n",
      "<class 'list'>\n"
     ]
    }
   ],
   "source": [
    "# searching from a list with the help of \"in\" and \"index()\" function\n",
    "\n",
    "mylist = [\"abc\",\"xyz\",\"pqr\",\"lmn\"]\n",
    "\n",
    "print(mylist)\n",
    "print(type(mylist))"
   ]
  },
  {
   "cell_type": "code",
   "execution_count": 2,
   "metadata": {},
   "outputs": [
    {
     "name": "stdout",
     "output_type": "stream",
     "text": [
      "abc is there in the list\n",
      "abc  is there in the list at  0  position\n"
     ]
    }
   ],
   "source": [
    "myval = input(\"enter value to search in the list: \")\n",
    "if myval in mylist:\n",
    "    print(myval, \"is there in the list\")\n",
    "    print(myval,\" is there in the list at \",mylist.index(myval),\" position\")\n",
    "else:\n",
    "    print(myval,\" is not there in the list\")"
   ]
  },
  {
   "cell_type": "markdown",
   "metadata": {},
   "source": [
    "#### **How to extend the list without append**"
   ]
  },
  {
   "cell_type": "code",
   "execution_count": 11,
   "metadata": {},
   "outputs": [
    {
     "name": "stdout",
     "output_type": "stream",
     "text": [
      "[10, 20, 30, 40, 50, 60]\n",
      "[40, 50, 60, 10, 20, 30, 40, 50, 60]\n",
      "[40, 50, 40, 50, 60]\n"
     ]
    }
   ],
   "source": [
    "# how to extend the list without append\n",
    "x = [10, 20, 30]\n",
    "y = [40, 50, 60]\n",
    "x+=y\n",
    "print(x)\n",
    "\n",
    "x[:0]=y    #from begining to 0th index\n",
    "print(x)\n",
    "\n",
    "x[2:]=y     #from 3rd to last\n",
    "print(x)"
   ]
  },
  {
   "cell_type": "markdown",
   "metadata": {},
   "source": [
    "#### **How to iterate over 2 lists simultaneously**"
   ]
  },
  {
   "cell_type": "code",
   "execution_count": 25,
   "metadata": {},
   "outputs": [
    {
     "name": "stdout",
     "output_type": "stream",
     "text": [
      "1 red\n",
      "2 white\n",
      "3 black\n"
     ]
    }
   ],
   "source": [
    "num = [1, 2, 3]\n",
    "color = ['red', 'white', 'black']\n",
    "for (a,b) in zip(num, color):\n",
    "     print(a, b)"
   ]
  },
  {
   "cell_type": "markdown",
   "metadata": {},
   "source": [
    "#### **Sort the list without using collection.sort and any type of sorting algorithm**"
   ]
  },
  {
   "cell_type": "code",
   "execution_count": 26,
   "metadata": {},
   "outputs": [
    {
     "name": "stdout",
     "output_type": "stream",
     "text": [
      "[-23, -6, -5, 0, 5, 23, 23, 67]\n"
     ]
    }
   ],
   "source": [
    "data_list = [-5, -23, 5, 0, 23, -6, 23, 67]\n",
    "new_list = []\n",
    "\n",
    "while data_list:\n",
    "    minimum = data_list[0]  # arbitrary number in list \n",
    "    for x in data_list: \n",
    "        if x < minimum:\n",
    "            minimum = x\n",
    "    new_list.append(minimum)\n",
    "    data_list.remove(minimum)    \n",
    "\n",
    "print (new_list)"
   ]
  },
  {
   "cell_type": "code",
   "execution_count": 12,
   "metadata": {},
   "outputs": [
    {
     "name": "stdout",
     "output_type": "stream",
     "text": [
      "3\n"
     ]
    }
   ],
   "source": [
    "\n",
    "# let's print the size of second nested list\n",
    "print(len(mylist[1]))\n"
   ]
  },
  {
   "cell_type": "markdown",
   "metadata": {},
   "source": [
    "#### **Using list as queue**"
   ]
  },
  {
   "cell_type": "code",
   "execution_count": 85,
   "metadata": {},
   "outputs": [
    {
     "name": "stdout",
     "output_type": "stream",
     "text": [
      "Initial queue\n",
      "['a', 'b', 'c']\n"
     ]
    }
   ],
   "source": [
    "\n",
    "queue = []\n",
    "  \n",
    "\n",
    "queue.append('a')\n",
    "queue.append('b')\n",
    "queue.append('c')\n",
    "  \n",
    "print(\"Initial queue\")\n",
    "print(queue)\n"
   ]
  },
  {
   "cell_type": "code",
   "execution_count": 86,
   "metadata": {},
   "outputs": [
    {
     "name": "stdout",
     "output_type": "stream",
     "text": [
      "\n",
      "Elements dequeued from queue\n",
      "a\n",
      "b\n",
      "c\n"
     ]
    }
   ],
   "source": [
    "print(\"\\nElements dequeued from queue\")\n",
    "print(queue.pop(0))\n",
    "print(queue.pop(0))\n",
    "print(queue.pop(0))"
   ]
  },
  {
   "cell_type": "code",
   "execution_count": 87,
   "metadata": {},
   "outputs": [
    {
     "name": "stdout",
     "output_type": "stream",
     "text": [
      "\n",
      "Queue after removing elements\n",
      "[]\n"
     ]
    }
   ],
   "source": [
    "\n",
    "print(\"\\nQueue after removing elements\")\n",
    "print(queue)"
   ]
  },
  {
   "cell_type": "markdown",
   "metadata": {},
   "source": [
    "#### **Using list as stack**"
   ]
  },
  {
   "cell_type": "code",
   "execution_count": 88,
   "metadata": {},
   "outputs": [
    {
     "name": "stdout",
     "output_type": "stream",
     "text": [
      "Initial stack\n",
      "['a', 'b', 'c']\n"
     ]
    }
   ],
   "source": [
    "stack = []\n",
    " \n",
    "\n",
    "stack.append('a')\n",
    "stack.append('b')\n",
    "stack.append('c')\n",
    " \n",
    "print('Initial stack')\n",
    "print(stack)"
   ]
  },
  {
   "cell_type": "code",
   "execution_count": 89,
   "metadata": {},
   "outputs": [
    {
     "name": "stdout",
     "output_type": "stream",
     "text": [
      "\n",
      "Elements popped from stack:\n",
      "c\n",
      "b\n",
      "a\n"
     ]
    }
   ],
   "source": [
    "# LIFO order\n",
    "print('\\nElements popped from stack:')\n",
    "print(stack.pop())\n",
    "print(stack.pop())\n",
    "print(stack.pop())"
   ]
  },
  {
   "cell_type": "code",
   "execution_count": 90,
   "metadata": {},
   "outputs": [
    {
     "name": "stdout",
     "output_type": "stream",
     "text": [
      "\n",
      "Stack after elements are popped:\n",
      "[]\n"
     ]
    }
   ],
   "source": [
    "print('\\nStack after elements are popped:')\n",
    "print(stack)"
   ]
  },
  {
   "cell_type": "markdown",
   "metadata": {},
   "source": [
    "#### **Accept Multiple values**"
   ]
  },
  {
   "cell_type": "markdown",
   "metadata": {},
   "source": [
    "##### **How to accept multiple values_1**"
   ]
  },
  {
   "cell_type": "code",
   "execution_count": 29,
   "metadata": {},
   "outputs": [
    {
     "name": "stdout",
     "output_type": "stream",
     "text": [
      "55\n",
      "75\n",
      "96\n",
      "79\n",
      "75\n"
     ]
    }
   ],
   "source": [
    "a,b,c,d,e = [int(x) for x in input(\"Enter five values: \").split()]\n",
    "print(a+10)\n",
    "print(b+10)\n",
    "print(c+10)\n",
    "print(d+10)\n",
    "print(e+10)"
   ]
  },
  {
   "cell_type": "markdown",
   "metadata": {},
   "source": [
    "##### **How to accept multiple values**"
   ]
  },
  {
   "cell_type": "code",
   "execution_count": 31,
   "metadata": {},
   "outputs": [
    {
     "name": "stdout",
     "output_type": "stream",
     "text": [
      "h\n",
      "k\n",
      "kl\n",
      "o\n",
      "ae\n"
     ]
    }
   ],
   "source": [
    "a,b,c,d,e = input(\"Enter five values: \").split()\n",
    "print(a)\n",
    "print(b)\n",
    "print(c)\n",
    "print(d)\n",
    "print(e)"
   ]
  },
  {
   "cell_type": "markdown",
   "metadata": {},
   "source": [
    "##### **How to accept n number of data**"
   ]
  },
  {
   "cell_type": "code",
   "execution_count": 32,
   "metadata": {},
   "outputs": [
    {
     "name": "stdout",
     "output_type": "stream",
     "text": [
      "Number of list is:  [7, 8, 6, 5]\n"
     ]
    }
   ],
   "source": [
    "mylist = [int(num) for num in input(\"Enter multiple values: \").split()]\n",
    "print(\"Number of list is: \", mylist) "
   ]
  },
  {
   "cell_type": "code",
   "execution_count": 96,
   "metadata": {},
   "outputs": [
    {
     "name": "stdout",
     "output_type": "stream",
     "text": [
      "20\n",
      "30\n",
      "40\n",
      "50\n",
      "60\n"
     ]
    }
   ],
   "source": [
    "a,b,c,d,e = [10,20,30,40,50]\n",
    "print(a+10)\n",
    "print(b+10)\n",
    "print(c+10)\n",
    "print(d+10)\n",
    "print(e+10)"
   ]
  },
  {
   "cell_type": "markdown",
   "metadata": {},
   "source": [
    "#### **Slicing in list**"
   ]
  },
  {
   "cell_type": "markdown",
   "metadata": {},
   "source": [
    "##### **E1**"
   ]
  },
  {
   "cell_type": "code",
   "execution_count": 34,
   "metadata": {},
   "outputs": [
    {
     "name": "stdout",
     "output_type": "stream",
     "text": [
      "[10, 20, 30, 40, 50]\n",
      "[10, 20, 30, 40, 50]\n",
      "[10, 20, 30, 40, 50]\n",
      "[20, 40]\n",
      "[10, 30, 50]\n",
      "[30, 50]\n",
      "[20, 30, 40]\n",
      "[30, 40, 50]\n",
      "[10, 20]\n",
      "[20, 30, 40]\n",
      "[50, 40, 30, 20, 10]\n",
      "[50, 30, 10]\n",
      "[50, 30]\n",
      "[50, 40, 30]\n",
      "[50, 40]\n",
      "[50]\n",
      "[10]\n"
     ]
    }
   ],
   "source": [
    "# print(mylist[1::3]) will print every third element starting\n",
    "# from the second element of mylist.\n",
    "\n",
    "mylist=[10,20,30,40,50]\n",
    "print(mylist)\n",
    "print(mylist[:])\n",
    "print(mylist[::])\n",
    "print(mylist[1::2])  # print every second element from position 1\n",
    "print(mylist[::2])   # print every second element from the beginning\n",
    "print(mylist[2::2])   # print every second element from position 2\n",
    "print(mylist[1:4])    # from position 1 to 3, 4 is exclusive\n",
    "print(mylist[2:])     # from position 2 till end\n",
    "print(mylist[:2])     # from position 0 till 1 , 2 is exclusive\n",
    "print(mylist[-4:-1])  # from position -4 till -2  -1 is exclusive\n",
    "print(mylist[::-1])   # print every element from the last\n",
    "print(mylist[::-2])   # print every second element from the last\n",
    "print(mylist[:1:-2])  # print every second element from the last till index 2\n",
    "print(mylist[:1:-1])  # print every element from the last till index 2\n",
    "print(mylist[:2:-1])  # print every element from the last till index 3\n",
    "print(mylist[:2:-2])  # print every second element from the last till index 3\n",
    "print(mylist[:2:2])   # print from 0 to 1 with the step 2"
   ]
  },
  {
   "cell_type": "markdown",
   "metadata": {},
   "source": [
    "##### **First**"
   ]
  },
  {
   "cell_type": "code",
   "execution_count": 98,
   "metadata": {},
   "outputs": [
    {
     "name": "stdout",
     "output_type": "stream",
     "text": [
      "3\n",
      "5\n",
      "7\n",
      "11\n",
      "13\n",
      "17\n",
      "19\n",
      "23\n",
      "29\n"
     ]
    }
   ],
   "source": [
    "\n",
    "for num in range(3,31):\n",
    "    for i in range(2,num):\n",
    "        if (num% i)==0:\n",
    "            break\n",
    "    else:\n",
    "        print(num)"
   ]
  },
  {
   "cell_type": "markdown",
   "metadata": {},
   "source": [
    "### **Set**"
   ]
  },
  {
   "cell_type": "markdown",
   "metadata": {},
   "source": [
    "- In Python, Set is an unordered collection of data type that is iterable, mutable and has no duplicate elements. The order of elements in a set is undefined though it may consist of various elements.\n",
    "- The major advantage of using a set, as opposed to a list, is that it has a highly optimized method for checking whether a specific element is contained in the set.\n",
    "- Creating a Set\n",
    "Sets can be created by using the built-in set() function with an iterable object or a sequence by placing the sequence inside curly braces, separated by ‘comma’.\n",
    "Note – A set cannot have mutable elements like a list or dictionary, as it is immutable.  \n"
   ]
  },
  {
   "cell_type": "markdown",
   "metadata": {},
   "source": [
    "#### **Example of set , order is not fixed and duplicates are not allowed**"
   ]
  },
  {
   "cell_type": "code",
   "execution_count": 115,
   "metadata": {},
   "outputs": [
    {
     "name": "stdout",
     "output_type": "stream",
     "text": [
      "{40, 10, 20, 30}\n",
      "<class 'set'>\n"
     ]
    }
   ],
   "source": [
    "myset= {10,20,30,40,20}\n",
    "print(myset)\n",
    "print(type(myset))"
   ]
  },
  {
   "cell_type": "markdown",
   "metadata": {},
   "source": [
    "#### **E1**"
   ]
  },
  {
   "cell_type": "code",
   "execution_count": 99,
   "metadata": {},
   "outputs": [
    {
     "name": "stdout",
     "output_type": "stream",
     "text": [
      "{40, 10, 20, 30}\n",
      "<class 'set'>\n",
      "40\n",
      "10\n",
      "20\n",
      "30\n"
     ]
    }
   ],
   "source": [
    "# first example of set\n",
    "\n",
    "myset = {10,20,30,40,30}     # duplicates are not allowed\n",
    "print(myset)\n",
    "print(type(myset))\n",
    "\n",
    "# iterating set\n",
    "for i in myset:\n",
    "    print(i)"
   ]
  },
  {
   "cell_type": "markdown",
   "metadata": {},
   "source": [
    "#### **E2**"
   ]
  },
  {
   "cell_type": "markdown",
   "metadata": {},
   "source": [
    "- set() function to convert a list with duplicate values into set"
   ]
  },
  {
   "cell_type": "code",
   "execution_count": 100,
   "metadata": {},
   "outputs": [
    {
     "name": "stdout",
     "output_type": "stream",
     "text": [
      "[1, 2, 3, 4, 5, 6, 5, 5, 1, 8, 9, 10]\n",
      "<class 'list'>\n",
      "{1, 2, 3, 4, 5, 6, 8, 9, 10}\n",
      "<class 'set'>\n"
     ]
    }
   ],
   "source": [
    "mylist = [1,2,3,4,5,6,5,5,1,8,9,10]\n",
    "\n",
    "print(mylist)\n",
    "print(type(mylist))"
   ]
  },
  {
   "cell_type": "code",
   "execution_count": 101,
   "metadata": {},
   "outputs": [
    {
     "name": "stdout",
     "output_type": "stream",
     "text": [
      "{1, 2, 3, 4, 5, 6, 8, 9, 10}\n",
      "<class 'set'>\n"
     ]
    }
   ],
   "source": [
    "# convert list into set\n",
    "\n",
    "myset = set(mylist)\n",
    "print(myset)\n",
    "print(type(myset))"
   ]
  },
  {
   "cell_type": "markdown",
   "metadata": {},
   "source": [
    "#### **E3**"
   ]
  },
  {
   "cell_type": "code",
   "execution_count": 102,
   "metadata": {},
   "outputs": [
    {
     "name": "stdout",
     "output_type": "stream",
     "text": [
      "[1, 2, 3, 4, 5, 6, 5, 5, 1, 8, 9, 10]\n",
      "<class 'list'>\n"
     ]
    }
   ],
   "source": [
    "mylist = [1,2,3,4,5,6,5,5,1,8,9,10]\n",
    "\n",
    "print(mylist)\n",
    "print(type(mylist))\n",
    "\n"
   ]
  },
  {
   "cell_type": "code",
   "execution_count": 103,
   "metadata": {},
   "outputs": [
    {
     "name": "stdout",
     "output_type": "stream",
     "text": [
      "{1, 2, 3, 4, 5, 6, 8, 9, 10}\n",
      "<class 'set'>\n"
     ]
    }
   ],
   "source": [
    "# convert list into set\n",
    "\n",
    "myset = set(mylist)\n",
    "print(myset)\n",
    "print(type(myset))\n",
    "\n"
   ]
  },
  {
   "cell_type": "code",
   "execution_count": 104,
   "metadata": {},
   "outputs": [
    {
     "name": "stdout",
     "output_type": "stream",
     "text": [
      "{1, 2, 3, 4, 5, 6, 8, 9, 10, 12, 15}\n"
     ]
    }
   ],
   "source": [
    "# add method to add values in the set\n",
    "myset.add(12)\n",
    "myset.add(15)\n",
    "print(myset)"
   ]
  },
  {
   "cell_type": "markdown",
   "metadata": {},
   "source": [
    "#### **E4**"
   ]
  },
  {
   "cell_type": "markdown",
   "metadata": {},
   "source": [
    "- \"update()\" function to add two or more elements into set\n"
   ]
  },
  {
   "cell_type": "code",
   "execution_count": 106,
   "metadata": {},
   "outputs": [
    {
     "name": "stdout",
     "output_type": "stream",
     "text": [
      "{1, 2, 3, 4, 5}\n",
      "<class 'set'>\n"
     ]
    }
   ],
   "source": [
    "myset = {1,2,3,4,5}\n",
    "\n",
    "print(myset)\n",
    "print(type(myset))\n"
   ]
  },
  {
   "cell_type": "code",
   "execution_count": 107,
   "metadata": {},
   "outputs": [
    {
     "name": "stdout",
     "output_type": "stream",
     "text": [
      "{1, 2, 3, 4, 5, 20, 10, 30}\n"
     ]
    }
   ],
   "source": [
    "# adding a tuple\n",
    "myset.update((10,20,30))\n",
    "\n",
    "print(myset)\n"
   ]
  },
  {
   "cell_type": "code",
   "execution_count": 108,
   "metadata": {},
   "outputs": [
    {
     "name": "stdout",
     "output_type": "stream",
     "text": [
      "{1, 2, 3, 4, 5, 'B', 'welcome', 10, 'A', 20, 'C', 30, 'hello'}\n"
     ]
    }
   ],
   "source": [
    "\n",
    "# adding list and tuple\n",
    "myset.update(['A','B','C'],(\"hello\",\"welcome\"))\n",
    "print(myset)"
   ]
  },
  {
   "cell_type": "markdown",
   "metadata": {},
   "source": [
    "#### **E5**"
   ]
  },
  {
   "cell_type": "markdown",
   "metadata": {},
   "source": [
    "- Using remove() method or discard() method Elements can be removed from the Set by using built-in remove() function but a KeyError arises if element doesn’t exist in the set.\n",
    "- To remove elements from a set without KeyError, use discard(),\n",
    "if the element doesn’t exist in the set, it remains unchanged."
   ]
  },
  {
   "cell_type": "code",
   "execution_count": 12,
   "metadata": {},
   "outputs": [
    {
     "name": "stdout",
     "output_type": "stream",
     "text": [
      "{1, 2, 3, 4, 5, 6, 7}\n"
     ]
    }
   ],
   "source": [
    "myset = {1,2,3,4,5,6,7}\n",
    "\n",
    "print(myset)\n",
    "\n"
   ]
  },
  {
   "cell_type": "code",
   "execution_count": 13,
   "metadata": {},
   "outputs": [
    {
     "name": "stdout",
     "output_type": "stream",
     "text": [
      "{1, 2, 3, 5, 6, 7}\n",
      "{2, 3, 5, 6, 7}\n"
     ]
    }
   ],
   "source": [
    "myset.remove(4)\n",
    "print(myset)\n",
    "myset.pop()\n",
    "print(myset)\n"
   ]
  },
  {
   "cell_type": "code",
   "execution_count": 14,
   "metadata": {},
   "outputs": [
    {
     "name": "stdout",
     "output_type": "stream",
     "text": [
      "{2, 3, 5, 6, 7}\n"
     ]
    }
   ],
   "source": [
    "# myset.remove(10)    # error  KeyError: 10\n",
    "print(myset)\n",
    "\n"
   ]
  },
  {
   "cell_type": "code",
   "execution_count": 112,
   "metadata": {},
   "outputs": [
    {
     "name": "stdout",
     "output_type": "stream",
     "text": [
      "{4, 5, 6, 7}\n"
     ]
    }
   ],
   "source": [
    "myset.discard(2)\n",
    "print(myset)"
   ]
  },
  {
   "cell_type": "markdown",
   "metadata": {},
   "source": [
    "#### **How set is internally implemented**"
   ]
  },
  {
   "cell_type": "markdown",
   "metadata": {},
   "source": [
    "- as a dictionary so that means whatever elements you provide will be taken as a key and value will be provided implicitly.\n",
    "\n",
    "e.g\n",
    "\n",
    "- myset={1,2,3,4,5} \n",
    "\n",
    "here all these are keys. that's the reason when you try to say myset.remove(6), it gives you an error \"KeyError\""
   ]
  },
  {
   "cell_type": "markdown",
   "metadata": {},
   "source": [
    "### **Tuple**"
   ]
  },
  {
   "cell_type": "markdown",
   "metadata": {},
   "source": [
    "- A tuple is a sequence of ***immutable*** Python objects. Tuples are *sequences*, just like lists. The main difference between the tuples and the lists is that the tuples ***cannot be changed*** unlike lists. Tuples use ***parentheses***, whereas lists use square brackets.\n",
    "- Creating a tuple is as simple as putting different comma-separated values. Optionally, you can put these comma-separated values between parentheses also. For example −\n",
    "\n",
    "    tup1 = ('physics', 'chemistry', 1997, 2000)\n",
    "    tup2 = (1, 2, 3, 4, 5 )\n",
    "    tup3 = \"a\", \"b\", \"c\", \"d\"\n",
    "\n",
    "    The empty tuple is written as two parentheses containing nothing −\n",
    "    tup1 = ();\n",
    "\n",
    "    To write a tuple containing a single value you have to include a comma, even though there is only one value −\n",
    "    tup1 = (50,)\n",
    "\n",
    "    Like string indices, tuple indices start at 0, and they can be sliced, concatenated, and so on.\n",
    "\n"
   ]
  },
  {
   "cell_type": "markdown",
   "metadata": {},
   "source": [
    "#### **E1**"
   ]
  },
  {
   "cell_type": "code",
   "execution_count": 1,
   "metadata": {},
   "outputs": [
    {
     "name": "stdout",
     "output_type": "stream",
     "text": [
      "(10, 'hello', 4.6, True, 'N')\n",
      "5\n"
     ]
    }
   ],
   "source": [
    "# Tuple\n",
    "\n",
    "mytuple = (10,\"hello\",4.6,True,'N')\n",
    "\n",
    "print(mytuple)\n",
    "\n",
    "print(len(mytuple))"
   ]
  },
  {
   "cell_type": "code",
   "execution_count": 119,
   "metadata": {},
   "outputs": [
    {
     "name": "stdout",
     "output_type": "stream",
     "text": [
      "10\n",
      "(10, 'hello', 4.6, True, 'N', 500, 'welcome', False)\n"
     ]
    }
   ],
   "source": [
    "print(mytuple[0])  # accessing a particular element of a tuple\n",
    "\n",
    "# mytuple[1]=\"welcome\"   # Error : cannot change tuple\n",
    "\n",
    "# how to concat tuple\n",
    "mytuple1=mytuple+ (500,\"welcome\",False)\n",
    "print(mytuple1)"
   ]
  },
  {
   "cell_type": "markdown",
   "metadata": {},
   "source": [
    "#### **E2**"
   ]
  },
  {
   "cell_type": "code",
   "execution_count": 2,
   "metadata": {},
   "outputs": [
    {
     "name": "stdout",
     "output_type": "stream",
     "text": [
      "first tuple is\n",
      "(1, 2, 3, 4, 5, 6, 7, 8, 9, 10)\n"
     ]
    }
   ],
   "source": [
    "# creating a tuple with built-in function\n",
    "\n",
    "mytuple1 = tuple(i for i in range(1, 11))\n",
    "\n",
    "print(\"first tuple is\")\n",
    "print(mytuple1)"
   ]
  },
  {
   "cell_type": "code",
   "execution_count": 121,
   "metadata": {},
   "outputs": [
    {
     "name": "stdout",
     "output_type": "stream",
     "text": [
      "displaying one by one element of a tuple\n",
      "1\n",
      "2\n",
      "3\n",
      "4\n",
      "5\n",
      "6\n",
      "7\n",
      "8\n",
      "9\n",
      "10\n"
     ]
    }
   ],
   "source": [
    "print(\"displaying one by one element of a tuple\")\n",
    "\n",
    "for i in mytuple1:\n",
    "    print(i)\n"
   ]
  },
  {
   "cell_type": "code",
   "execution_count": 1,
   "metadata": {},
   "outputs": [
    {
     "name": "stdout",
     "output_type": "stream",
     "text": [
      "list is \n",
      "['hello', 5.6, True, 100, 'A']\n"
     ]
    },
    {
     "ename": "ValueError",
     "evalue": "dictionary update sequence element #0 has length 5; 2 is required",
     "output_type": "error",
     "traceback": [
      "\u001b[1;31m---------------------------------------------------------------------------\u001b[0m",
      "\u001b[1;31mValueError\u001b[0m                                Traceback (most recent call last)",
      "Cell \u001b[1;32mIn[1], line 7\u001b[0m\n\u001b[0;32m      5\u001b[0m \u001b[38;5;28mprint\u001b[39m(mylist)\n\u001b[0;32m      6\u001b[0m myset\u001b[38;5;241m=\u001b[39m\u001b[38;5;28mset\u001b[39m(mylist)\n\u001b[1;32m----> 7\u001b[0m mydict\u001b[38;5;241m=\u001b[39m\u001b[38;5;28;43mdict\u001b[39;49m\u001b[43m(\u001b[49m\u001b[43mmylist\u001b[49m\u001b[43m)\u001b[49m\n\u001b[0;32m      8\u001b[0m mytuple2 \u001b[38;5;241m=\u001b[39m \u001b[38;5;28mtuple\u001b[39m(mylist)\n\u001b[0;32m     10\u001b[0m \u001b[38;5;28mprint\u001b[39m(\u001b[38;5;124m\"\u001b[39m\u001b[38;5;124mtuple created with the help of list is\u001b[39m\u001b[38;5;124m\"\u001b[39m)\n",
      "\u001b[1;31mValueError\u001b[0m: dictionary update sequence element #0 has length 5; 2 is required"
     ]
    }
   ],
   "source": [
    "# creating a tuple with the help of list\n",
    "\n",
    "mylist = [\"hello\",5.6,True,100,'A']\n",
    "print(\"list is \")\n",
    "print(mylist)\n",
    "myset=set(mylist)\n",
    "mydict=dict(mylist)\n",
    "mytuple2 = tuple(mylist)\n",
    "\n",
    "print(\"tuple created with the help of list is\")\n",
    "print(mytuple2)\n",
    "print(myset)\n",
    "print(mydict)\n",
    "\n"
   ]
  },
  {
   "cell_type": "code",
   "execution_count": 123,
   "metadata": {},
   "outputs": [
    {
     "name": "stdout",
     "output_type": "stream",
     "text": [
      "list created with the help of tuple is\n",
      "[(1, 2, 3, 4, 5, 6, 7, 8, 9, 10)]\n"
     ]
    }
   ],
   "source": [
    "# creating list with the help of tuple\n",
    "\n",
    "mylist1 = [mytuple1]\n",
    "\n",
    "print(\"list created with the help of tuple is\")\n",
    "print(mylist1)"
   ]
  },
  {
   "cell_type": "markdown",
   "metadata": {},
   "source": [
    "#### **E3**"
   ]
  },
  {
   "cell_type": "markdown",
   "metadata": {},
   "source": [
    "- Concatenation of Tuples concatenation is only possible with tuples. It can't be concatenated to other kinds, such lists."
   ]
  },
  {
   "cell_type": "code",
   "execution_count": 124,
   "metadata": {},
   "outputs": [
    {
     "name": "stdout",
     "output_type": "stream",
     "text": [
      "Combined tuple is\n",
      "(10, 20, 30, 40, 'hello', 'welcome', 'Bye')\n"
     ]
    }
   ],
   "source": [
    "\n",
    "\n",
    "mytuple1 = (10,20,30,40)\n",
    "\n",
    "mytuple2 = (\"hello\",\"welcome\",\"Bye\")\n",
    "\n",
    "mytuple3 = mytuple1 + mytuple2\n",
    "\n",
    "print(\"Combined tuple is\")\n",
    "print(mytuple3)\n"
   ]
  },
  {
   "cell_type": "code",
   "execution_count": 125,
   "metadata": {},
   "outputs": [
    {
     "name": "stdout",
     "output_type": "stream",
     "text": [
      "combined list is \n",
      "[100, 200, 300, True, False, 'Hi']\n"
     ]
    }
   ],
   "source": [
    "# concatenation of lists\n",
    "\n",
    "mylist1 = [100,200,300]\n",
    "mylist2= [True,False,\"Hi\"]\n",
    "mylist3 = mylist1 + mylist2\n",
    "print(\"combined list is \")\n",
    "print(mylist3)"
   ]
  },
  {
   "cell_type": "markdown",
   "metadata": {},
   "source": [
    "#### **E4**"
   ]
  },
  {
   "cell_type": "code",
   "execution_count": null,
   "metadata": {},
   "outputs": [],
   "source": [
    "# creating a tuple with tuple function and a string\n",
    "\n",
    "mytuple1 = tuple(\"Internationalization\")\n",
    "\n",
    "for i in mytuple1:\n",
    "    print(i)"
   ]
  },
  {
   "cell_type": "markdown",
   "metadata": {},
   "source": [
    "#### **E5**"
   ]
  },
  {
   "cell_type": "code",
   "execution_count": 128,
   "metadata": {},
   "outputs": [
    {
     "name": "stdout",
     "output_type": "stream",
     "text": [
      "I\n",
      "n\n",
      "t\n",
      "e\n",
      "r\n",
      "n\n",
      "a\n",
      "t\n",
      "i\n",
      "o\n",
      "n\n",
      "a\n",
      "l\n",
      "i\n",
      "z\n",
      "a\n",
      "t\n",
      "i\n",
      "o\n",
      "n\n"
     ]
    }
   ],
   "source": [
    "# slicing tuple\n",
    "\n",
    "mytuple1 = tuple(\"Internationalization\")\n",
    "\n",
    "for i in mytuple1:\n",
    "    print(i)\n",
    "\n"
   ]
  },
  {
   "cell_type": "code",
   "execution_count": 129,
   "metadata": {},
   "outputs": [
    {
     "name": "stdout",
     "output_type": "stream",
     "text": [
      "slice first 2 elements\n",
      "('t', 'e', 'r', 'n', 'a', 't', 'i', 'o', 'n', 'a', 'l', 'i', 'z', 'a', 't', 'i', 'o', 'n')\n"
     ]
    }
   ],
   "source": [
    "\n",
    "print(\"slice first 2 elements\")\n",
    "print(mytuple1[2:])\n",
    "\n"
   ]
  },
  {
   "cell_type": "code",
   "execution_count": 130,
   "metadata": {},
   "outputs": [
    {
     "name": "stdout",
     "output_type": "stream",
     "text": [
      "Reverse the tuple\n",
      "('n', 'o', 'i', 't', 'a', 'z', 'i', 'l', 'a', 'n', 'o', 'i', 't', 'a', 'n', 'r', 'e', 't', 'n', 'I')\n"
     ]
    }
   ],
   "source": [
    "print(\"Reverse the tuple\")\n",
    "print(mytuple1[::-1])\n",
    "\n"
   ]
  },
  {
   "cell_type": "code",
   "execution_count": 132,
   "metadata": {},
   "outputs": [
    {
     "name": "stdout",
     "output_type": "stream",
     "text": [
      "tuple elements within a particular range\n",
      "('r', 'n', 'a', 't')\n"
     ]
    }
   ],
   "source": [
    "print(\"tuple elements within a particular range\")\n",
    "print(mytuple1[4:8])\n"
   ]
  },
  {
   "cell_type": "code",
   "execution_count": 133,
   "metadata": {},
   "outputs": [
    {
     "name": "stdout",
     "output_type": "stream",
     "text": [
      "slice last 5 characters\n",
      "('I', 'n', 't', 'e', 'r', 'n', 'a', 't', 'i', 'o', 'n', 'a', 'l', 'i', 'z')\n"
     ]
    }
   ],
   "source": [
    "print(\"slice last 5 characters\")\n",
    "print(mytuple1[:-5])"
   ]
  },
  {
   "cell_type": "markdown",
   "metadata": {},
   "source": [
    "#### **E6**"
   ]
  },
  {
   "cell_type": "code",
   "execution_count": 134,
   "metadata": {},
   "outputs": [
    {
     "name": "stdout",
     "output_type": "stream",
     "text": [
      "I\n",
      "n\n",
      "t\n",
      "e\n",
      "r\n",
      "n\n",
      "a\n",
      "t\n",
      "i\n",
      "o\n",
      "n\n",
      "a\n",
      "l\n",
      "i\n",
      "z\n",
      "a\n",
      "t\n",
      "i\n",
      "o\n",
      "n\n"
     ]
    }
   ],
   "source": [
    "# slicing tuple\n",
    "\n",
    "mytuple1 = tuple(\"Internationalization\")\n",
    "\n",
    "for i in mytuple1:\n",
    "    print(i)\n"
   ]
  },
  {
   "cell_type": "code",
   "execution_count": 135,
   "metadata": {},
   "outputs": [
    {
     "name": "stdout",
     "output_type": "stream",
     "text": [
      "slice first 2 elements\n",
      "('t', 'e', 'r', 'n', 'a', 't', 'i', 'o', 'n', 'a', 'l', 'i', 'z', 'a', 't', 'i', 'o', 'n')\n"
     ]
    }
   ],
   "source": [
    "print(\"slice first 2 elements\")\n",
    "print(mytuple1[2:])\n",
    "\n",
    "\n"
   ]
  },
  {
   "cell_type": "code",
   "execution_count": 136,
   "metadata": {},
   "outputs": [
    {
     "name": "stdout",
     "output_type": "stream",
     "text": [
      "Reverse the tuple\n",
      "('n', 'o', 'i', 't', 'a', 'z', 'i', 'l', 'a', 'n', 'o', 'i', 't', 'a', 'n', 'r', 'e', 't', 'n', 'I')\n"
     ]
    }
   ],
   "source": [
    "print(\"Reverse the tuple\")\n",
    "print(mytuple1[::-1])\n"
   ]
  },
  {
   "cell_type": "code",
   "execution_count": 137,
   "metadata": {},
   "outputs": [
    {
     "name": "stdout",
     "output_type": "stream",
     "text": [
      "tuple elements within a particular range\n",
      "('r', 'n', 'a', 't')\n"
     ]
    }
   ],
   "source": [
    "print(\"tuple elements within a particular range\")\n",
    "print(mytuple1[4:8])\n"
   ]
  },
  {
   "cell_type": "code",
   "execution_count": 138,
   "metadata": {},
   "outputs": [
    {
     "name": "stdout",
     "output_type": "stream",
     "text": [
      "slice last 5 characters\n",
      "('I', 'n', 't', 'e', 'r', 'n', 'a', 't', 'i', 'o', 'n', 'a', 'l', 'i', 'z')\n"
     ]
    }
   ],
   "source": [
    "print(\"slice last 5 characters\")\n",
    "print(mytuple1[:-5])\n",
    "\n"
   ]
  },
  {
   "cell_type": "code",
   "execution_count": 139,
   "metadata": {},
   "outputs": [
    {
     "name": "stdout",
     "output_type": "stream",
     "text": [
      "index of a given value\n",
      "1\n"
     ]
    }
   ],
   "source": [
    "print(\"index of a given value\")\n",
    "print(mytuple1.index('n'))\n",
    "\n"
   ]
  },
  {
   "cell_type": "code",
   "execution_count": 140,
   "metadata": {},
   "outputs": [
    {
     "name": "stdout",
     "output_type": "stream",
     "text": [
      "how many times that character is occurred in a given tuple\n",
      "4\n"
     ]
    }
   ],
   "source": [
    "print(\"how many times that character is occurred in a given tuple\")\n",
    "print(mytuple1.count('n'))"
   ]
  },
  {
   "cell_type": "code",
   "execution_count": 141,
   "metadata": {},
   "outputs": [
    {
     "name": "stdout",
     "output_type": "stream",
     "text": [
      "Maximum value of a tuple is\n",
      "z\n"
     ]
    }
   ],
   "source": [
    "print(\"Maximum value of a tuple is\")\n",
    "print(max(mytuple1))\n"
   ]
  },
  {
   "cell_type": "code",
   "execution_count": 142,
   "metadata": {},
   "outputs": [
    {
     "name": "stdout",
     "output_type": "stream",
     "text": [
      "Minimum value of a tuple is\n",
      "I\n"
     ]
    }
   ],
   "source": [
    "print(\"Minimum value of a tuple is\")\n",
    "print(min(mytuple1))\n"
   ]
  },
  {
   "cell_type": "code",
   "execution_count": 143,
   "metadata": {},
   "outputs": [
    {
     "name": "stdout",
     "output_type": "stream",
     "text": [
      "Sort the elements of tuple\n",
      "['I', 'a', 'a', 'a', 'e', 'i', 'i', 'i', 'l', 'n', 'n', 'n', 'n', 'o', 'o', 'r', 't', 't', 't', 'z']\n"
     ]
    }
   ],
   "source": [
    "\n",
    "print(\"Sort the elements of tuple\")\n",
    "print(sorted(mytuple1))"
   ]
  },
  {
   "cell_type": "markdown",
   "metadata": {},
   "source": [
    "### **String**"
   ]
  },
  {
   "cell_type": "markdown",
   "metadata": {},
   "source": [
    "#### **E1**"
   ]
  },
  {
   "cell_type": "code",
   "execution_count": 144,
   "metadata": {},
   "outputs": [
    {
     "name": "stdout",
     "output_type": "stream",
     "text": [
      "hello\n",
      "<class 'str'>\n",
      "5\n"
     ]
    }
   ],
   "source": [
    "# first example of string\n",
    "# mystring = \"hello\"\n",
    "# mystring = 'hello'\n",
    "mystring = '''hello'''\n",
    "print(mystring)\n",
    "print(type(mystring))\n",
    "print(len(mystring))\n",
    "# mystring[0]='G'  # Not possible, strings are immutable\n"
   ]
  },
  {
   "cell_type": "markdown",
   "metadata": {},
   "source": [
    "#### **E2**"
   ]
  },
  {
   "cell_type": "code",
   "execution_count": 145,
   "metadata": {},
   "outputs": [
    {
     "name": "stdout",
     "output_type": "stream",
     "text": [
      "fdas\n",
      "<class 'str'>\n",
      "4\n"
     ]
    }
   ],
   "source": [
    "# how to accept a string from user\n",
    "mystring = input(\"Enter your name\")\n",
    "print(mystring)\n",
    "print(type(mystring))\n",
    "print(len(mystring))\n",
    "# mystring[0]='G'  # Not possible, strings are immutable\n"
   ]
  },
  {
   "cell_type": "markdown",
   "metadata": {},
   "source": [
    "#### **E3**"
   ]
  },
  {
   "cell_type": "code",
   "execution_count": 146,
   "metadata": {},
   "outputs": [
    {
     "name": "stdout",
     "output_type": "stream",
     "text": [
      "Computer\n",
      "C\n",
      "r\n",
      "e\n"
     ]
    }
   ],
   "source": [
    "# accessing string by characters\n",
    "\n",
    "mystring = \"Computer\"\n",
    "print(mystring)\n",
    "print(mystring[0])  # first character of a string\n",
    "print(mystring[-1]) # last character of a string\n",
    "print(mystring[-2]) # second last character of a string\n",
    "\n"
   ]
  },
  {
   "cell_type": "markdown",
   "metadata": {},
   "source": [
    "#### **E4**"
   ]
  },
  {
   "cell_type": "code",
   "execution_count": 148,
   "metadata": {},
   "outputs": [
    {
     "name": "stdout",
     "output_type": "stream",
     "text": [
      "Computers\n",
      "mput\n",
      "ute\n"
     ]
    }
   ],
   "source": [
    "# slicing a string\n",
    "\n",
    "mystring = \"Computers\"\n",
    "print(mystring)\n",
    "print(mystring[2:6])  # slice from 2nd position to 6th position\n",
    "print(mystring[4:-2]) # slice from 4th position to second last position\n"
   ]
  },
  {
   "cell_type": "markdown",
   "metadata": {},
   "source": [
    "#### **E5**"
   ]
  },
  {
   "cell_type": "code",
   "execution_count": 147,
   "metadata": {},
   "outputs": [
    {
     "name": "stdout",
     "output_type": "stream",
     "text": [
      "Learning Python is very simple\n",
      "['Learning', 'Python', 'is', 'very', 'simple']\n",
      "<class 'list'>\n"
     ]
    }
   ],
   "source": [
    "# split a string based on space as a delimeter and convert it into list\n",
    "\n",
    "mystring = \"Learning Python is very simple\"\n",
    "\n",
    "print(mystring)\n",
    "\n",
    "myvar = mystring.split(' ')\n",
    "\n",
    "print(myvar)\n",
    "print(type(myvar))\n"
   ]
  },
  {
   "cell_type": "markdown",
   "metadata": {},
   "source": [
    "#### **E6**"
   ]
  },
  {
   "cell_type": "code",
   "execution_count": 149,
   "metadata": {},
   "outputs": [
    {
     "name": "stdout",
     "output_type": "stream",
     "text": [
      "Before reversing\n",
      "fdasg\n",
      "gsadf\n"
     ]
    }
   ],
   "source": [
    "# reverse a string\n",
    "\n",
    "mystring = input(\"Enter a string\")\n",
    "\n",
    "print(\"Before reversing\")\n",
    "print(mystring)\n",
    "\n",
    "mystring = mystring[::-1]\n",
    "print(mystring)\n",
    "\n"
   ]
  },
  {
   "cell_type": "markdown",
   "metadata": {},
   "source": [
    "#### **E7**"
   ]
  },
  {
   "cell_type": "code",
   "execution_count": 150,
   "metadata": {},
   "outputs": [
    {
     "name": "stdout",
     "output_type": "stream",
     "text": [
      "True\n",
      "True\n",
      "False\n",
      "True\n",
      "True\n",
      "False\n",
      "False\n",
      "False\n",
      "True\n",
      "True\n"
     ]
    }
   ],
   "source": [
    "# Built-in string functions\n",
    "\n",
    "# The Python isalpha() method returns true if a string only contains alphabets. \n",
    "# Python isdigit() returns true if all characters in a string are numbers. \n",
    "# Python isalnum() only returns true if a string contains only alphabets or only numbers or combination of alphabets and numbers.\n",
    "\n",
    "def fun():\n",
    "\tfirst=\"hello\"\n",
    "\tprint(first.isalnum())\n",
    "\tprint(first.isalpha())\n",
    "\tprint(first.isdigit())\n",
    "\tprint(first.isascii())\n",
    "\n",
    "\tsecond=\"hello8\"\n",
    "\tprint(second.isalnum())\n",
    "\tprint(second.isalpha())\n",
    "\tprint(second.isdigit())\n",
    "\n",
    "\tthird=\"200\"\n",
    "\tprint(third.isalpha())\n",
    "\tprint(third.isalnum())\n",
    "\tprint(third.isdigit())\n",
    "fun()\n"
   ]
  },
  {
   "cell_type": "markdown",
   "metadata": {},
   "source": [
    "#### **E8**"
   ]
  },
  {
   "cell_type": "code",
   "execution_count": 151,
   "metadata": {},
   "outputs": [
    {
     "name": "stdout",
     "output_type": "stream",
     "text": [
      "hello world\n",
      "Hello world\n",
      "hello world\n"
     ]
    }
   ],
   "source": [
    "# Built-in String Methods\n",
    "\n",
    "def fun():\n",
    "\tfirst=\"hello world\"\n",
    "\tprint(first)\n",
    "\tprint(first.capitalize())  # Capitalizes first letter of string\n",
    "\tprint(first)\n",
    "fun()\n"
   ]
  },
  {
   "cell_type": "markdown",
   "metadata": {},
   "source": [
    "#### **E9**"
   ]
  },
  {
   "cell_type": "code",
   "execution_count": 153,
   "metadata": {},
   "outputs": [
    {
     "name": "stdout",
     "output_type": "stream",
     "text": [
      "casewise they are not equal\n",
      "after ignoring cases they are equal\n"
     ]
    }
   ],
   "source": [
    "# how to ignore cases in Python\n",
    "\n",
    "mystring1 = \"hello\"\n",
    "mystring2 =\"Hello\"\n",
    "\n",
    "if(mystring1==mystring2):\n",
    "    print(\"casewise they are equal\")\n",
    "else:\n",
    "    print(\"casewise they are not equal\")\n",
    "\n",
    "if(mystring1.casefold()==mystring2.casefold()):\n",
    "    print(\"after ignoring cases they are equal\")\n",
    "else:\n",
    "    print(\"even after ignoring cases they are not equal\")"
   ]
  },
  {
   "cell_type": "markdown",
   "metadata": {},
   "source": [
    "#### **String Slicing**"
   ]
  },
  {
   "cell_type": "markdown",
   "metadata": {},
   "source": [
    "##### **E1**"
   ]
  },
  {
   "cell_type": "code",
   "execution_count": 154,
   "metadata": {},
   "outputs": [
    {
     "name": "stdout",
     "output_type": "stream",
     "text": [
      "Vid\n",
      "iy\n",
      "idny\n",
      "dyan\n",
      "dinay\n",
      "yani\n",
      "ia\n",
      "ina\n",
      "dny\n",
      "Vid\n",
      "String slicing without slice class\n",
      "Vid\n",
      "iy\n",
      "idny\n",
      "dyan\n",
      "dinay\n",
      "yani\n",
      "ia\n",
      "ina\n",
      "dny\n",
      "Vid\n",
      "Vidyanidhi\n",
      "anidhi\n",
      "Vidyanidh\n",
      "ihdinaydiV\n"
     ]
    }
   ],
   "source": [
    "# There are two ways to slice the string\n",
    "\n",
    "mystring = 'Vidyanidhi'\n",
    "          # 12345678910\n",
    "        #  10987654321\n",
    " \n",
    "# Using slice constructor  , slice is an in-built class\n",
    "\n",
    "s1 = slice(3)\n",
    "s2 = slice(1, 5, 2)\n",
    "s3 = slice(-1, -8, -2)\n",
    "# s4=slice(1,6,-2)    # cannot give negative value here\n",
    "# s4=slice(-2,-7,2)   # cannot give positive value here\n",
    "s4=slice(-8,6)\n",
    "# s5=slice(7,-8)   # requires negative value for step\n",
    "s5=slice(7,-8,-1)\n",
    "s6=slice(3,-3)\n",
    "s7=slice(6,-7,-2)\n",
    "s8=slice(6,-7,-1)\n",
    "s9=slice(7,2,-2)\n",
    "s10=slice(-7)    #  0 to -8\n",
    "\n",
    "\n",
    "print(mystring[s1])\n",
    "print(mystring[s2])\n",
    "print(mystring[s3])\n",
    "print(mystring[s4])\n",
    "print(mystring[s5]) \n",
    "print(mystring[s6])\n",
    "print(mystring[s7])\n",
    "print(mystring[s8])\n",
    "print(mystring[s9])\n",
    "print(mystring[s10])\n",
    "\n",
    "print(\"String slicing without slice class\")\n",
    "\n",
    "print(mystring[:3])  # or mystring[0:3]\n",
    "print(mystring[1:5:2])\n",
    "print(mystring[-1:-8:-2])\n",
    "print(mystring[-8:6])\n",
    "print(mystring[7:-8:-1])\n",
    "print(mystring[3:-3])\n",
    "print(mystring[6:-7:-2])\n",
    "print(mystring[6:-7:-1])\n",
    "print(mystring[7:2:-2])\n",
    "print(mystring[:-7])   #  0 to -8\n",
    "print(mystring[:])   # copy of the string\n",
    "print(mystring[4:])\n",
    "print(mystring[:-1])\n",
    "print(mystring[::-1])\n"
   ]
  },
  {
   "cell_type": "markdown",
   "metadata": {},
   "source": [
    "##### **E2**"
   ]
  },
  {
   "cell_type": "code",
   "execution_count": 155,
   "metadata": {},
   "outputs": [
    {
     "name": "stdout",
     "output_type": "stream",
     "text": [
      "dyan\n",
      "yanidhi\n",
      "vidyan\n",
      "dai\n",
      "idn\n",
      "dya\n"
     ]
    }
   ],
   "source": [
    "mystring1 = \"vidyanidhi\"\n",
    "# items start through 6-1\n",
    "print(mystring1[2:6])\n",
    "\n",
    "# items start from 3 through the rest of the array\n",
    "print(mystring1[3:])\n",
    "\n",
    "# items from the beginning through 6-1\n",
    "print(mystring1[:6])\n",
    "\n",
    "# start from 2 till 7-1 not past stop, by step 2\n",
    "print(mystring1[2:7:2])\n",
    "\n",
    "# from last (-1)  to (-5) by step 2 \n",
    "print(mystring1[-1:-6:-2])\n",
    "\n",
    "print(mystring1[2:-5])"
   ]
  },
  {
   "cell_type": "markdown",
   "metadata": {},
   "source": [
    "##### **E3**"
   ]
  },
  {
   "cell_type": "code",
   "execution_count": 156,
   "metadata": {},
   "outputs": [
    {
     "name": "stdout",
     "output_type": "stream",
     "text": [
      "yh\n",
      "dh\n",
      "yi\n",
      "dd\n"
     ]
    }
   ],
   "source": [
    "mystring=\"vidyanidhi\"\n",
    "print(mystring[3::5])  # yh     3rd and from 3rd  5th character\n",
    "print(mystring[2::6])  # dh     2nd and from 2nd  6th character\n",
    "\n",
    "print(mystring[-7::-2]) # yi    -7th and from -7th  -2nd character\n",
    "\n",
    "print(mystring[-3::-5])  # dd   -3rd and  from -3rd  -5th character\n",
    "\n"
   ]
  },
  {
   "cell_type": "markdown",
   "metadata": {},
   "source": [
    "### **Array_String_List_Tuple_Set_Dictionary_Info**"
   ]
  },
  {
   "cell_type": "code",
   "execution_count": 157,
   "metadata": {},
   "outputs": [
    {
     "name": "stdout",
     "output_type": "stream",
     "text": [
      "array('i', [1, 2, 3]) \t 2012188681424\n",
      "array('i', [1, 2, 3, 30]) \t 2012188681424\n",
      "array('i', [1, 22, 3, 30]) \t 2012188681424\n",
      "hello\n",
      "HELLO\n",
      "hello\n",
      "[10, 20, 30, 40, 30]\n",
      "[10, 100, 30, 40, 30]\n",
      "[10, 100, 30, 40, 30, 400]\n",
      "(100, 200, 300, 400, 300)\n",
      "(100, 200, 300, 400, 300) \t 2012188917520\n",
      "(100, 200, 300, 400, 300)\n",
      "(100, 200, 300, 400, 300) \t 2012188917520\n",
      "(100, 200, 300, 400, 300, 70, 80, 90)\n",
      "{40, 10, 20, 30}\n",
      "2012188213760\n",
      "{40, 10, 45, 20, 30}\n",
      "2012188213760\n",
      "{'abc': 100, 'xyz': 330, 'pqr': 600}\n",
      "{'abc': 100, 'xyz': 330, 'pqr': 670}\n",
      "{'abc': 100, 'xyz': 330, 'pqr': 670, 'aaa': 333}\n"
     ]
    }
   ],
   "source": [
    "import array as ar\n",
    "\n",
    "a = ar.array('i',[1,2,3])   #  array    similar datatypes only, \n",
    "print(a,\"\\t\",id(a))\n",
    "a.append(30)   # arrays are mutable\n",
    "print(a,\"\\t\",id(a))\n",
    "a[1]=22    # arrays are mutable\n",
    "print(a,\"\\t\",id(a))\n",
    "\n",
    "mystring = \"hello\"      #  string  \n",
    "print(mystring)\n",
    "# mystring[0]='G'    #  Error     string is immutable\n",
    "print(mystring.swapcase())  # string is immutable\n",
    "print(mystring)\n",
    "\n",
    "mylist=[10,20,30,40,30]    #  list   can have duplicates\n",
    "print(mylist)\n",
    "mylist[1]=100   # list is mutable\n",
    "print(mylist)\n",
    "mylist.append(400) # list is mutable\n",
    "print(mylist)\n",
    "\n",
    "\n",
    "mytuple=(100,200,300,400,300)   # tuple    can have duplicates\n",
    "print(mytuple)\n",
    "#mytuple[1]=700  # Error:  tuple is immutable\n",
    "print(mytuple,\"\\t\",id(mytuple))\n",
    "mytuple1=mytuple.__add__((70,80,90))  # it'll be a different object altogether\n",
    "print(mytuple)\n",
    "print(mytuple,\"\\t\",id(mytuple))  # will not change\n",
    "print(mytuple1)\n",
    "\n",
    "myset={10,20,30,40,20}     # set     can't have duplicates\n",
    "print(myset)\n",
    "print(id(myset))\n",
    "#myset[1]=56   # Error:  set is immutable for its elements\n",
    "myset.add(45)  # set as an object is mutable\n",
    "print(myset)\n",
    "print(id(myset))\n",
    "\n",
    "mydictionary={'abc':100,'xyz':300,'pqr':600,'xyz':330}  # dictionary   can't have duplicate keys\n",
    "print(mydictionary)\n",
    "mydictionary['pqr']=670    # key 'pqr' value gets chanaged here\n",
    "print(mydictionary)\n",
    "mydictionary.update({'aaa':333})  # dictionary is mutable\n",
    "print(mydictionary)"
   ]
  },
  {
   "cell_type": "markdown",
   "metadata": {},
   "source": [
    "### **Array_String_List_Tuple_Set_Dictionary_Info**"
   ]
  },
  {
   "cell_type": "code",
   "execution_count": 158,
   "metadata": {},
   "outputs": [
    {
     "name": "stdout",
     "output_type": "stream",
     "text": [
      "array('i', [1, 2, 3]) \t 2012188710752\n",
      "array('i', [1, 2, 3, 30]) \t 2012188710752\n",
      "array('i', [1, 22, 3, 30]) \t 2012188710752\n",
      "hello\n",
      "HELLO\n",
      "hello\n",
      "[10, 20, 30, 40, 30]\n",
      "[10, 100, 30, 40, 30]\n",
      "[10, 100, 30, 40, 30, 400]\n",
      "(100, 200, 300, 400, 300)\n",
      "(100, 200, 300, 400, 300) \t 2012188437264\n",
      "(100, 200, 300, 400, 300)\n",
      "(100, 200, 300, 400, 300) \t 2012188437264\n",
      "(100, 200, 300, 400, 300, 70, 80, 90)\n",
      "{40, 10, 20, 30}\n",
      "2012188214880\n",
      "{40, 10, 45, 20, 30}\n",
      "2012188214880\n",
      "{'abc': 100, 'xyz': 330, 'pqr': 600}\n",
      "{'abc': 100, 'xyz': 330, 'pqr': 670}\n",
      "{'abc': 100, 'xyz': 330, 'pqr': 670, 'aaa': 333}\n"
     ]
    }
   ],
   "source": [
    "import array as ar\n",
    "\n",
    "a = ar.array('i',[1,2,3])   #  array    similar datatypes only, \n",
    "print(a,\"\\t\",id(a))\n",
    "a.append(30)   # arrays are mutable\n",
    "print(a,\"\\t\",id(a))\n",
    "a[1]=22    # arrays are mutable\n",
    "print(a,\"\\t\",id(a))\n",
    "\n",
    "mystring = \"hello\"      #  string  \n",
    "print(mystring)\n",
    "# mystring[0]='G'    #  Error     string is immutable\n",
    "print(mystring.swapcase())  # string is immutable\n",
    "print(mystring)\n",
    "\n",
    "mylist=[10,20,30,40,30]    #  list   can have duplicates\n",
    "print(mylist)\n",
    "mylist[1]=100   # list is mutable\n",
    "print(mylist)\n",
    "mylist.append(400) # list is mutable\n",
    "print(mylist)\n",
    "\n",
    "\n",
    "mytuple=(100,200,300,400,300)   # tuple    can have duplicates\n",
    "print(mytuple)\n",
    "#mytuple[1]=700  # Error:  tuple is immutable\n",
    "print(mytuple,\"\\t\",id(mytuple))\n",
    "mytuple1=mytuple.__add__((70,80,90))  # it'll be a different object altogether\n",
    "print(mytuple)\n",
    "print(mytuple,\"\\t\",id(mytuple))  # will not change\n",
    "print(mytuple1)\n",
    "\n",
    "myset={10,20,30,40,20}     # set     can't have duplicates\n",
    "print(myset)\n",
    "print(id(myset))\n",
    "#myset[1]=56   # Error:  set is immutable for its elements\n",
    "myset.add(45)  # set as an object is mutable\n",
    "print(myset)\n",
    "print(id(myset))\n",
    "\n",
    "mydictionary={'abc':100,'xyz':300,'pqr':600,'xyz':330}  # dictionary   can't have duplicate keys\n",
    "print(mydictionary)\n",
    "mydictionary['pqr']=670    # key 'pqr' value gets chanaged here\n",
    "print(mydictionary)\n",
    "mydictionary.update({'aaa':333})  # dictionary is mutable\n",
    "print(mydictionary)"
   ]
  },
  {
   "cell_type": "markdown",
   "metadata": {},
   "source": [
    "### **Counter Demo**"
   ]
  },
  {
   "cell_type": "code",
   "execution_count": 159,
   "metadata": {},
   "outputs": [
    {
     "name": "stdout",
     "output_type": "stream",
     "text": [
      "Counter({'c': 3, 'r': 2, 'e': 2, 'w': 1, '3': 1, 's': 1, 'o': 1, 'u': 1})\n"
     ]
    }
   ],
   "source": [
    "\"\"\" Write a Python program to create a dictionary from a string. \n",
    "Note: Track the count of the letters from the string.\n",
    "Sample string : 'w3resource'\n",
    "Expected output: {'3': 1, 's': 1, 'r': 2, 'u': 1, 'w': 1, 'c': 1, 'e': 2, 'o': 1}\n",
    " \"\"\"\n",
    "from collections import Counter\n",
    "\n",
    "mystring='w3resourcecc'\n",
    "\n",
    "mydictionary=Counter(mystring)\n",
    "print(mydictionary)\n",
    "\n",
    "# Counter iterates over \"w3resourcecc\" and produces a dictionary with the letters as keys and their frequency as values. "
   ]
  },
  {
   "cell_type": "markdown",
   "metadata": {},
   "source": [
    "### **Range**"
   ]
  },
  {
   "cell_type": "code",
   "execution_count": 160,
   "metadata": {},
   "outputs": [
    {
     "name": "stdout",
     "output_type": "stream",
     "text": [
      "range(0, 10)\n",
      "<class 'range'>\n",
      "[0, 1, 2, 3, 4, 5, 6, 7, 8, 9]\n",
      "<class 'list'>\n",
      "range(2, 20, 2)\n",
      "<class 'range'>\n",
      "[2, 4, 6, 8, 10, 12, 14, 16, 18]\n",
      "<class 'list'>\n"
     ]
    }
   ],
   "source": [
    "# Example of range and how can you convert range to list\n",
    "\n",
    "r = range(0, 10)\n",
    "print(r)\n",
    "print(type(r))\n",
    "\n",
    "# convert range to list\n",
    "mylist = list(r)\n",
    "print(mylist)\n",
    "print(type(mylist))\n",
    "\n",
    "# range of even numbers\n",
    "\n",
    "r1= range(2,20,2)\n",
    "print(r1)\n",
    "print(type(r1))\n",
    "\n",
    "mylist1= list(r1)\n",
    "print(mylist1)\n",
    "print(type(mylist1))"
   ]
  },
  {
   "cell_type": "code",
   "execution_count": null,
   "metadata": {},
   "outputs": [],
   "source": []
  }
 ],
 "metadata": {
  "kernelspec": {
   "display_name": "Python 3",
   "language": "python",
   "name": "python3"
  },
  "language_info": {
   "codemirror_mode": {
    "name": "ipython",
    "version": 3
   },
   "file_extension": ".py",
   "mimetype": "text/x-python",
   "name": "python",
   "nbconvert_exporter": "python",
   "pygments_lexer": "ipython3",
   "version": "3.12.2"
  }
 },
 "nbformat": 4,
 "nbformat_minor": 2
}
