{
 "cells": [
  {
   "cell_type": "markdown",
   "metadata": {},
   "source": [
    "#   **Answers to Assignment**"
   ]
  },
  {
   "cell_type": "markdown",
   "metadata": {},
   "source": [
    "## **List**"
   ]
  },
  {
   "cell_type": "markdown",
   "metadata": {},
   "source": [
    "1) create a list , accept a number,name and a float value from user and store it inside the list.\n",
    "now accept one more name from user and insert it at 2nd position.\n",
    "accept a number and append it at the end of the list.\n",
    "print the entire list.\n"
   ]
  },
  {
   "cell_type": "code",
   "execution_count": 6,
   "metadata": {},
   "outputs": [
    {
     "name": "stdout",
     "output_type": "stream",
     "text": [
      "[69, 'pert', 'ert', 45.0, 36]\n"
     ]
    }
   ],
   "source": [
    "l1=[]\n",
    "n1=int(input(\"Enter no: \"))\n",
    "n2=input(\"Enter name: \")\n",
    "n3=float(input(\"Enter float no: \"))\n",
    "l1=[n1,n2,n3]\n",
    "# l1.append(n1)\n",
    "# l1.append(n2)\n",
    "# l1.append(n3)\n",
    "n4=input(\"Enter another name: \")\n",
    "l1.insert(2,n4)\n",
    "n5=int(input(\"Enter no: \"))\n",
    "l1.append(n5)\n",
    "print(l1)"
   ]
  },
  {
   "cell_type": "markdown",
   "metadata": {},
   "source": [
    "\n",
    "2) first create list empty. accept numbers till user enters 0 and store them inside the list. Print the list and its length.\n",
    "\n"
   ]
  },
  {
   "cell_type": "code",
   "execution_count": 9,
   "metadata": {},
   "outputs": [
    {
     "name": "stdout",
     "output_type": "stream",
     "text": [
      "List is:  [4, 6, 9, 3, 0]\n",
      "Length is:  5\n"
     ]
    }
   ],
   "source": [
    "l1=[]\n",
    "while True:\n",
    "    n1=int(input(\"Enter no: \"))\n",
    "    l1.append(n1)\n",
    "    if n1 == 0:\n",
    "        break\n",
    "print(\"List is: \",l1)\n",
    "print(\"Length is: \",l1.__len__())"
   ]
  },
  {
   "cell_type": "markdown",
   "metadata": {},
   "source": [
    "\n",
    "3) accept 5 numbers, store them inside the list and display it. Now add 3 more numbers [hardcoded] at the end of the list using \"extend\" method.\n"
   ]
  },
  {
   "cell_type": "code",
   "execution_count": 3,
   "metadata": {},
   "outputs": [
    {
     "name": "stdout",
     "output_type": "stream",
     "text": [
      "Enter 5 numbers\n",
      "Your list is  [1, 2, 3, 4, 5]\n",
      "[1, 2, 3, 4, 5, 55, 555, 5555]\n"
     ]
    }
   ],
   "source": [
    "print(\"Enter 5 numbers\")\n",
    "l1=[]\n",
    "n1,n2,n3,n4,n5=[int(i) for i in input(\"Enter: \").split() ]\n",
    "l1=[n1,n2,n3,n4,n5]\n",
    "print(\"Your list is \",l1)\n",
    "l1.extend([55,555,5555])\n",
    "print(l1)\n"
   ]
  },
  {
   "cell_type": "markdown",
   "metadata": {},
   "source": [
    "4) accept a number,string,decimal,boolean value and a character from the user and store it inside the list. First print the list from the beginning and then from the end.\n"
   ]
  },
  {
   "cell_type": "code",
   "execution_count": 5,
   "metadata": {},
   "outputs": [
    {
     "name": "stdout",
     "output_type": "stream",
     "text": [
      "From beginning:  [69, 'ale', True, 'R']\n",
      "From last:  ['R', True, 'ale', 69]\n"
     ]
    }
   ],
   "source": [
    "n1=int(input(\"No: \"))\n",
    "s1=input(\"String: \")\n",
    "b1=bool(input(\"Bool: \"))\n",
    "c1=input(\"Character: \")\n",
    "l1=[n1,s1,b1,c1]\n",
    "print(\"From beginning: \",l1[0:])\n",
    "print(\"From last: \",l1[::-1])\n"
   ]
  },
  {
   "cell_type": "markdown",
   "metadata": {},
   "source": [
    "\n",
    "5) accept 5 numbers, store them inside the list. now accept a number from user which he would like to remove from the list and  after removing it, display the list.\n"
   ]
  },
  {
   "cell_type": "code",
   "execution_count": 11,
   "metadata": {},
   "outputs": [
    {
     "name": "stdout",
     "output_type": "stream",
     "text": [
      "[5, 6, 3, 2, 1]\n",
      "[6, 3, 2, 1]\n"
     ]
    }
   ],
   "source": [
    "li=[]\n",
    "for n in range(5):\n",
    "    i=int(input(\"Enter no: \"))\n",
    "    li.append(i)\n",
    "print(li)\n",
    "r=int(input(\"Number to remove: \"))\n",
    "li.remove(r)\n",
    "print(li)"
   ]
  },
  {
   "cell_type": "markdown",
   "metadata": {},
   "source": [
    "\n",
    "6) accept 5 numbers, store them inside the list. now accept a position from user ,remove the element from that position and  after removing it, display the list.\n"
   ]
  },
  {
   "cell_type": "code",
   "execution_count": 99,
   "metadata": {},
   "outputs": [
    {
     "name": "stdout",
     "output_type": "stream",
     "text": [
      "[1, 2, 3, 4, 5]\n",
      "[1, 2, 4, 5]\n"
     ]
    }
   ],
   "source": [
    "li=[]\n",
    "for n in range(5):\n",
    "    i=int(input(\"Enter no: \"))\n",
    "    li.append(i)\n",
    "print(li)\n",
    "r=int(input(\"Enter index to remove: \"))\n",
    "li.pop(r)\n",
    "print(li)"
   ]
  },
  {
   "cell_type": "markdown",
   "metadata": {},
   "source": [
    "\n",
    "7) create a list and store string,number,character,boolean,decimal values respectively inside it.\n",
    "Now slice it in following ways:\n",
    "\n",
    "    a) display it in reverse order\n",
    "\n",
    "    b) list all the elements from 2nd position\n",
    "\n",
    "    c) list the elements from 1st to 3rd position\n",
    "\n",
    "    d) slice it from 1st to 3rd elements from the end.\n"
   ]
  },
  {
   "cell_type": "code",
   "execution_count": 10,
   "metadata": {},
   "outputs": [
    {
     "name": "stdout",
     "output_type": "stream",
     "text": [
      "List:  ['eret', 78, 'A', True, 45.3]\n",
      "From reverse:  [45.3, True, 'A', 78, 'eret']\n",
      "From 2nd position:  [78, 'A', True, 45.3]\n",
      "From 1st to 3rd poititon:  [78, 'A']\n",
      "From 1st to 3rd from end:  [45.3, True, 'A']\n",
      "From 1st to 3rd from end:  [45.3, True, 'A']\n"
     ]
    }
   ],
   "source": [
    "# s1=input(\"String: \")\n",
    "# n1=int(input(\"No: \"))\n",
    "# c1=input(\"Character: \")\n",
    "# b1=bool(input(\"Bool: \"))\n",
    "# f1=float(input(\"Float: \"))\n",
    "s1='eret'\n",
    "n1=78\n",
    "c1='A'\n",
    "b1=True\n",
    "f1=45.3\n",
    "l1=[s1,n1,c1,b1,f1]\n",
    "print(\"List: \",l1)\n",
    "print(\"From reverse: \",l1[::-1])\n",
    "print(\"From 2nd position: \",l1[1:])\n",
    "print(\"From 1st to 3rd poititon: \",l1[1:3])\n",
    "print(\"From 1st to 3rd from end: \",l1[:1:-1])\n",
    "print(\"From 1st to 3rd from end: \",l1[:-4:-1])\n",
    "\n"
   ]
  },
  {
   "cell_type": "markdown",
   "metadata": {},
   "source": [
    "\n",
    "\n",
    "8) Note: use List comprehension\n",
    " create a list with the numbers from 1 to 20\n",
    " create one more list which should contain only odd numbers from the first list.\n",
    "\n"
   ]
  },
  {
   "cell_type": "code",
   "execution_count": 3,
   "metadata": {},
   "outputs": [
    {
     "name": "stdout",
     "output_type": "stream",
     "text": [
      "[1, 2, 3, 4, 5, 6, 7, 8, 9, 10, 11, 12, 13, 14, 15, 16, 17, 18, 19, 20]\n",
      "[1, 3, 5, 7, 9, 11, 13, 15, 17, 19]\n"
     ]
    }
   ],
   "source": [
    "mylist=[int(x) for x in range(1,21)]\n",
    "print(mylist)\n",
    "otherlist=[int(x) for x in range(1,21) if x%2 != 0]\n",
    "print(otherlist)"
   ]
  },
  {
   "cell_type": "markdown",
   "metadata": {},
   "source": [
    "\n",
    "9) accept 5 names and store them in list. Now sort the list in ascending order display and then in descending order.\n",
    "\n"
   ]
  },
  {
   "cell_type": "code",
   "execution_count": 9,
   "metadata": {},
   "outputs": [
    {
     "name": "stdout",
     "output_type": "stream",
     "text": [
      "['', 't', 'e', 'f', 'g']\n",
      "['', 'e', 'f', 'g', 't']\n",
      "['t', 'g', 'f', 'e', '']\n"
     ]
    }
   ],
   "source": [
    "l1=[]\n",
    "for i in range(5):\n",
    "    n=input(\"Enter name: \")\n",
    "    l1.append(n)\n",
    "print(l1)\n",
    "l1.sort()\n",
    "print(l1)\n",
    "l1.sort(reverse=True)\n",
    "print(l1)"
   ]
  },
  {
   "cell_type": "markdown",
   "metadata": {},
   "source": [
    "10) create a class \"Car\" with two instance members i.e. \"model(string)\" and \"isautomatic(boolean)\"\n",
    "have getter methods also.\n",
    "create 5 to 6 objects by passing model name and True or False for \"isautomatic\".\n",
    "create a list and store all the objects inside it.\n",
    "now create one more list and in that list store all the objects from first list where \"isautomatic\" is True.\n",
    "Print both the lists."
   ]
  },
  {
   "cell_type": "code",
   "execution_count": 13,
   "metadata": {},
   "outputs": [
    {
     "name": "stdout",
     "output_type": "stream",
     "text": [
      "BMW\tFalse\n",
      "Porsche\tTrue\n"
     ]
    },
    {
     "data": {
      "text/plain": [
       "'BMW'"
      ]
     },
     "execution_count": 13,
     "metadata": {},
     "output_type": "execute_result"
    }
   ],
   "source": [
    "class Car:\n",
    "    def __init__(self, model, isautomatic):\n",
    "        self.model=model\n",
    "        self.isautomatic=isautomatic\n",
    "    def __str__(self):\n",
    "        return self.model+\"\\t\"+str(self.isautomatic)\n",
    "    \n",
    "    def getmodel(self):\n",
    "        return self.model\n",
    "    def getisautomatic(self):\n",
    "        return self.isautomatic\n",
    "    \n",
    "c1=Car('BMW',False)\n",
    "c2=Car('Porsche',True)\n",
    "\n",
    "mydatabase=[c1,c2]\n",
    "for i in mydatabase:\n",
    "    print(i)\n",
    "c1.getmodel()"
   ]
  },
  {
   "cell_type": "markdown",
   "metadata": {},
   "source": [
    "## **Tuple**"
   ]
  },
  {
   "cell_type": "code",
   "execution_count": 107,
   "metadata": {},
   "outputs": [
    {
     "name": "stdout",
     "output_type": "stream",
     "text": [
      "Read: 1\n",
      "Updated tuple: (0, 3, 4, 5, 6)\n"
     ]
    }
   ],
   "source": [
    "# Create a tuple\n",
    "my_tuple = (1, 2, 3, 4, 5)\n",
    "\n",
    "# Convert tuple to list for modification\n",
    "my_list = list(my_tuple)\n",
    "\n",
    "# Create (C): Append a new element to the list\n",
    "my_list.append(6)\n",
    "\n",
    "# Read (R): Access elements of the list\n",
    "print(\"Read:\", my_list[0])\n",
    "\n",
    "# Update (U): Update an element in the list\n",
    "my_list[0] = 0\n",
    "\n",
    "# Delete (D): Remove an element from the list\n",
    "my_list.remove(2)\n",
    "\n",
    "# Convert the list back to a tuple\n",
    "my_tuple = tuple(my_list)\n",
    "\n",
    "print(\"Updated tuple:\", my_tuple)\n"
   ]
  },
  {
   "cell_type": "markdown",
   "metadata": {},
   "source": [
    "1) Write a Python program to count the elements in a list until an element is a tuple.\n",
    "    \n",
    "    Sample input : list = [10, 20, 30, (40,50), 60]\n",
    "    \n",
    "    Sample output = 3\n",
    " "
   ]
  },
  {
   "cell_type": "code",
   "execution_count": 3,
   "metadata": {},
   "outputs": [
    {
     "name": "stdout",
     "output_type": "stream",
     "text": [
      "3\n"
     ]
    }
   ],
   "source": [
    "l1=[10,20,30,(40,50),60]\n",
    "sum=0\n",
    "for i in l1:\n",
    "    if type(i) == tuple:\n",
    "        break\n",
    "    sum+=1\n",
    "\n",
    "print(sum)"
   ]
  },
  {
   "cell_type": "markdown",
   "metadata": {},
   "source": [
    "  \n",
    "2) create a tuple to store 5 numbers and then sort it in ascending and descending order.\n"
   ]
  },
  {
   "cell_type": "code",
   "execution_count": 8,
   "metadata": {},
   "outputs": [
    {
     "name": "stdout",
     "output_type": "stream",
     "text": [
      "[2, 3, 6, 21, 50]\n",
      "[50, 21, 6, 3, 2]\n"
     ]
    }
   ],
   "source": [
    "t1=(2,50,6,3,21)\n",
    "t2=sorted(t1)\n",
    "t3=sorted(t1,reverse=True)\n",
    "print(t2)\n",
    "print(t3)"
   ]
  },
  {
   "cell_type": "markdown",
   "metadata": {},
   "source": [
    "\n",
    "3) Write a Python program to find the repeated items of a tuple."
   ]
  },
  {
   "cell_type": "code",
   "execution_count": 106,
   "metadata": {},
   "outputs": [
    {
     "name": "stdout",
     "output_type": "stream",
     "text": [
      "(1, 1, 2, 3, 4, 5, 4, 7)\n"
     ]
    }
   ],
   "source": [
    "t1=(1,1,2,3,4,5,4)\n",
    "# t2=7\n",
    "# nt=t1+(7,)\n",
    "nt=t1.__add__((7,))\n",
    "print(nt)"
   ]
  },
  {
   "cell_type": "code",
   "execution_count": 26,
   "metadata": {},
   "outputs": [
    {
     "name": "stdout",
     "output_type": "stream",
     "text": [
      "1\n",
      "4\n"
     ]
    }
   ],
   "source": [
    "t1=(1,1,2,3,4,5,4)\n",
    "\n",
    "coll=tuple()\n",
    "# t3=tuple()\n",
    "for i in t1:\n",
    "    if i in coll:\n",
    "        print(i)\n",
    "    else:\n",
    "        coll=coll+(i,)\n",
    "\n"
   ]
  },
  {
   "cell_type": "markdown",
   "metadata": {},
   "source": [
    "## **Dictionary**"
   ]
  },
  {
   "cell_type": "code",
   "execution_count": 110,
   "metadata": {},
   "outputs": [
    {
     "name": "stdout",
     "output_type": "stream",
     "text": [
      "Name: John\n",
      "Updated dictionary: {'name': 'John', 'age': 31, 'email': 'john@example.com'}\n"
     ]
    }
   ],
   "source": [
    "# Create a dictionary\n",
    "my_dict = {\n",
    "    \"name\": \"John\",\n",
    "    \"age\": 30,\n",
    "    \"city\": \"New York\"\n",
    "}\n",
    "\n",
    "# Create (C): Add a new key-value pair\n",
    "my_dict[\"email\"] = \"john@example.com\"\n",
    "\n",
    "# Read (R): Access the value associated with a key\n",
    "print(\"Name:\", my_dict[\"name\"])\n",
    "\n",
    "# Update (U): Update the value associated with a key\n",
    "my_dict[\"age\"] = 31\n",
    "\n",
    "# Delete (D): Remove a key-value pair from the dictionary\n",
    "del my_dict[\"city\"]\n",
    "\n",
    "# Alternatively, you can use the pop() method\n",
    "# my_dict.pop(\"city\")\n",
    "\n",
    "print(\"Updated dictionary:\", my_dict)\n"
   ]
  },
  {
   "cell_type": "markdown",
   "metadata": {},
   "source": [
    "1) accept 5 students name and store them in the dictionary by providing keys from 1 to 5 respectively."
   ]
  },
  {
   "cell_type": "code",
   "execution_count": 46,
   "metadata": {},
   "outputs": [
    {
     "name": "stdout",
     "output_type": "stream",
     "text": [
      "{1: 'Harry', 2: 'ron', 3: 'hermanoie', 4: 'dumble', 5: 'hagrid'}\n"
     ]
    }
   ],
   "source": [
    "d1={}\n",
    "\n",
    "for i in range(1,6):\n",
    "    name=input(\"Enter name: \")\n",
    "    d1.update({i:name})\n",
    "    # d1[i]=name\n",
    "    # print(d1)\n",
    "\n",
    "print(d1)"
   ]
  },
  {
   "cell_type": "markdown",
   "metadata": {},
   "source": [
    "\n",
    "\n",
    "2) create a dictionary with pairs\n",
    "\t\n",
    "\tsoap:100\n",
    "\t\n",
    "\tdeo:300\n",
    "\t\n",
    "\tperfume:400\n",
    "\t\n",
    "\tnow accept a product name from user (in any case, so you have to handle \"ignore case\") and display its price. Also , if the product is not present in the dictionary display the error message \" product not available \"\n",
    "\tNote:  you should not get \"KeyError:\" in the program.\n",
    "\n",
    "\n"
   ]
  },
  {
   "cell_type": "code",
   "execution_count": 58,
   "metadata": {},
   "outputs": [
    {
     "name": "stdout",
     "output_type": "stream",
     "text": [
      "The price of deo is: 300\n"
     ]
    }
   ],
   "source": [
    "d1={'soap':100,'deo':300,'perfume':400}\n",
    "in1=input(\"Enter product name: \").casefold()\n",
    "if in1 in d1:\n",
    "    print(f\"The price of {in1} is:\",d1[in1])\n",
    "else:\n",
    "    print(\"Product not available\")\n"
   ]
  },
  {
   "cell_type": "markdown",
   "metadata": {},
   "source": [
    "\n",
    "\n",
    "\n",
    "3) define a class \"Student\" with members\n",
    "\tname,age,address and qualification\n",
    "\t\n",
    "   define parameterized constructor and \"str\" member function which returns all the members\n",
    "\n",
    "   create 4 objects of Student by passing values.\n",
    "   now create a dictionary with rollno ( start from 1 ) as a key and student object as a value. accept a rollno from user and display all its details i.e. name,age,address and qualification. also display message \"student not found\" in case if rollno entered by user is not available as a key inside the dictionary.\n"
   ]
  },
  {
   "cell_type": "code",
   "execution_count": 109,
   "metadata": {},
   "outputs": [
    {
     "name": "stdout",
     "output_type": "stream",
     "text": [
      "Harry\t12\t12th Avenue park\t10th\n"
     ]
    }
   ],
   "source": [
    "class Student:\n",
    "    def __init__(self,name,age,address,qualification):\n",
    "        self.name=name\n",
    "        self.age=age\n",
    "        self.address=address\n",
    "        self.qualification=qualification\n",
    "\n",
    "    def __str__(self):\n",
    "        return self.name+\"\\t\"+str(self.age)+\"\\t\"+self.address+\"\\t\"+self.qualification\n",
    "    \n",
    "    def getname(self):\n",
    "        return self.name\n",
    "    def getage(self):\n",
    "        return self.age\n",
    "    def getaddress(self):\n",
    "        return self.address\n",
    "    def getqualification(self):\n",
    "        return self.qualification\n",
    "    \n",
    "s1=Student(\"Harry\",12,\"12th Avenue park\",'10th')\n",
    "s2=Student(\"Ron\",11,\"66th Royal Palm\",'9th')\n",
    "s3=Student(\"Hermione\",12,\"1st Street Cental park\",'10th')\n",
    "s4=Student(\"Hagrid\",12,\"Residence squrare\",'MS')\n",
    "\n",
    "mydict={1:s1,2:s2,3:s3,4:s4}\n",
    "\n",
    "r1=int(input(\"Enter your rollno: \"))\n",
    "if r1 in mydict:\n",
    "    print(mydict.get(r1))\n",
    "else:\n",
    "    print(\"Student not present\")\n",
    "\n"
   ]
  },
  {
   "cell_type": "markdown",
   "metadata": {},
   "source": [
    "\n",
    "4)  Given a dictionary of students and their favourite colours: \n",
    "people={'Arham':'Blue','Lisa':'Yellow',''Vinod:'Purple','Jenny':'Pink'} \n",
    "    1. Find out how many students are in the list \n",
    "    2. Change Lisa’s favourite colour \n",
    "    3. Remove 'Jenny' and her favourite color\n",
    "    4. Sort and print students and their favourite colours alphabetically by name\n",
    "\n",
    "\n"
   ]
  },
  {
   "cell_type": "code",
   "execution_count": 90,
   "metadata": {},
   "outputs": [
    {
     "name": "stdout",
     "output_type": "stream",
     "text": [
      "There are 4 students\n",
      "New Fav color of Lisa is Red\n",
      "{'Arham': 'Blue', 'Lisa': 'Red', 'Vinod': 'Purple'}\n"
     ]
    }
   ],
   "source": [
    "people={'Arham':'Blue','Lisa':'Yellow','Vinod':'Purple','Jenny':'Pink'} \n",
    "print(\"There are\",people.__len__(),\"students\")\n",
    "people['Lisa']='Red'\n",
    "print(\"New Fav color of Lisa is\",people['Lisa'])\n",
    "del people['Jenny']\n",
    "print(people)"
   ]
  },
  {
   "cell_type": "markdown",
   "metadata": {},
   "source": [
    "## **Set**"
   ]
  },
  {
   "cell_type": "markdown",
   "metadata": {},
   "source": [
    "1) accept 10 values from user and add them inside the set. now accept one more value from user and if it is present in the set, remove it. Make sure program doesn't give any error if number is not there inside the set.\n"
   ]
  },
  {
   "cell_type": "code",
   "execution_count": 8,
   "metadata": {},
   "outputs": [
    {
     "name": "stdout",
     "output_type": "stream",
     "text": [
      "<class 'set'>\n",
      "{1, 2, 3, 4, 5, 6, 7, 8, 9, 10}\n",
      "{1, 2, 3, 4, 5, 6, 7, 8, 9, 10}\n"
     ]
    }
   ],
   "source": [
    "s1et=set({})\n",
    "print(type(s1et))\n",
    "for i in range(10):\n",
    "    n1=int(input(\"Enter no: \"))\n",
    "    s1et.add(n1)\n",
    "print(s1et)\n",
    "n=int(input(\"Enter another no: \"))\n",
    "if n in s1et:\n",
    "    s1et.remove(n)\n",
    "print(s1et)"
   ]
  },
  {
   "cell_type": "markdown",
   "metadata": {},
   "source": [
    "## **String**"
   ]
  },
  {
   "cell_type": "markdown",
   "metadata": {},
   "source": [
    "1) accept a string and display whether it is palindrom or not.\n"
   ]
  },
  {
   "cell_type": "code",
   "execution_count": 13,
   "metadata": {},
   "outputs": [
    {
     "name": "stdout",
     "output_type": "stream",
     "text": [
      "It is Palindrom\n"
     ]
    }
   ],
   "source": [
    "s1=input(\"Enter string: \").casefold()\n",
    "if s1 == s1[::-1]:\n",
    "    print(\"It is Palindrom\")\n",
    "else:\n",
    "    print(\"It is not Palindrome\")"
   ]
  },
  {
   "cell_type": "markdown",
   "metadata": {},
   "source": [
    "\n",
    "\n",
    "\n",
    "2) accept a string and display it. now accept slicing positions from and to , slice the string and display it.\n"
   ]
  },
  {
   "cell_type": "code",
   "execution_count": 17,
   "metadata": {},
   "outputs": [
    {
     "name": "stdout",
     "output_type": "stream",
     "text": [
      "Shivaji\n"
     ]
    }
   ],
   "source": [
    "str=input(\"Enter string: \")\n",
    "print(str)\n",
    "n1=int(input(\"Slicing from: \"))\n",
    "n2=int(input(\"Slicing till: \"))\n",
    "print(str[n1-1:n2])"
   ]
  },
  {
   "cell_type": "markdown",
   "metadata": {},
   "source": [
    "\n",
    "3) accept a string and display how many vowel characters are there inside it.\n"
   ]
  },
  {
   "cell_type": "code",
   "execution_count": 24,
   "metadata": {},
   "outputs": [
    {
     "name": "stdout",
     "output_type": "stream",
     "text": [
      "pranesh\n",
      "There are 2 in string\n"
     ]
    }
   ],
   "source": [
    "# s1 = input(\"Enter string: \")\n",
    "# vowels = 'aeiouAEIOU'\n",
    "# count = sum(1 for char in s1 if char in vowels)\n",
    "# print(f\"There are {count} vowels in this string\")\n",
    "\n",
    "vowe=['a','e','i','o','u']\n",
    "str=input(\"Enter string: \").casefold()\n",
    "print(str)\n",
    "novowel=0\n",
    "for i in str:\n",
    "    if i in vowe:\n",
    "        novowel+=1\n",
    "\n",
    "print(f\"There are {novowel} in string\")"
   ]
  },
  {
   "cell_type": "markdown",
   "metadata": {},
   "source": [
    "4) accept a string and display the characters which are repeated in the string\n"
   ]
  },
  {
   "cell_type": "code",
   "execution_count": 67,
   "metadata": {},
   "outputs": [
    {
     "name": "stdout",
     "output_type": "stream",
     "text": [
      "ze\n"
     ]
    }
   ],
   "source": [
    "from collections import Counter\n",
    "a = input(\"Enter string: \")\n",
    "b = Counter(a)\n",
    "# print(b)\n",
    "str = ''\n",
    "for i,j in b.items():\n",
    "    if j > 1:\n",
    "        str+=i\n",
    "\n",
    "print(str)"
   ]
  },
  {
   "cell_type": "code",
   "execution_count": 63,
   "metadata": {},
   "outputs": [
    {
     "name": "stdout",
     "output_type": "stream",
     "text": [
      "Repeated characters: p, i, r, t, a\n"
     ]
    }
   ],
   "source": [
    "# Accept input string from the user\n",
    "input_string = input(\"Enter a string: \")\n",
    "\n",
    "# Initialize an empty set to store repeated characters\n",
    "repeated_characters = set()\n",
    "# Initialize an empty set to store characters seen so far\n",
    "seen_characters = set()\n",
    "\n",
    "# Iterate through each character in the input string\n",
    "for char in input_string:\n",
    "    # Check if the character has been seen before\n",
    "    if char in seen_characters:\n",
    "        # If yes, add it to the set of repeated characters\n",
    "        repeated_characters.add(char)\n",
    "    else:\n",
    "        # If not, add it to the set of seen characters\n",
    "        seen_characters.add(char)\n",
    "\n",
    "# Display the repeated characters\n",
    "if repeated_characters:\n",
    "    print(\"Repeated characters:\", ', '.join(repeated_characters))\n",
    "else:\n",
    "    print(\"No repeated characters found in the string.\")\n"
   ]
  },
  {
   "cell_type": "code",
   "execution_count": 62,
   "metadata": {},
   "outputs": [
    {
     "name": "stdout",
     "output_type": "stream",
     "text": [
      "arpitpraarpit\n"
     ]
    }
   ],
   "source": [
    "str=input(\"Enter string: \")\n",
    "strlis=list(str)\n",
    "newlis=''\n",
    "for i in strlis:\n",
    "    if strlis.count(i)>1:\n",
    "        newlis+=i\n",
    "        # print(newlis,\"newstring\")\n",
    "        # print(i)\n",
    "\n",
    "print(newlis)\n",
    "# for i in newlis:\n",
    "#     print(\"new\",newlis[i])"
   ]
  },
  {
   "cell_type": "markdown",
   "metadata": {},
   "source": [
    "\n",
    "\n",
    "5) accept a string and find out how many words are there in it.\n"
   ]
  },
  {
   "cell_type": "code",
   "execution_count": 80,
   "metadata": {},
   "outputs": [
    {
     "name": "stdout",
     "output_type": "stream",
     "text": [
      "['hwllo', 'world', 'is']\n",
      "There are 3 words in the string\n"
     ]
    }
   ],
   "source": [
    "st=input(\"Enter string: \").split(\" \")\n",
    "\n",
    "print(st)\n",
    "print(\"There are\",st.__len__(),\"words in the string\")\n"
   ]
  },
  {
   "cell_type": "markdown",
   "metadata": {},
   "source": [
    "\n",
    "\n",
    "6) accept a sentence and reverse it.\n",
    "\te.g.  hello world\n",
    "\t\tworld hello\n"
   ]
  },
  {
   "cell_type": "code",
   "execution_count": 88,
   "metadata": {},
   "outputs": [
    {
     "name": "stdout",
     "output_type": "stream",
     "text": [
      "['world', 'hello']\n",
      "world hello "
     ]
    }
   ],
   "source": [
    "st1=input(\"Enter string: \").split(\" \")\n",
    "myslit=st1[::-1]\n",
    "for i in range(0,myslit.__len__()):\n",
    "    print(myslit[i],end=\" \")\n"
   ]
  },
  {
   "cell_type": "markdown",
   "metadata": {},
   "source": [
    "\n",
    "\n",
    "\n",
    "\n",
    "7) A pangram is a sentence that contains all the alphabets.\n",
    "example: The quick brown fox jumps over the lazy dog. Your task here is to write a function to check a sentence to see if it is a pangram or not.\n",
    "\n",
    "\n"
   ]
  },
  {
   "cell_type": "markdown",
   "metadata": {},
   "source": [
    "## **List-Dictionary**"
   ]
  },
  {
   "cell_type": "markdown",
   "metadata": {},
   "source": [
    "### **List**"
   ]
  },
  {
   "cell_type": "markdown",
   "metadata": {},
   "source": [
    "1) Write a Python program to find all the values in a list are greater than a specified number.\n"
   ]
  },
  {
   "cell_type": "code",
   "execution_count": 102,
   "metadata": {},
   "outputs": [
    {
     "name": "stdout",
     "output_type": "stream",
     "text": [
      "6 7 "
     ]
    }
   ],
   "source": [
    "l1=[1,2,3,4,5,6,7]\n",
    "ch=int(input(\"Enter int to give u no greater: \"))\n",
    "for i in l1:\n",
    "    if l1[i-1] > ch:\n",
    "        print(i,end=\" \")"
   ]
  },
  {
   "cell_type": "markdown",
   "metadata": {},
   "source": [
    "2) Write a Python program to find the list of words that are longer than n from a given list of words.\n"
   ]
  },
  {
   "cell_type": "code",
   "execution_count": null,
   "metadata": {},
   "outputs": [],
   "source": []
  },
  {
   "cell_type": "markdown",
   "metadata": {},
   "source": [
    "\n",
    "3) Write a Python program to get the largest number from a list.\n"
   ]
  },
  {
   "cell_type": "markdown",
   "metadata": {},
   "source": [
    "\n",
    "4) Write a Python program to count the number of strings where the string length is 2 or more and the first and last character are same from a given list of strings. \n",
    "Sample List : ['abc', 'xyz', 'aba', '1221'] \"\"\"\n",
    "\n",
    "\toutput\n",
    "\t\t\n",
    "\t\taba      1221\n"
   ]
  },
  {
   "cell_type": "markdown",
   "metadata": {},
   "source": [
    "\n",
    "5) Write a Python program to multiply all the items in a list.\n"
   ]
  },
  {
   "cell_type": "markdown",
   "metadata": {},
   "source": [
    "\n",
    "6) Write a Python program to print a specified list after removing the 0th, 4th and 5th elements. \n",
    "Sample List : ['Red', 'Green', 'White', 'Black', 'Pink', 'Yellow']\n",
    "Expected Output : ['Green', 'White', 'Black'] \"\"\"\n"
   ]
  },
  {
   "cell_type": "markdown",
   "metadata": {},
   "source": [
    "\n",
    "7) Write a Python program to print the numbers of a specified list after removing even numbers from it.\n"
   ]
  },
  {
   "cell_type": "markdown",
   "metadata": {},
   "source": [
    "\n",
    "8) Write a Python program access the index of a list.\n",
    "\toutput : all the elements along with their index\n"
   ]
  },
  {
   "cell_type": "markdown",
   "metadata": {},
   "source": [
    "\n",
    "9) Write a Python program to check a list is empty or not\n"
   ]
  },
  {
   "cell_type": "markdown",
   "metadata": {},
   "source": [
    "\n",
    "10) Write a Python program to check whether the n-th element exists in a given list.\n"
   ]
  },
  {
   "cell_type": "markdown",
   "metadata": {},
   "source": [
    "\n",
    "11) Write a Python program to clone or copy a list\n"
   ]
  },
  {
   "cell_type": "markdown",
   "metadata": {},
   "source": [
    "\n",
    "12) Write a Python program to convert list to list of dictionaries. \n",
    "Sample lists: [\"Black\", \"Red\", \"Maroon\", \"Yellow\"], [\"#000000\", \"#FF0000\", \"#800000\", \"#FFFF00\"]\n",
    "Expected Output: [{'color_name': 'Black', 'color_code': '#000000'}, {'color_name': 'Red', 'color_code': '#FF0000'}, {'color_name': 'Maroon', 'color_code': '#800000'}, {'color_name': 'Yellow', 'color_code': '#FFFF00'}]\n",
    " \"\"\"\n"
   ]
  },
  {
   "cell_type": "markdown",
   "metadata": {},
   "source": [
    "\n",
    "13) Write a Python program to find the index of an item in a specified list.\n"
   ]
  },
  {
   "cell_type": "markdown",
   "metadata": {},
   "source": [
    "\n",
    "14) Write a Python program to insert a given string at the beginning of all items in a list. \n",
    "Sample list : [1,2,3,4], string : emp\n",
    "Expected output : ['emp1', 'emp2', 'emp3', 'emp4']\n"
   ]
  },
  {
   "cell_type": "markdown",
   "metadata": {},
   "source": [
    "\n",
    "15) Write a Python program to iterate over two lists simultaneously. \n"
   ]
  },
  {
   "cell_type": "markdown",
   "metadata": {},
   "source": [
    "\n",
    "16) Write a Python program to print a nested lists (each list on a new line) using the print() function.\n"
   ]
  },
  {
   "cell_type": "markdown",
   "metadata": {},
   "source": [
    "\n",
    "17) Write a Python program to remove duplicates from a list.\n"
   ]
  },
  {
   "cell_type": "markdown",
   "metadata": {},
   "source": [
    "\n",
    "18) Write a Python program to replace the last element in a list with another list. \n",
    "Sample data : [1, 3, 5, 7, 9, 10], [2, 4, 6, 8]\n",
    "Expected Output: [1, 3, 5, 7, 9, 2, 4, 6, 8]\n"
   ]
  },
  {
   "cell_type": "markdown",
   "metadata": {},
   "source": [
    "\n",
    "19) Write a Python function that takes two lists and returns True if they have at least one common member. \n",
    "\n"
   ]
  },
  {
   "cell_type": "markdown",
   "metadata": {},
   "source": [
    "### **Dictionary**"
   ]
  },
  {
   "cell_type": "markdown",
   "metadata": {},
   "source": [
    "1) Write a Python program to create a dictionary of keys x, y, and z \n",
    "where each key has as value a list from 11-20, 21-30, and 31-40 respectively. \n",
    "Access the fifth value of each key from the dictionary. \n",
    "{'x': [11, 12, 13, 14, 15, 16, 17, 18, 19],\n",
    "'y': [21, 22, 23, 24, 25, 26, 27, 28, 29],\n",
    "'z': [31, 32, 33, 34, 35, 36, 37, 38, 39]}\n",
    "15\n",
    "25\n",
    "35\n",
    "\n",
    "2) Write a Python script to add a key to a dictionary. \n",
    "Sample Dictionary : {0: 10, 1: 20}\n",
    "Expected Result : {0: 10, 1: 20, 2: 30}\n",
    "\n",
    "3) Write a Python script to check whether a given key already exists in a dictionary. \n",
    "\n",
    "4) Write a Python program to count the values associated with key in a dictionary. \n",
    "Sample data: = [{'id': 1, 'success': True, 'name': 'Lary'}, {'id': 2, 'success': False, 'name': 'Rabi'}, {'id': 3, 'success': True, 'name': 'Alex'}]\n",
    "Expected result: Count of how many dictionaries have success as True\n",
    "\n",
    "5) Write a Python program to create a dictionary from two lists without losing duplicate values. \n",
    "Sample lists: ['Class-V', 'Class-VI', 'Class-VII', 'Class-VIII'], [1, 2, 2, 3]\n",
    "Expected Output: {'Class-VII': {2}, 'Class-VI': {2}, 'Class-VIII': {3}, 'Class-V': {1}}) \n",
    "\n",
    "6) Write a Python program to check a dictionary is empty or not.\n",
    "\n",
    "7) Write a Python program to combine two dictionary adding values for common keys. \n",
    "d1 = {'a': 100, 'b': 200, 'c':300}\n",
    "d2 = {'a': 300, 'b': 200, 'd':400}\n",
    "Sample output: Counter({'a': 400, 'b': 400, 'd': 400, 'c': 300}) \n",
    "\n",
    "8) Write a Python program to count number of items in a dictionary value that is a list\n",
    "\n",
    "sample data:\n",
    "\n",
    "mydictionary1={'Names':['Rohit','Ganesh','SRK','Akshay'],'age':40,'addresses':['Mumbai','Delhi','Kolkara','Banglore'],'emails':['actor.gmail.com','movie.gmail.com']}\n",
    "\n",
    "output: 10\n",
    "\n",
    "9) Write a Python program to create a dictionary from a string. \n",
    "Note: Track the count of the letters from the string.\n",
    "Sample string : 'w3resource'\n",
    "Expected output: {'3': 1, 's': 1, 'r': 2, 'u': 1, 'w': 1, 'c': 1, 'e': 2, 'o': 1}\n",
    "\n",
    "10) Write a Python program to get the key, value and item in a dictionary\n",
    "\n",
    "e.g.\n",
    "mydictionary={1:'xyz',3:'abc',5:'pqr',2:'xzz'}\n",
    "\n",
    "output :\n",
    "\tkey     value   \n",
    "\t\ttotal items are 4\n",
    "\n",
    "\n",
    "11) Write a Python program to get the maximum and minimum value in a dictionary.\n",
    "\n",
    "12) Write a Python program to map two lists into a dictionary. \n",
    "\n",
    "e.g. \n",
    "given\n",
    "prnnos=[1,2,3,4,5,6]\n",
    "names=['abc','def','pqr','lmn','xyz','uvw']\n",
    "\n",
    "output:\n",
    "{1: 'abc', 2: 'def', 3: 'pqr', 4: 'lmn', 5: 'xyz', 6: 'uvw'}\n",
    "\n",
    "13) Write a Python program to match key values in two dictionaries. \n",
    "Sample dictionary: {'key1': 1, 'key2': 3, 'key3': 2}, {'key1': 1, 'key2': 2}\n",
    "Expected output: key1: 1 is present in both x and y\n",
    "\n",
    "14)  Write a Python program to print a dictionary line by line. \n",
    "\n",
    "Players={'Rohit':{'runs':10000,'centuries':15},'Virat':{'runs':12000,'centuries':18}}\n",
    "\n",
    "expected output:\n",
    "\n",
    "Rohit\n",
    "runs :\t 10000\n",
    "centuries :\t 15\n",
    "Virat\n",
    "runs :\t 12000\n",
    "centuries :\t 18\n",
    "\n",
    "\n",
    "15) Write a Python program to remove a key from a dictionary.\n",
    "\n",
    "16) Write a Python program to remove spaces from dictionary keys. \n",
    "\n",
    "Students={'d 01':'Abc','d 0 2':'Xyz','d0 3':'Pqr'}\n",
    "\n",
    "output:\n",
    "\n",
    "{'d01': 'Abc', 'd02': 'Xyz', 'd03': 'Pqr'}\n",
    "\n",
    "17) Write a Python program to sum all the items in a dictionary. \n",
    "\n",
    "18) Write a Python script to merge two Python dictionaries. \n",
    "\n",
    "mydictionary1={1: 1, 2: 4, 3: 9, 4: 16, 5: 25, 6: 36}\n",
    "mydictionary2={7: 49, 8: 64, 9: 81, 10: 100, 11: 121, 12: 144}\n",
    "\n",
    "output:\n",
    "\n",
    "{1: 1, 2: 4, 3: 9, 4: 16, 5: 25, 6: 36, 7: 49, 8: 64, 9: 81, 10: 100, 11: 121, 12: 144}\n",
    "\n",
    "19) Write a Python script to concatenate following dictionaries to create a new one. \n",
    "Sample Dictionary :\n",
    "dic1={1:10, 2:20}\n",
    "dic2={3:30, 4:40}\n",
    "dic3={5:50,6:60}\n",
    "Expected Result : {1: 10, 2: 20, 3: 30, 4: 40, 5: 50, 6: 60}\n",
    "\n"
   ]
  },
  {
   "cell_type": "markdown",
   "metadata": {},
   "source": []
  }
 ],
 "metadata": {
  "kernelspec": {
   "display_name": "Python 3",
   "language": "python",
   "name": "python3"
  },
  "language_info": {
   "codemirror_mode": {
    "name": "ipython",
    "version": 3
   },
   "file_extension": ".py",
   "mimetype": "text/x-python",
   "name": "python",
   "nbconvert_exporter": "python",
   "pygments_lexer": "ipython3",
   "version": "3.12.2"
  }
 },
 "nbformat": 4,
 "nbformat_minor": 2
}
